{
 "cells": [
  {
   "cell_type": "markdown",
   "metadata": {
    "id": "HWqt3W2bVbas"
   },
   "source": [
    "# Import Packages"
   ]
  },
  {
   "cell_type": "code",
   "execution_count": 140,
   "metadata": {
    "executionInfo": {
     "elapsed": 528,
     "status": "ok",
     "timestamp": 1732867409935,
     "user": {
      "displayName": "Himanshu Arora",
      "userId": "03026800847751892488"
     },
     "user_tz": -330
    },
    "id": "Kje27pyKIlRO"
   },
   "outputs": [],
   "source": [
    "import numpy as np\n",
    "import pandas as pd\n",
    "import data_clean_utils\n",
    "from sklearn.pipeline import Pipeline\n",
    "from sklearn.compose import ColumnTransformer\n",
    "from sklearn.impute import SimpleImputer, KNNImputer, MissingIndicator\n",
    "from sklearn.preprocessing import OneHotEncoder, StandardScaler, LabelEncoder, MinMaxScaler, PowerTransformer, OrdinalEncoder\n",
    "from sklearn.model_selection import train_test_split"
   ]
  },
  {
   "cell_type": "code",
   "execution_count": null,
   "metadata": {},
   "outputs": [],
   "source": [
    "\n"
   ]
  },
  {
   "cell_type": "code",
   "execution_count": 143,
   "metadata": {
    "colab": {
     "base_uri": "https://localhost:8080/"
    },
    "executionInfo": {
     "elapsed": 10185,
     "status": "ok",
     "timestamp": 1732867420855,
     "user": {
      "displayName": "Himanshu Arora",
      "userId": "03026800847751892488"
     },
     "user_tz": -330
    },
    "id": "l1BDtKmaX10z",
    "outputId": "cc7b19e1-c1d7-4f7a-d3be-f4a18a0a2650"
   },
   "outputs": [
    {
     "name": "stdout",
     "output_type": "stream",
     "text": [
      "Requirement already satisfied: dagshub in c:\\users\\laxmikant\\anaconda3\\lib\\site-packages (0.6.3)\n",
      "Requirement already satisfied: PyYAML>=5 in c:\\users\\laxmikant\\anaconda3\\lib\\site-packages (from dagshub) (6.0.1)\n",
      "Requirement already satisfied: appdirs>=1.4.4 in c:\\users\\laxmikant\\anaconda3\\lib\\site-packages (from dagshub) (1.4.4)\n",
      "Requirement already satisfied: click>=8.0.4 in c:\\users\\laxmikant\\anaconda3\\lib\\site-packages (from dagshub) (8.1.7)\n",
      "Requirement already satisfied: httpx>=0.23.0 in c:\\users\\laxmikant\\anaconda3\\lib\\site-packages (from dagshub) (0.28.1)\n",
      "Requirement already satisfied: GitPython>=3.1.29 in c:\\users\\laxmikant\\anaconda3\\lib\\site-packages (from dagshub) (3.1.37)\n",
      "Requirement already satisfied: rich>=13.1.0 in c:\\users\\laxmikant\\anaconda3\\lib\\site-packages (from dagshub) (14.2.0)\n",
      "Requirement already satisfied: dacite~=1.6.0 in c:\\users\\laxmikant\\anaconda3\\lib\\site-packages (from dagshub) (1.6.0)\n",
      "Requirement already satisfied: tenacity>=8.2.2 in c:\\users\\laxmikant\\anaconda3\\lib\\site-packages (from dagshub) (8.2.2)\n",
      "Requirement already satisfied: gql[requests] in c:\\users\\laxmikant\\anaconda3\\lib\\site-packages (from dagshub) (4.0.0)\n",
      "Requirement already satisfied: dataclasses-json in c:\\users\\laxmikant\\anaconda3\\lib\\site-packages (from dagshub) (0.6.7)\n",
      "Requirement already satisfied: pandas in c:\\users\\laxmikant\\anaconda3\\lib\\site-packages (from dagshub) (2.2.2)\n",
      "Requirement already satisfied: treelib>=1.6.4 in c:\\users\\laxmikant\\anaconda3\\lib\\site-packages (from dagshub) (1.8.0)\n",
      "Requirement already satisfied: pathvalidate>=3.0.0 in c:\\users\\laxmikant\\anaconda3\\lib\\site-packages (from dagshub) (3.3.1)\n",
      "Requirement already satisfied: python-dateutil in c:\\users\\laxmikant\\anaconda3\\lib\\site-packages (from dagshub) (2.9.0.post0)\n",
      "Requirement already satisfied: boto3 in c:\\users\\laxmikant\\anaconda3\\lib\\site-packages (from dagshub) (1.40.50)\n",
      "Requirement already satisfied: semver in c:\\users\\laxmikant\\anaconda3\\lib\\site-packages (from dagshub) (3.0.2)\n",
      "Requirement already satisfied: dagshub-annotation-converter>=0.1.12 in c:\\users\\laxmikant\\anaconda3\\lib\\site-packages (from dagshub) (0.1.13)\n",
      "Requirement already satisfied: colorama in c:\\users\\laxmikant\\anaconda3\\lib\\site-packages (from click>=8.0.4->dagshub) (0.4.6)\n",
      "Requirement already satisfied: lxml in c:\\users\\laxmikant\\anaconda3\\lib\\site-packages (from dagshub-annotation-converter>=0.1.12->dagshub) (5.2.1)\n",
      "Requirement already satisfied: pillow in c:\\users\\laxmikant\\anaconda3\\lib\\site-packages (from dagshub-annotation-converter>=0.1.12->dagshub) (10.3.0)\n",
      "Requirement already satisfied: pydantic>=2.0.0 in c:\\users\\laxmikant\\anaconda3\\lib\\site-packages (from dagshub-annotation-converter>=0.1.12->dagshub) (2.12.0)\n",
      "Requirement already satisfied: typing-extensions in c:\\users\\laxmikant\\anaconda3\\lib\\site-packages (from dagshub-annotation-converter>=0.1.12->dagshub) (4.15.0)\n",
      "Requirement already satisfied: gitdb<5,>=4.0.1 in c:\\users\\laxmikant\\anaconda3\\lib\\site-packages (from GitPython>=3.1.29->dagshub) (4.0.7)\n",
      "Requirement already satisfied: anyio in c:\\users\\laxmikant\\anaconda3\\lib\\site-packages (from httpx>=0.23.0->dagshub) (4.11.0)\n",
      "Requirement already satisfied: certifi in c:\\users\\laxmikant\\anaconda3\\lib\\site-packages (from httpx>=0.23.0->dagshub) (2025.4.26)\n",
      "Requirement already satisfied: httpcore==1.* in c:\\users\\laxmikant\\anaconda3\\lib\\site-packages (from httpx>=0.23.0->dagshub) (1.0.2)\n",
      "Requirement already satisfied: idna in c:\\users\\laxmikant\\anaconda3\\lib\\site-packages (from httpx>=0.23.0->dagshub) (3.7)\n",
      "Requirement already satisfied: h11<0.15,>=0.13 in c:\\users\\laxmikant\\anaconda3\\lib\\site-packages (from httpcore==1.*->httpx>=0.23.0->dagshub) (0.14.0)\n",
      "Requirement already satisfied: markdown-it-py>=2.2.0 in c:\\users\\laxmikant\\anaconda3\\lib\\site-packages (from rich>=13.1.0->dagshub) (2.2.0)\n",
      "Requirement already satisfied: pygments<3.0.0,>=2.13.0 in c:\\users\\laxmikant\\anaconda3\\lib\\site-packages (from rich>=13.1.0->dagshub) (2.15.1)\n",
      "Requirement already satisfied: six>=1.13.0 in c:\\users\\laxmikant\\anaconda3\\lib\\site-packages (from treelib>=1.6.4->dagshub) (1.16.0)\n",
      "Requirement already satisfied: botocore<1.41.0,>=1.40.50 in c:\\users\\laxmikant\\anaconda3\\lib\\site-packages (from boto3->dagshub) (1.40.50)\n",
      "Requirement already satisfied: jmespath<2.0.0,>=0.7.1 in c:\\users\\laxmikant\\anaconda3\\lib\\site-packages (from boto3->dagshub) (1.0.1)\n",
      "Requirement already satisfied: s3transfer<0.15.0,>=0.14.0 in c:\\users\\laxmikant\\anaconda3\\lib\\site-packages (from boto3->dagshub) (0.14.0)\n",
      "Requirement already satisfied: marshmallow<4.0.0,>=3.18.0 in c:\\users\\laxmikant\\anaconda3\\lib\\site-packages (from dataclasses-json->dagshub) (3.26.1)\n",
      "Requirement already satisfied: typing-inspect<1,>=0.4.0 in c:\\users\\laxmikant\\anaconda3\\lib\\site-packages (from dataclasses-json->dagshub) (0.9.0)\n",
      "Requirement already satisfied: graphql-core<3.3,>=3.2 in c:\\users\\laxmikant\\anaconda3\\lib\\site-packages (from gql[requests]->dagshub) (3.2.6)\n",
      "Requirement already satisfied: yarl<2.0,>=1.6 in c:\\users\\laxmikant\\anaconda3\\lib\\site-packages (from gql[requests]->dagshub) (1.9.3)\n",
      "Requirement already satisfied: backoff<3.0,>=1.11.1 in c:\\users\\laxmikant\\anaconda3\\lib\\site-packages (from gql[requests]->dagshub) (2.2.1)\n",
      "Requirement already satisfied: requests<3,>=2.26 in c:\\users\\laxmikant\\anaconda3\\lib\\site-packages (from gql[requests]->dagshub) (2.32.2)\n",
      "Requirement already satisfied: requests_toolbelt<2,>=1.0.0 in c:\\users\\laxmikant\\anaconda3\\lib\\site-packages (from gql[requests]->dagshub) (1.0.0)\n",
      "Requirement already satisfied: numpy>=1.26.0 in c:\\users\\laxmikant\\anaconda3\\lib\\site-packages (from pandas->dagshub) (1.26.4)\n",
      "Requirement already satisfied: pytz>=2020.1 in c:\\users\\laxmikant\\anaconda3\\lib\\site-packages (from pandas->dagshub) (2024.1)\n",
      "Requirement already satisfied: tzdata>=2022.7 in c:\\users\\laxmikant\\anaconda3\\lib\\site-packages (from pandas->dagshub) (2025.2)\n",
      "Requirement already satisfied: sniffio>=1.1 in c:\\users\\laxmikant\\anaconda3\\lib\\site-packages (from anyio->httpx>=0.23.0->dagshub) (1.3.0)\n",
      "Requirement already satisfied: urllib3!=2.2.0,<3,>=1.25.4 in c:\\users\\laxmikant\\anaconda3\\lib\\site-packages (from botocore<1.41.0,>=1.40.50->boto3->dagshub) (2.0.7)\n",
      "Requirement already satisfied: smmap<5,>=3.0.1 in c:\\users\\laxmikant\\anaconda3\\lib\\site-packages (from gitdb<5,>=4.0.1->GitPython>=3.1.29->dagshub) (4.0.0)\n",
      "Requirement already satisfied: mdurl~=0.1 in c:\\users\\laxmikant\\anaconda3\\lib\\site-packages (from markdown-it-py>=2.2.0->rich>=13.1.0->dagshub) (0.1.0)\n",
      "Requirement already satisfied: packaging>=17.0 in c:\\users\\laxmikant\\anaconda3\\lib\\site-packages (from marshmallow<4.0.0,>=3.18.0->dataclasses-json->dagshub) (23.2)\n",
      "Requirement already satisfied: annotated-types>=0.6.0 in c:\\users\\laxmikant\\anaconda3\\lib\\site-packages (from pydantic>=2.0.0->dagshub-annotation-converter>=0.1.12->dagshub) (0.6.0)\n",
      "Requirement already satisfied: pydantic-core==2.41.1 in c:\\users\\laxmikant\\anaconda3\\lib\\site-packages (from pydantic>=2.0.0->dagshub-annotation-converter>=0.1.12->dagshub) (2.41.1)\n",
      "Requirement already satisfied: typing-inspection>=0.4.2 in c:\\users\\laxmikant\\anaconda3\\lib\\site-packages (from pydantic>=2.0.0->dagshub-annotation-converter>=0.1.12->dagshub) (0.4.2)\n",
      "Requirement already satisfied: charset-normalizer<4,>=2 in c:\\users\\laxmikant\\anaconda3\\lib\\site-packages (from requests<3,>=2.26->gql[requests]->dagshub) (2.0.4)\n",
      "Requirement already satisfied: mypy-extensions>=0.3.0 in c:\\users\\laxmikant\\anaconda3\\lib\\site-packages (from typing-inspect<1,>=0.4.0->dataclasses-json->dagshub) (1.0.0)\n",
      "Requirement already satisfied: multidict>=4.0 in c:\\users\\laxmikant\\anaconda3\\lib\\site-packages (from yarl<2.0,>=1.6->gql[requests]->dagshub) (6.0.4)\n",
      "Note: you may need to restart the kernel to use updated packages.\n"
     ]
    }
   ],
   "source": [
    "pip install dagshub --upgrade"
   ]
  },
  {
   "cell_type": "code",
   "execution_count": 144,
   "metadata": {
    "colab": {
     "base_uri": "https://localhost:8080/",
     "height": 51
    },
    "executionInfo": {
     "elapsed": 23,
     "status": "ok",
     "timestamp": 1732867420856,
     "user": {
      "displayName": "Himanshu Arora",
      "userId": "03026800847751892488"
     },
     "user_tz": -330
    },
    "id": "rzbQ4vlqX2Wi",
    "outputId": "bec51704-6686-40f9-c0b9-7618d62ccb06"
   },
   "outputs": [
    {
     "data": {
      "text/html": [
       "<pre style=\"white-space:pre;overflow-x:auto;line-height:normal;font-family:Menlo,'DejaVu Sans Mono',consolas,'Courier New',monospace\">Initialized MLflow to track repo <span style=\"color: #008000; text-decoration-color: #008000\">\"laxmikantbabaleshwar07/zomato-swiggy-delivery-time-prediction\"</span>\n",
       "</pre>\n"
      ],
      "text/plain": [
       "Initialized MLflow to track repo \u001b[32m\"laxmikantbabaleshwar07/zomato-swiggy-delivery-time-prediction\"\u001b[0m\n"
      ]
     },
     "metadata": {},
     "output_type": "display_data"
    },
    {
     "data": {
      "text/html": [
       "<pre style=\"white-space:pre;overflow-x:auto;line-height:normal;font-family:Menlo,'DejaVu Sans Mono',consolas,'Courier New',monospace\">Repository laxmikantbabaleshwar07/zomato-swiggy-delivery-time-prediction initialized!\n",
       "</pre>\n"
      ],
      "text/plain": [
       "Repository laxmikantbabaleshwar07/zomato-swiggy-delivery-time-prediction initialized!\n"
      ]
     },
     "metadata": {},
     "output_type": "display_data"
    }
   ],
   "source": [
    "import dagshub\n",
    "dagshub.init(repo_owner='laxmikantbabaleshwar07', repo_name='zomato-swiggy-delivery-time-prediction', mlflow=True)"
   ]
  },
  {
   "cell_type": "code",
   "execution_count": 145,
   "metadata": {
    "executionInfo": {
     "elapsed": 38,
     "status": "ok",
     "timestamp": 1732867421738,
     "user": {
      "displayName": "Himanshu Arora",
      "userId": "03026800847751892488"
     },
     "user_tz": -330
    },
    "id": "-b9c26rHX8eJ"
   },
   "outputs": [],
   "source": [
    "import mlflow"
   ]
  },
  {
   "cell_type": "code",
   "execution_count": 146,
   "metadata": {
    "executionInfo": {
     "elapsed": 36,
     "status": "ok",
     "timestamp": 1732867421739,
     "user": {
      "displayName": "Himanshu Arora",
      "userId": "03026800847751892488"
     },
     "user_tz": -330
    },
    "id": "on4HXpL1X84_"
   },
   "outputs": [],
   "source": [
    "# set the tracking server\n",
    "\n",
    "mlflow.set_tracking_uri(\"https://dagshub.com/laxmikantbabaleshwar07/zomato-swiggy-delivery-time-prediction.mlflow\")"
   ]
  },
  {
   "cell_type": "code",
   "execution_count": 147,
   "metadata": {
    "colab": {
     "base_uri": "https://localhost:8080/"
    },
    "executionInfo": {
     "elapsed": 35,
     "status": "ok",
     "timestamp": 1732867421740,
     "user": {
      "displayName": "Himanshu Arora",
      "userId": "03026800847751892488"
     },
     "user_tz": -330
    },
    "id": "_MfNt_r6X_T7",
    "outputId": "2b6d7428-3640-4530-c7e4-09dab753d7da"
   },
   "outputs": [
    {
     "data": {
      "text/plain": [
       "<Experiment: artifact_location='mlflow-artifacts:/43db7185f45e40499538cd5598d5d10c', creation_time=1760254571794, experiment_id='1', last_update_time=1760254571794, lifecycle_stage='active', name='Exp 2 - Model Selection', tags={}>"
      ]
     },
     "execution_count": 147,
     "metadata": {},
     "output_type": "execute_result"
    }
   ],
   "source": [
    "# mlflow experiment\n",
    "\n",
    "mlflow.set_experiment(\"Exp 2 - Model Selection\")"
   ]
  },
  {
   "cell_type": "code",
   "execution_count": 148,
   "metadata": {
    "executionInfo": {
     "elapsed": 25,
     "status": "ok",
     "timestamp": 1732867421741,
     "user": {
      "displayName": "Himanshu Arora",
      "userId": "03026800847751892488"
     },
     "user_tz": -330
    },
    "id": "r7eob7mfjxgl"
   },
   "outputs": [],
   "source": [
    "from sklearn import set_config\n",
    "\n",
    "set_config(transform_output=\"pandas\")"
   ]
  },
  {
   "cell_type": "markdown",
   "metadata": {
    "id": "1vFGURsDVtnH"
   },
   "source": [
    "# Load the Data"
   ]
  },
  {
   "cell_type": "code",
   "execution_count": 150,
   "metadata": {
    "colab": {
     "base_uri": "https://localhost:8080/",
     "height": 461
    },
    "executionInfo": {
     "elapsed": 564,
     "status": "ok",
     "timestamp": 1732867422282,
     "user": {
      "displayName": "Himanshu Arora",
      "userId": "03026800847751892488"
     },
     "user_tz": -330
    },
    "id": "BVMYEJ2OYjRW",
    "outputId": "ad7a826d-d12a-4e4a-ccf5-a61bc5a65512"
   },
   "outputs": [
    {
     "data": {
      "text/html": [
       "<div>\n",
       "<style scoped>\n",
       "    .dataframe tbody tr th:only-of-type {\n",
       "        vertical-align: middle;\n",
       "    }\n",
       "\n",
       "    .dataframe tbody tr th {\n",
       "        vertical-align: top;\n",
       "    }\n",
       "\n",
       "    .dataframe thead th {\n",
       "        text-align: right;\n",
       "    }\n",
       "</style>\n",
       "<table border=\"1\" class=\"dataframe\">\n",
       "  <thead>\n",
       "    <tr style=\"text-align: right;\">\n",
       "      <th></th>\n",
       "      <th>ID</th>\n",
       "      <th>Delivery_person_ID</th>\n",
       "      <th>Delivery_person_Age</th>\n",
       "      <th>Delivery_person_Ratings</th>\n",
       "      <th>Restaurant_latitude</th>\n",
       "      <th>Restaurant_longitude</th>\n",
       "      <th>Delivery_location_latitude</th>\n",
       "      <th>Delivery_location_longitude</th>\n",
       "      <th>Order_Date</th>\n",
       "      <th>Time_Orderd</th>\n",
       "      <th>Time_Order_picked</th>\n",
       "      <th>Weatherconditions</th>\n",
       "      <th>Road_traffic_density</th>\n",
       "      <th>Vehicle_condition</th>\n",
       "      <th>Type_of_order</th>\n",
       "      <th>Type_of_vehicle</th>\n",
       "      <th>multiple_deliveries</th>\n",
       "      <th>Festival</th>\n",
       "      <th>City</th>\n",
       "      <th>Time_taken(min)</th>\n",
       "    </tr>\n",
       "  </thead>\n",
       "  <tbody>\n",
       "    <tr>\n",
       "      <th>0</th>\n",
       "      <td>0x4607</td>\n",
       "      <td>INDORES13DEL02</td>\n",
       "      <td>37</td>\n",
       "      <td>4.9</td>\n",
       "      <td>22.745049</td>\n",
       "      <td>75.892471</td>\n",
       "      <td>22.765049</td>\n",
       "      <td>75.912471</td>\n",
       "      <td>19-03-2022</td>\n",
       "      <td>11:30:00</td>\n",
       "      <td>11:45:00</td>\n",
       "      <td>conditions Sunny</td>\n",
       "      <td>High</td>\n",
       "      <td>2</td>\n",
       "      <td>Snack</td>\n",
       "      <td>motorcycle</td>\n",
       "      <td>0</td>\n",
       "      <td>No</td>\n",
       "      <td>Urban</td>\n",
       "      <td>(min) 24</td>\n",
       "    </tr>\n",
       "    <tr>\n",
       "      <th>1</th>\n",
       "      <td>0xb379</td>\n",
       "      <td>BANGRES18DEL02</td>\n",
       "      <td>34</td>\n",
       "      <td>4.5</td>\n",
       "      <td>12.913041</td>\n",
       "      <td>77.683237</td>\n",
       "      <td>13.043041</td>\n",
       "      <td>77.813237</td>\n",
       "      <td>25-03-2022</td>\n",
       "      <td>19:45:00</td>\n",
       "      <td>19:50:00</td>\n",
       "      <td>conditions Stormy</td>\n",
       "      <td>Jam</td>\n",
       "      <td>2</td>\n",
       "      <td>Snack</td>\n",
       "      <td>scooter</td>\n",
       "      <td>1</td>\n",
       "      <td>No</td>\n",
       "      <td>Metropolitian</td>\n",
       "      <td>(min) 33</td>\n",
       "    </tr>\n",
       "    <tr>\n",
       "      <th>2</th>\n",
       "      <td>0x5d6d</td>\n",
       "      <td>BANGRES19DEL01</td>\n",
       "      <td>23</td>\n",
       "      <td>4.4</td>\n",
       "      <td>12.914264</td>\n",
       "      <td>77.678400</td>\n",
       "      <td>12.924264</td>\n",
       "      <td>77.688400</td>\n",
       "      <td>19-03-2022</td>\n",
       "      <td>08:30:00</td>\n",
       "      <td>08:45:00</td>\n",
       "      <td>conditions Sandstorms</td>\n",
       "      <td>Low</td>\n",
       "      <td>0</td>\n",
       "      <td>Drinks</td>\n",
       "      <td>motorcycle</td>\n",
       "      <td>1</td>\n",
       "      <td>No</td>\n",
       "      <td>Urban</td>\n",
       "      <td>(min) 26</td>\n",
       "    </tr>\n",
       "    <tr>\n",
       "      <th>3</th>\n",
       "      <td>0x7a6a</td>\n",
       "      <td>COIMBRES13DEL02</td>\n",
       "      <td>38</td>\n",
       "      <td>4.7</td>\n",
       "      <td>11.003669</td>\n",
       "      <td>76.976494</td>\n",
       "      <td>11.053669</td>\n",
       "      <td>77.026494</td>\n",
       "      <td>05-04-2022</td>\n",
       "      <td>18:00:00</td>\n",
       "      <td>18:10:00</td>\n",
       "      <td>conditions Sunny</td>\n",
       "      <td>Medium</td>\n",
       "      <td>0</td>\n",
       "      <td>Buffet</td>\n",
       "      <td>motorcycle</td>\n",
       "      <td>1</td>\n",
       "      <td>No</td>\n",
       "      <td>Metropolitian</td>\n",
       "      <td>(min) 21</td>\n",
       "    </tr>\n",
       "    <tr>\n",
       "      <th>4</th>\n",
       "      <td>0x70a2</td>\n",
       "      <td>CHENRES12DEL01</td>\n",
       "      <td>32</td>\n",
       "      <td>4.6</td>\n",
       "      <td>12.972793</td>\n",
       "      <td>80.249982</td>\n",
       "      <td>13.012793</td>\n",
       "      <td>80.289982</td>\n",
       "      <td>26-03-2022</td>\n",
       "      <td>13:30:00</td>\n",
       "      <td>13:45:00</td>\n",
       "      <td>conditions Cloudy</td>\n",
       "      <td>High</td>\n",
       "      <td>1</td>\n",
       "      <td>Snack</td>\n",
       "      <td>scooter</td>\n",
       "      <td>1</td>\n",
       "      <td>No</td>\n",
       "      <td>Metropolitian</td>\n",
       "      <td>(min) 30</td>\n",
       "    </tr>\n",
       "    <tr>\n",
       "      <th>...</th>\n",
       "      <td>...</td>\n",
       "      <td>...</td>\n",
       "      <td>...</td>\n",
       "      <td>...</td>\n",
       "      <td>...</td>\n",
       "      <td>...</td>\n",
       "      <td>...</td>\n",
       "      <td>...</td>\n",
       "      <td>...</td>\n",
       "      <td>...</td>\n",
       "      <td>...</td>\n",
       "      <td>...</td>\n",
       "      <td>...</td>\n",
       "      <td>...</td>\n",
       "      <td>...</td>\n",
       "      <td>...</td>\n",
       "      <td>...</td>\n",
       "      <td>...</td>\n",
       "      <td>...</td>\n",
       "      <td>...</td>\n",
       "    </tr>\n",
       "    <tr>\n",
       "      <th>45588</th>\n",
       "      <td>0x7c09</td>\n",
       "      <td>JAPRES04DEL01</td>\n",
       "      <td>30</td>\n",
       "      <td>4.8</td>\n",
       "      <td>26.902328</td>\n",
       "      <td>75.794257</td>\n",
       "      <td>26.912328</td>\n",
       "      <td>75.804257</td>\n",
       "      <td>24-03-2022</td>\n",
       "      <td>11:35:00</td>\n",
       "      <td>11:45:00</td>\n",
       "      <td>conditions Windy</td>\n",
       "      <td>High</td>\n",
       "      <td>1</td>\n",
       "      <td>Meal</td>\n",
       "      <td>motorcycle</td>\n",
       "      <td>0</td>\n",
       "      <td>No</td>\n",
       "      <td>Metropolitian</td>\n",
       "      <td>(min) 32</td>\n",
       "    </tr>\n",
       "    <tr>\n",
       "      <th>45589</th>\n",
       "      <td>0xd641</td>\n",
       "      <td>AGRRES16DEL01</td>\n",
       "      <td>21</td>\n",
       "      <td>4.6</td>\n",
       "      <td>0.000000</td>\n",
       "      <td>0.000000</td>\n",
       "      <td>0.070000</td>\n",
       "      <td>0.070000</td>\n",
       "      <td>16-02-2022</td>\n",
       "      <td>19:55:00</td>\n",
       "      <td>20:10:00</td>\n",
       "      <td>conditions Windy</td>\n",
       "      <td>Jam</td>\n",
       "      <td>0</td>\n",
       "      <td>Buffet</td>\n",
       "      <td>motorcycle</td>\n",
       "      <td>1</td>\n",
       "      <td>No</td>\n",
       "      <td>Metropolitian</td>\n",
       "      <td>(min) 36</td>\n",
       "    </tr>\n",
       "    <tr>\n",
       "      <th>45590</th>\n",
       "      <td>0x4f8d</td>\n",
       "      <td>CHENRES08DEL03</td>\n",
       "      <td>30</td>\n",
       "      <td>4.9</td>\n",
       "      <td>13.022394</td>\n",
       "      <td>80.242439</td>\n",
       "      <td>13.052394</td>\n",
       "      <td>80.272439</td>\n",
       "      <td>11-03-2022</td>\n",
       "      <td>23:50:00</td>\n",
       "      <td>00:05:00</td>\n",
       "      <td>conditions Cloudy</td>\n",
       "      <td>Low</td>\n",
       "      <td>1</td>\n",
       "      <td>Drinks</td>\n",
       "      <td>scooter</td>\n",
       "      <td>0</td>\n",
       "      <td>No</td>\n",
       "      <td>Metropolitian</td>\n",
       "      <td>(min) 16</td>\n",
       "    </tr>\n",
       "    <tr>\n",
       "      <th>45591</th>\n",
       "      <td>0x5eee</td>\n",
       "      <td>COIMBRES11DEL01</td>\n",
       "      <td>20</td>\n",
       "      <td>4.7</td>\n",
       "      <td>11.001753</td>\n",
       "      <td>76.986241</td>\n",
       "      <td>11.041753</td>\n",
       "      <td>77.026241</td>\n",
       "      <td>07-03-2022</td>\n",
       "      <td>13:35:00</td>\n",
       "      <td>13:40:00</td>\n",
       "      <td>conditions Cloudy</td>\n",
       "      <td>High</td>\n",
       "      <td>0</td>\n",
       "      <td>Snack</td>\n",
       "      <td>motorcycle</td>\n",
       "      <td>1</td>\n",
       "      <td>No</td>\n",
       "      <td>Metropolitian</td>\n",
       "      <td>(min) 26</td>\n",
       "    </tr>\n",
       "    <tr>\n",
       "      <th>45592</th>\n",
       "      <td>0x5fb2</td>\n",
       "      <td>RANCHIRES09DEL02</td>\n",
       "      <td>23</td>\n",
       "      <td>4.9</td>\n",
       "      <td>23.351058</td>\n",
       "      <td>85.325731</td>\n",
       "      <td>23.431058</td>\n",
       "      <td>85.405731</td>\n",
       "      <td>02-03-2022</td>\n",
       "      <td>17:10:00</td>\n",
       "      <td>17:15:00</td>\n",
       "      <td>conditions Fog</td>\n",
       "      <td>Medium</td>\n",
       "      <td>2</td>\n",
       "      <td>Snack</td>\n",
       "      <td>scooter</td>\n",
       "      <td>1</td>\n",
       "      <td>No</td>\n",
       "      <td>Metropolitian</td>\n",
       "      <td>(min) 36</td>\n",
       "    </tr>\n",
       "  </tbody>\n",
       "</table>\n",
       "<p>45593 rows × 20 columns</p>\n",
       "</div>"
      ],
      "text/plain": [
       "            ID Delivery_person_ID Delivery_person_Age Delivery_person_Ratings  \\\n",
       "0      0x4607     INDORES13DEL02                   37                     4.9   \n",
       "1      0xb379     BANGRES18DEL02                   34                     4.5   \n",
       "2      0x5d6d     BANGRES19DEL01                   23                     4.4   \n",
       "3      0x7a6a    COIMBRES13DEL02                   38                     4.7   \n",
       "4      0x70a2     CHENRES12DEL01                   32                     4.6   \n",
       "...        ...                ...                 ...                     ...   \n",
       "45588  0x7c09      JAPRES04DEL01                   30                     4.8   \n",
       "45589  0xd641      AGRRES16DEL01                   21                     4.6   \n",
       "45590  0x4f8d     CHENRES08DEL03                   30                     4.9   \n",
       "45591  0x5eee    COIMBRES11DEL01                   20                     4.7   \n",
       "45592  0x5fb2   RANCHIRES09DEL02                   23                     4.9   \n",
       "\n",
       "       Restaurant_latitude  Restaurant_longitude  Delivery_location_latitude  \\\n",
       "0                22.745049             75.892471                   22.765049   \n",
       "1                12.913041             77.683237                   13.043041   \n",
       "2                12.914264             77.678400                   12.924264   \n",
       "3                11.003669             76.976494                   11.053669   \n",
       "4                12.972793             80.249982                   13.012793   \n",
       "...                    ...                   ...                         ...   \n",
       "45588            26.902328             75.794257                   26.912328   \n",
       "45589             0.000000              0.000000                    0.070000   \n",
       "45590            13.022394             80.242439                   13.052394   \n",
       "45591            11.001753             76.986241                   11.041753   \n",
       "45592            23.351058             85.325731                   23.431058   \n",
       "\n",
       "       Delivery_location_longitude  Order_Date Time_Orderd Time_Order_picked  \\\n",
       "0                        75.912471  19-03-2022    11:30:00          11:45:00   \n",
       "1                        77.813237  25-03-2022    19:45:00          19:50:00   \n",
       "2                        77.688400  19-03-2022    08:30:00          08:45:00   \n",
       "3                        77.026494  05-04-2022    18:00:00          18:10:00   \n",
       "4                        80.289982  26-03-2022    13:30:00          13:45:00   \n",
       "...                            ...         ...         ...               ...   \n",
       "45588                    75.804257  24-03-2022    11:35:00          11:45:00   \n",
       "45589                     0.070000  16-02-2022    19:55:00          20:10:00   \n",
       "45590                    80.272439  11-03-2022    23:50:00          00:05:00   \n",
       "45591                    77.026241  07-03-2022    13:35:00          13:40:00   \n",
       "45592                    85.405731  02-03-2022    17:10:00          17:15:00   \n",
       "\n",
       "           Weatherconditions Road_traffic_density  Vehicle_condition  \\\n",
       "0           conditions Sunny                High                   2   \n",
       "1          conditions Stormy                 Jam                   2   \n",
       "2      conditions Sandstorms                 Low                   0   \n",
       "3           conditions Sunny              Medium                   0   \n",
       "4          conditions Cloudy                High                   1   \n",
       "...                      ...                  ...                ...   \n",
       "45588       conditions Windy                High                   1   \n",
       "45589       conditions Windy                 Jam                   0   \n",
       "45590      conditions Cloudy                 Low                   1   \n",
       "45591      conditions Cloudy                High                   0   \n",
       "45592         conditions Fog              Medium                   2   \n",
       "\n",
       "      Type_of_order Type_of_vehicle multiple_deliveries Festival  \\\n",
       "0            Snack      motorcycle                    0      No    \n",
       "1            Snack         scooter                    1      No    \n",
       "2           Drinks      motorcycle                    1      No    \n",
       "3           Buffet      motorcycle                    1      No    \n",
       "4            Snack         scooter                    1      No    \n",
       "...             ...             ...                 ...      ...   \n",
       "45588         Meal      motorcycle                    0      No    \n",
       "45589       Buffet      motorcycle                    1      No    \n",
       "45590       Drinks         scooter                    0      No    \n",
       "45591        Snack      motorcycle                    1      No    \n",
       "45592        Snack         scooter                    1      No    \n",
       "\n",
       "                 City Time_taken(min)  \n",
       "0              Urban         (min) 24  \n",
       "1      Metropolitian         (min) 33  \n",
       "2              Urban         (min) 26  \n",
       "3      Metropolitian         (min) 21  \n",
       "4      Metropolitian         (min) 30  \n",
       "...               ...             ...  \n",
       "45588  Metropolitian         (min) 32  \n",
       "45589  Metropolitian         (min) 36  \n",
       "45590  Metropolitian         (min) 16  \n",
       "45591  Metropolitian         (min) 26  \n",
       "45592  Metropolitian         (min) 36  \n",
       "\n",
       "[45593 rows x 20 columns]"
      ]
     },
     "execution_count": 150,
     "metadata": {},
     "output_type": "execute_result"
    }
   ],
   "source": [
    "# load the data\n",
    "\n",
    "df = pd.read_csv('swiggy.csv')\n",
    "\n",
    "df"
   ]
  },
  {
   "cell_type": "markdown",
   "metadata": {
    "id": "OQoORRdSYoWU"
   },
   "source": [
    "# Clean Data"
   ]
  },
  {
   "cell_type": "code",
   "execution_count": 152,
   "metadata": {
    "executionInfo": {
     "elapsed": 1709,
     "status": "ok",
     "timestamp": 1732867423976,
     "user": {
      "displayName": "Himanshu Arora",
      "userId": "03026800847751892488"
     },
     "user_tz": -330
    },
    "id": "YpqxpFOJYqgs"
   },
   "outputs": [],
   "source": [
    "data_clean_utils.perform_data_cleaning(df)"
   ]
  },
  {
   "cell_type": "code",
   "execution_count": 153,
   "metadata": {
    "colab": {
     "base_uri": "https://localhost:8080/",
     "height": 444
    },
    "executionInfo": {
     "elapsed": 52,
     "status": "ok",
     "timestamp": 1732867423977,
     "user": {
      "displayName": "Himanshu Arora",
      "userId": "03026800847751892488"
     },
     "user_tz": -330
    },
    "id": "I0fKq6d3Y2W2",
    "outputId": "8fad16b7-f65e-428a-f296-aa7afad32a4e"
   },
   "outputs": [
    {
     "data": {
      "text/html": [
       "<div>\n",
       "<style scoped>\n",
       "    .dataframe tbody tr th:only-of-type {\n",
       "        vertical-align: middle;\n",
       "    }\n",
       "\n",
       "    .dataframe tbody tr th {\n",
       "        vertical-align: top;\n",
       "    }\n",
       "\n",
       "    .dataframe thead th {\n",
       "        text-align: right;\n",
       "    }\n",
       "</style>\n",
       "<table border=\"1\" class=\"dataframe\">\n",
       "  <thead>\n",
       "    <tr style=\"text-align: right;\">\n",
       "      <th></th>\n",
       "      <th>rider_id</th>\n",
       "      <th>age</th>\n",
       "      <th>ratings</th>\n",
       "      <th>restaurant_latitude</th>\n",
       "      <th>restaurant_longitude</th>\n",
       "      <th>delivery_latitude</th>\n",
       "      <th>delivery_longitude</th>\n",
       "      <th>order_date</th>\n",
       "      <th>weather</th>\n",
       "      <th>traffic</th>\n",
       "      <th>...</th>\n",
       "      <th>city_name</th>\n",
       "      <th>order_day</th>\n",
       "      <th>order_month</th>\n",
       "      <th>order_day_of_week</th>\n",
       "      <th>is_weekend</th>\n",
       "      <th>pickup_time_minutes</th>\n",
       "      <th>order_time_hour</th>\n",
       "      <th>order_time_of_day</th>\n",
       "      <th>distance</th>\n",
       "      <th>distance_type</th>\n",
       "    </tr>\n",
       "  </thead>\n",
       "  <tbody>\n",
       "    <tr>\n",
       "      <th>0</th>\n",
       "      <td>INDORES13DEL02</td>\n",
       "      <td>37.0</td>\n",
       "      <td>4.9</td>\n",
       "      <td>22.745049</td>\n",
       "      <td>75.892471</td>\n",
       "      <td>22.765049</td>\n",
       "      <td>75.912471</td>\n",
       "      <td>2022-03-19</td>\n",
       "      <td>sunny</td>\n",
       "      <td>high</td>\n",
       "      <td>...</td>\n",
       "      <td>INDO</td>\n",
       "      <td>19</td>\n",
       "      <td>3</td>\n",
       "      <td>saturday</td>\n",
       "      <td>1</td>\n",
       "      <td>15.0</td>\n",
       "      <td>11.0</td>\n",
       "      <td>morning</td>\n",
       "      <td>3.025149</td>\n",
       "      <td>short</td>\n",
       "    </tr>\n",
       "    <tr>\n",
       "      <th>1</th>\n",
       "      <td>BANGRES18DEL02</td>\n",
       "      <td>34.0</td>\n",
       "      <td>4.5</td>\n",
       "      <td>12.913041</td>\n",
       "      <td>77.683237</td>\n",
       "      <td>13.043041</td>\n",
       "      <td>77.813237</td>\n",
       "      <td>2022-03-25</td>\n",
       "      <td>stormy</td>\n",
       "      <td>jam</td>\n",
       "      <td>...</td>\n",
       "      <td>BANG</td>\n",
       "      <td>25</td>\n",
       "      <td>3</td>\n",
       "      <td>friday</td>\n",
       "      <td>0</td>\n",
       "      <td>5.0</td>\n",
       "      <td>19.0</td>\n",
       "      <td>evening</td>\n",
       "      <td>20.183530</td>\n",
       "      <td>very_long</td>\n",
       "    </tr>\n",
       "    <tr>\n",
       "      <th>2</th>\n",
       "      <td>BANGRES19DEL01</td>\n",
       "      <td>23.0</td>\n",
       "      <td>4.4</td>\n",
       "      <td>12.914264</td>\n",
       "      <td>77.678400</td>\n",
       "      <td>12.924264</td>\n",
       "      <td>77.688400</td>\n",
       "      <td>2022-03-19</td>\n",
       "      <td>sandstorms</td>\n",
       "      <td>low</td>\n",
       "      <td>...</td>\n",
       "      <td>BANG</td>\n",
       "      <td>19</td>\n",
       "      <td>3</td>\n",
       "      <td>saturday</td>\n",
       "      <td>1</td>\n",
       "      <td>15.0</td>\n",
       "      <td>8.0</td>\n",
       "      <td>morning</td>\n",
       "      <td>1.552758</td>\n",
       "      <td>short</td>\n",
       "    </tr>\n",
       "    <tr>\n",
       "      <th>3</th>\n",
       "      <td>COIMBRES13DEL02</td>\n",
       "      <td>38.0</td>\n",
       "      <td>4.7</td>\n",
       "      <td>11.003669</td>\n",
       "      <td>76.976494</td>\n",
       "      <td>11.053669</td>\n",
       "      <td>77.026494</td>\n",
       "      <td>2022-04-05</td>\n",
       "      <td>sunny</td>\n",
       "      <td>medium</td>\n",
       "      <td>...</td>\n",
       "      <td>COIMB</td>\n",
       "      <td>5</td>\n",
       "      <td>4</td>\n",
       "      <td>tuesday</td>\n",
       "      <td>0</td>\n",
       "      <td>10.0</td>\n",
       "      <td>18.0</td>\n",
       "      <td>evening</td>\n",
       "      <td>7.790401</td>\n",
       "      <td>medium</td>\n",
       "    </tr>\n",
       "    <tr>\n",
       "      <th>4</th>\n",
       "      <td>CHENRES12DEL01</td>\n",
       "      <td>32.0</td>\n",
       "      <td>4.6</td>\n",
       "      <td>12.972793</td>\n",
       "      <td>80.249982</td>\n",
       "      <td>13.012793</td>\n",
       "      <td>80.289982</td>\n",
       "      <td>2022-03-26</td>\n",
       "      <td>cloudy</td>\n",
       "      <td>high</td>\n",
       "      <td>...</td>\n",
       "      <td>CHEN</td>\n",
       "      <td>26</td>\n",
       "      <td>3</td>\n",
       "      <td>saturday</td>\n",
       "      <td>1</td>\n",
       "      <td>15.0</td>\n",
       "      <td>13.0</td>\n",
       "      <td>afternoon</td>\n",
       "      <td>6.210138</td>\n",
       "      <td>medium</td>\n",
       "    </tr>\n",
       "    <tr>\n",
       "      <th>...</th>\n",
       "      <td>...</td>\n",
       "      <td>...</td>\n",
       "      <td>...</td>\n",
       "      <td>...</td>\n",
       "      <td>...</td>\n",
       "      <td>...</td>\n",
       "      <td>...</td>\n",
       "      <td>...</td>\n",
       "      <td>...</td>\n",
       "      <td>...</td>\n",
       "      <td>...</td>\n",
       "      <td>...</td>\n",
       "      <td>...</td>\n",
       "      <td>...</td>\n",
       "      <td>...</td>\n",
       "      <td>...</td>\n",
       "      <td>...</td>\n",
       "      <td>...</td>\n",
       "      <td>...</td>\n",
       "      <td>...</td>\n",
       "      <td>...</td>\n",
       "    </tr>\n",
       "    <tr>\n",
       "      <th>45497</th>\n",
       "      <td>JAPRES04DEL01</td>\n",
       "      <td>30.0</td>\n",
       "      <td>4.8</td>\n",
       "      <td>26.902328</td>\n",
       "      <td>75.794257</td>\n",
       "      <td>26.912328</td>\n",
       "      <td>75.804257</td>\n",
       "      <td>2022-03-24</td>\n",
       "      <td>windy</td>\n",
       "      <td>high</td>\n",
       "      <td>...</td>\n",
       "      <td>JAP</td>\n",
       "      <td>24</td>\n",
       "      <td>3</td>\n",
       "      <td>thursday</td>\n",
       "      <td>0</td>\n",
       "      <td>10.0</td>\n",
       "      <td>11.0</td>\n",
       "      <td>morning</td>\n",
       "      <td>1.489846</td>\n",
       "      <td>short</td>\n",
       "    </tr>\n",
       "    <tr>\n",
       "      <th>45498</th>\n",
       "      <td>AGRRES16DEL01</td>\n",
       "      <td>21.0</td>\n",
       "      <td>4.6</td>\n",
       "      <td>NaN</td>\n",
       "      <td>NaN</td>\n",
       "      <td>NaN</td>\n",
       "      <td>NaN</td>\n",
       "      <td>2022-02-16</td>\n",
       "      <td>windy</td>\n",
       "      <td>jam</td>\n",
       "      <td>...</td>\n",
       "      <td>AGR</td>\n",
       "      <td>16</td>\n",
       "      <td>2</td>\n",
       "      <td>wednesday</td>\n",
       "      <td>0</td>\n",
       "      <td>15.0</td>\n",
       "      <td>19.0</td>\n",
       "      <td>evening</td>\n",
       "      <td>NaN</td>\n",
       "      <td>NaN</td>\n",
       "    </tr>\n",
       "    <tr>\n",
       "      <th>45499</th>\n",
       "      <td>CHENRES08DEL03</td>\n",
       "      <td>30.0</td>\n",
       "      <td>4.9</td>\n",
       "      <td>13.022394</td>\n",
       "      <td>80.242439</td>\n",
       "      <td>13.052394</td>\n",
       "      <td>80.272439</td>\n",
       "      <td>2022-03-11</td>\n",
       "      <td>cloudy</td>\n",
       "      <td>low</td>\n",
       "      <td>...</td>\n",
       "      <td>CHEN</td>\n",
       "      <td>11</td>\n",
       "      <td>3</td>\n",
       "      <td>friday</td>\n",
       "      <td>0</td>\n",
       "      <td>15.0</td>\n",
       "      <td>23.0</td>\n",
       "      <td>night</td>\n",
       "      <td>4.657195</td>\n",
       "      <td>short</td>\n",
       "    </tr>\n",
       "    <tr>\n",
       "      <th>45500</th>\n",
       "      <td>COIMBRES11DEL01</td>\n",
       "      <td>20.0</td>\n",
       "      <td>4.7</td>\n",
       "      <td>11.001753</td>\n",
       "      <td>76.986241</td>\n",
       "      <td>11.041753</td>\n",
       "      <td>77.026241</td>\n",
       "      <td>2022-03-07</td>\n",
       "      <td>cloudy</td>\n",
       "      <td>high</td>\n",
       "      <td>...</td>\n",
       "      <td>COIMB</td>\n",
       "      <td>7</td>\n",
       "      <td>3</td>\n",
       "      <td>monday</td>\n",
       "      <td>0</td>\n",
       "      <td>5.0</td>\n",
       "      <td>13.0</td>\n",
       "      <td>afternoon</td>\n",
       "      <td>6.232393</td>\n",
       "      <td>medium</td>\n",
       "    </tr>\n",
       "    <tr>\n",
       "      <th>45501</th>\n",
       "      <td>RANCHIRES09DEL02</td>\n",
       "      <td>23.0</td>\n",
       "      <td>4.9</td>\n",
       "      <td>23.351058</td>\n",
       "      <td>85.325731</td>\n",
       "      <td>23.431058</td>\n",
       "      <td>85.405731</td>\n",
       "      <td>2022-03-02</td>\n",
       "      <td>fog</td>\n",
       "      <td>medium</td>\n",
       "      <td>...</td>\n",
       "      <td>RANCHI</td>\n",
       "      <td>2</td>\n",
       "      <td>3</td>\n",
       "      <td>wednesday</td>\n",
       "      <td>0</td>\n",
       "      <td>5.0</td>\n",
       "      <td>17.0</td>\n",
       "      <td>afternoon</td>\n",
       "      <td>12.074396</td>\n",
       "      <td>long</td>\n",
       "    </tr>\n",
       "  </tbody>\n",
       "</table>\n",
       "<p>45502 rows × 27 columns</p>\n",
       "</div>"
      ],
      "text/plain": [
       "                rider_id   age  ratings  restaurant_latitude  \\\n",
       "0        INDORES13DEL02   37.0      4.9            22.745049   \n",
       "1        BANGRES18DEL02   34.0      4.5            12.913041   \n",
       "2        BANGRES19DEL01   23.0      4.4            12.914264   \n",
       "3       COIMBRES13DEL02   38.0      4.7            11.003669   \n",
       "4        CHENRES12DEL01   32.0      4.6            12.972793   \n",
       "...                  ...   ...      ...                  ...   \n",
       "45497     JAPRES04DEL01   30.0      4.8            26.902328   \n",
       "45498     AGRRES16DEL01   21.0      4.6                  NaN   \n",
       "45499    CHENRES08DEL03   30.0      4.9            13.022394   \n",
       "45500   COIMBRES11DEL01   20.0      4.7            11.001753   \n",
       "45501  RANCHIRES09DEL02   23.0      4.9            23.351058   \n",
       "\n",
       "       restaurant_longitude  delivery_latitude  delivery_longitude  \\\n",
       "0                 75.892471          22.765049           75.912471   \n",
       "1                 77.683237          13.043041           77.813237   \n",
       "2                 77.678400          12.924264           77.688400   \n",
       "3                 76.976494          11.053669           77.026494   \n",
       "4                 80.249982          13.012793           80.289982   \n",
       "...                     ...                ...                 ...   \n",
       "45497             75.794257          26.912328           75.804257   \n",
       "45498                   NaN                NaN                 NaN   \n",
       "45499             80.242439          13.052394           80.272439   \n",
       "45500             76.986241          11.041753           77.026241   \n",
       "45501             85.325731          23.431058           85.405731   \n",
       "\n",
       "       order_date     weather traffic  ...  city_name order_day order_month  \\\n",
       "0      2022-03-19       sunny    high  ...       INDO        19           3   \n",
       "1      2022-03-25      stormy     jam  ...       BANG        25           3   \n",
       "2      2022-03-19  sandstorms     low  ...       BANG        19           3   \n",
       "3      2022-04-05       sunny  medium  ...      COIMB         5           4   \n",
       "4      2022-03-26      cloudy    high  ...       CHEN        26           3   \n",
       "...           ...         ...     ...  ...        ...       ...         ...   \n",
       "45497  2022-03-24       windy    high  ...        JAP        24           3   \n",
       "45498  2022-02-16       windy     jam  ...        AGR        16           2   \n",
       "45499  2022-03-11      cloudy     low  ...       CHEN        11           3   \n",
       "45500  2022-03-07      cloudy    high  ...      COIMB         7           3   \n",
       "45501  2022-03-02         fog  medium  ...     RANCHI         2           3   \n",
       "\n",
       "       order_day_of_week is_weekend pickup_time_minutes  order_time_hour  \\\n",
       "0               saturday          1                15.0             11.0   \n",
       "1                 friday          0                 5.0             19.0   \n",
       "2               saturday          1                15.0              8.0   \n",
       "3                tuesday          0                10.0             18.0   \n",
       "4               saturday          1                15.0             13.0   \n",
       "...                  ...        ...                 ...              ...   \n",
       "45497           thursday          0                10.0             11.0   \n",
       "45498          wednesday          0                15.0             19.0   \n",
       "45499             friday          0                15.0             23.0   \n",
       "45500             monday          0                 5.0             13.0   \n",
       "45501          wednesday          0                 5.0             17.0   \n",
       "\n",
       "      order_time_of_day   distance  distance_type  \n",
       "0               morning   3.025149          short  \n",
       "1               evening  20.183530      very_long  \n",
       "2               morning   1.552758          short  \n",
       "3               evening   7.790401         medium  \n",
       "4             afternoon   6.210138         medium  \n",
       "...                 ...        ...            ...  \n",
       "45497           morning   1.489846          short  \n",
       "45498           evening        NaN            NaN  \n",
       "45499             night   4.657195          short  \n",
       "45500         afternoon   6.232393         medium  \n",
       "45501         afternoon  12.074396           long  \n",
       "\n",
       "[45502 rows x 27 columns]"
      ]
     },
     "execution_count": 153,
     "metadata": {},
     "output_type": "execute_result"
    }
   ],
   "source": [
    "# load the cleaned data\n",
    "\n",
    "df = pd.read_csv('swiggy_cleaned.csv')\n",
    "\n",
    "df"
   ]
  },
  {
   "cell_type": "code",
   "execution_count": 154,
   "metadata": {
    "colab": {
     "base_uri": "https://localhost:8080/"
    },
    "executionInfo": {
     "elapsed": 48,
     "status": "ok",
     "timestamp": 1732867423978,
     "user": {
      "displayName": "Himanshu Arora",
      "userId": "03026800847751892488"
     },
     "user_tz": -330
    },
    "id": "06VhmH7Lb4xz",
    "outputId": "af060c2b-9af8-43a3-d610-4af74ae57c1c"
   },
   "outputs": [
    {
     "data": {
      "text/plain": [
       "Index(['rider_id', 'age', 'ratings', 'restaurant_latitude',\n",
       "       'restaurant_longitude', 'delivery_latitude', 'delivery_longitude',\n",
       "       'order_date', 'weather', 'traffic', 'vehicle_condition',\n",
       "       'type_of_order', 'type_of_vehicle', 'multiple_deliveries', 'festival',\n",
       "       'city_type', 'time_taken', 'city_name', 'order_day', 'order_month',\n",
       "       'order_day_of_week', 'is_weekend', 'pickup_time_minutes',\n",
       "       'order_time_hour', 'order_time_of_day', 'distance', 'distance_type'],\n",
       "      dtype='object')"
      ]
     },
     "execution_count": 154,
     "metadata": {},
     "output_type": "execute_result"
    }
   ],
   "source": [
    "df.columns"
   ]
  },
  {
   "cell_type": "code",
   "execution_count": 155,
   "metadata": {
    "colab": {
     "base_uri": "https://localhost:8080/",
     "height": 444
    },
    "executionInfo": {
     "elapsed": 38,
     "status": "ok",
     "timestamp": 1732867423978,
     "user": {
      "displayName": "Himanshu Arora",
      "userId": "03026800847751892488"
     },
     "user_tz": -330
    },
    "id": "R-UYeFPobyeh",
    "outputId": "f9692213-ed3e-4c45-9b8f-9efb969c3b0b"
   },
   "outputs": [
    {
     "data": {
      "text/html": [
       "<div>\n",
       "<style scoped>\n",
       "    .dataframe tbody tr th:only-of-type {\n",
       "        vertical-align: middle;\n",
       "    }\n",
       "\n",
       "    .dataframe tbody tr th {\n",
       "        vertical-align: top;\n",
       "    }\n",
       "\n",
       "    .dataframe thead th {\n",
       "        text-align: right;\n",
       "    }\n",
       "</style>\n",
       "<table border=\"1\" class=\"dataframe\">\n",
       "  <thead>\n",
       "    <tr style=\"text-align: right;\">\n",
       "      <th></th>\n",
       "      <th>age</th>\n",
       "      <th>ratings</th>\n",
       "      <th>weather</th>\n",
       "      <th>traffic</th>\n",
       "      <th>vehicle_condition</th>\n",
       "      <th>type_of_order</th>\n",
       "      <th>type_of_vehicle</th>\n",
       "      <th>multiple_deliveries</th>\n",
       "      <th>festival</th>\n",
       "      <th>city_type</th>\n",
       "      <th>time_taken</th>\n",
       "      <th>is_weekend</th>\n",
       "      <th>pickup_time_minutes</th>\n",
       "      <th>order_time_of_day</th>\n",
       "      <th>distance</th>\n",
       "      <th>distance_type</th>\n",
       "    </tr>\n",
       "  </thead>\n",
       "  <tbody>\n",
       "    <tr>\n",
       "      <th>0</th>\n",
       "      <td>37.0</td>\n",
       "      <td>4.9</td>\n",
       "      <td>sunny</td>\n",
       "      <td>high</td>\n",
       "      <td>2</td>\n",
       "      <td>snack</td>\n",
       "      <td>motorcycle</td>\n",
       "      <td>0.0</td>\n",
       "      <td>no</td>\n",
       "      <td>urban</td>\n",
       "      <td>24</td>\n",
       "      <td>1</td>\n",
       "      <td>15.0</td>\n",
       "      <td>morning</td>\n",
       "      <td>3.025149</td>\n",
       "      <td>short</td>\n",
       "    </tr>\n",
       "    <tr>\n",
       "      <th>1</th>\n",
       "      <td>34.0</td>\n",
       "      <td>4.5</td>\n",
       "      <td>stormy</td>\n",
       "      <td>jam</td>\n",
       "      <td>2</td>\n",
       "      <td>snack</td>\n",
       "      <td>scooter</td>\n",
       "      <td>1.0</td>\n",
       "      <td>no</td>\n",
       "      <td>metropolitian</td>\n",
       "      <td>33</td>\n",
       "      <td>0</td>\n",
       "      <td>5.0</td>\n",
       "      <td>evening</td>\n",
       "      <td>20.183530</td>\n",
       "      <td>very_long</td>\n",
       "    </tr>\n",
       "    <tr>\n",
       "      <th>2</th>\n",
       "      <td>23.0</td>\n",
       "      <td>4.4</td>\n",
       "      <td>sandstorms</td>\n",
       "      <td>low</td>\n",
       "      <td>0</td>\n",
       "      <td>drinks</td>\n",
       "      <td>motorcycle</td>\n",
       "      <td>1.0</td>\n",
       "      <td>no</td>\n",
       "      <td>urban</td>\n",
       "      <td>26</td>\n",
       "      <td>1</td>\n",
       "      <td>15.0</td>\n",
       "      <td>morning</td>\n",
       "      <td>1.552758</td>\n",
       "      <td>short</td>\n",
       "    </tr>\n",
       "    <tr>\n",
       "      <th>3</th>\n",
       "      <td>38.0</td>\n",
       "      <td>4.7</td>\n",
       "      <td>sunny</td>\n",
       "      <td>medium</td>\n",
       "      <td>0</td>\n",
       "      <td>buffet</td>\n",
       "      <td>motorcycle</td>\n",
       "      <td>1.0</td>\n",
       "      <td>no</td>\n",
       "      <td>metropolitian</td>\n",
       "      <td>21</td>\n",
       "      <td>0</td>\n",
       "      <td>10.0</td>\n",
       "      <td>evening</td>\n",
       "      <td>7.790401</td>\n",
       "      <td>medium</td>\n",
       "    </tr>\n",
       "    <tr>\n",
       "      <th>4</th>\n",
       "      <td>32.0</td>\n",
       "      <td>4.6</td>\n",
       "      <td>cloudy</td>\n",
       "      <td>high</td>\n",
       "      <td>1</td>\n",
       "      <td>snack</td>\n",
       "      <td>scooter</td>\n",
       "      <td>1.0</td>\n",
       "      <td>no</td>\n",
       "      <td>metropolitian</td>\n",
       "      <td>30</td>\n",
       "      <td>1</td>\n",
       "      <td>15.0</td>\n",
       "      <td>afternoon</td>\n",
       "      <td>6.210138</td>\n",
       "      <td>medium</td>\n",
       "    </tr>\n",
       "    <tr>\n",
       "      <th>...</th>\n",
       "      <td>...</td>\n",
       "      <td>...</td>\n",
       "      <td>...</td>\n",
       "      <td>...</td>\n",
       "      <td>...</td>\n",
       "      <td>...</td>\n",
       "      <td>...</td>\n",
       "      <td>...</td>\n",
       "      <td>...</td>\n",
       "      <td>...</td>\n",
       "      <td>...</td>\n",
       "      <td>...</td>\n",
       "      <td>...</td>\n",
       "      <td>...</td>\n",
       "      <td>...</td>\n",
       "      <td>...</td>\n",
       "    </tr>\n",
       "    <tr>\n",
       "      <th>45497</th>\n",
       "      <td>30.0</td>\n",
       "      <td>4.8</td>\n",
       "      <td>windy</td>\n",
       "      <td>high</td>\n",
       "      <td>1</td>\n",
       "      <td>meal</td>\n",
       "      <td>motorcycle</td>\n",
       "      <td>0.0</td>\n",
       "      <td>no</td>\n",
       "      <td>metropolitian</td>\n",
       "      <td>32</td>\n",
       "      <td>0</td>\n",
       "      <td>10.0</td>\n",
       "      <td>morning</td>\n",
       "      <td>1.489846</td>\n",
       "      <td>short</td>\n",
       "    </tr>\n",
       "    <tr>\n",
       "      <th>45498</th>\n",
       "      <td>21.0</td>\n",
       "      <td>4.6</td>\n",
       "      <td>windy</td>\n",
       "      <td>jam</td>\n",
       "      <td>0</td>\n",
       "      <td>buffet</td>\n",
       "      <td>motorcycle</td>\n",
       "      <td>1.0</td>\n",
       "      <td>no</td>\n",
       "      <td>metropolitian</td>\n",
       "      <td>36</td>\n",
       "      <td>0</td>\n",
       "      <td>15.0</td>\n",
       "      <td>evening</td>\n",
       "      <td>NaN</td>\n",
       "      <td>NaN</td>\n",
       "    </tr>\n",
       "    <tr>\n",
       "      <th>45499</th>\n",
       "      <td>30.0</td>\n",
       "      <td>4.9</td>\n",
       "      <td>cloudy</td>\n",
       "      <td>low</td>\n",
       "      <td>1</td>\n",
       "      <td>drinks</td>\n",
       "      <td>scooter</td>\n",
       "      <td>0.0</td>\n",
       "      <td>no</td>\n",
       "      <td>metropolitian</td>\n",
       "      <td>16</td>\n",
       "      <td>0</td>\n",
       "      <td>15.0</td>\n",
       "      <td>night</td>\n",
       "      <td>4.657195</td>\n",
       "      <td>short</td>\n",
       "    </tr>\n",
       "    <tr>\n",
       "      <th>45500</th>\n",
       "      <td>20.0</td>\n",
       "      <td>4.7</td>\n",
       "      <td>cloudy</td>\n",
       "      <td>high</td>\n",
       "      <td>0</td>\n",
       "      <td>snack</td>\n",
       "      <td>motorcycle</td>\n",
       "      <td>1.0</td>\n",
       "      <td>no</td>\n",
       "      <td>metropolitian</td>\n",
       "      <td>26</td>\n",
       "      <td>0</td>\n",
       "      <td>5.0</td>\n",
       "      <td>afternoon</td>\n",
       "      <td>6.232393</td>\n",
       "      <td>medium</td>\n",
       "    </tr>\n",
       "    <tr>\n",
       "      <th>45501</th>\n",
       "      <td>23.0</td>\n",
       "      <td>4.9</td>\n",
       "      <td>fog</td>\n",
       "      <td>medium</td>\n",
       "      <td>2</td>\n",
       "      <td>snack</td>\n",
       "      <td>scooter</td>\n",
       "      <td>1.0</td>\n",
       "      <td>no</td>\n",
       "      <td>metropolitian</td>\n",
       "      <td>36</td>\n",
       "      <td>0</td>\n",
       "      <td>5.0</td>\n",
       "      <td>afternoon</td>\n",
       "      <td>12.074396</td>\n",
       "      <td>long</td>\n",
       "    </tr>\n",
       "  </tbody>\n",
       "</table>\n",
       "<p>45502 rows × 16 columns</p>\n",
       "</div>"
      ],
      "text/plain": [
       "        age  ratings     weather traffic  vehicle_condition type_of_order  \\\n",
       "0      37.0      4.9       sunny    high                  2         snack   \n",
       "1      34.0      4.5      stormy     jam                  2         snack   \n",
       "2      23.0      4.4  sandstorms     low                  0        drinks   \n",
       "3      38.0      4.7       sunny  medium                  0        buffet   \n",
       "4      32.0      4.6      cloudy    high                  1         snack   \n",
       "...     ...      ...         ...     ...                ...           ...   \n",
       "45497  30.0      4.8       windy    high                  1          meal   \n",
       "45498  21.0      4.6       windy     jam                  0        buffet   \n",
       "45499  30.0      4.9      cloudy     low                  1        drinks   \n",
       "45500  20.0      4.7      cloudy    high                  0         snack   \n",
       "45501  23.0      4.9         fog  medium                  2         snack   \n",
       "\n",
       "      type_of_vehicle  multiple_deliveries festival      city_type  \\\n",
       "0          motorcycle                  0.0       no          urban   \n",
       "1             scooter                  1.0       no  metropolitian   \n",
       "2          motorcycle                  1.0       no          urban   \n",
       "3          motorcycle                  1.0       no  metropolitian   \n",
       "4             scooter                  1.0       no  metropolitian   \n",
       "...               ...                  ...      ...            ...   \n",
       "45497      motorcycle                  0.0       no  metropolitian   \n",
       "45498      motorcycle                  1.0       no  metropolitian   \n",
       "45499         scooter                  0.0       no  metropolitian   \n",
       "45500      motorcycle                  1.0       no  metropolitian   \n",
       "45501         scooter                  1.0       no  metropolitian   \n",
       "\n",
       "       time_taken  is_weekend  pickup_time_minutes order_time_of_day  \\\n",
       "0              24           1                 15.0           morning   \n",
       "1              33           0                  5.0           evening   \n",
       "2              26           1                 15.0           morning   \n",
       "3              21           0                 10.0           evening   \n",
       "4              30           1                 15.0         afternoon   \n",
       "...           ...         ...                  ...               ...   \n",
       "45497          32           0                 10.0           morning   \n",
       "45498          36           0                 15.0           evening   \n",
       "45499          16           0                 15.0             night   \n",
       "45500          26           0                  5.0         afternoon   \n",
       "45501          36           0                  5.0         afternoon   \n",
       "\n",
       "        distance distance_type  \n",
       "0       3.025149         short  \n",
       "1      20.183530     very_long  \n",
       "2       1.552758         short  \n",
       "3       7.790401        medium  \n",
       "4       6.210138        medium  \n",
       "...          ...           ...  \n",
       "45497   1.489846         short  \n",
       "45498        NaN           NaN  \n",
       "45499   4.657195         short  \n",
       "45500   6.232393        medium  \n",
       "45501  12.074396          long  \n",
       "\n",
       "[45502 rows x 16 columns]"
      ]
     },
     "execution_count": 155,
     "metadata": {},
     "output_type": "execute_result"
    }
   ],
   "source": [
    "# drop columns not required for model input\n",
    "\n",
    "columns_to_drop =  ['rider_id',\n",
    "                    'restaurant_latitude',\n",
    "                    'restaurant_longitude',\n",
    "                    'delivery_latitude',\n",
    "                    'delivery_longitude',\n",
    "                    'order_date',\n",
    "                    \"order_time_hour\",\n",
    "                    \"order_day\",\n",
    "                    \"city_name\",\n",
    "                    \"order_day_of_week\",\n",
    "                    \"order_month\"]\n",
    "\n",
    "df.drop(columns=columns_to_drop, inplace=True)\n",
    "\n",
    "df"
   ]
  },
  {
   "cell_type": "code",
   "execution_count": 156,
   "metadata": {
    "colab": {
     "base_uri": "https://localhost:8080/",
     "height": 586
    },
    "executionInfo": {
     "elapsed": 793,
     "status": "ok",
     "timestamp": 1732867424738,
     "user": {
      "displayName": "Himanshu Arora",
      "userId": "03026800847751892488"
     },
     "user_tz": -330
    },
    "id": "IiOq4IO6cX4q",
    "outputId": "b4698040-762e-4d88-ebd9-393d74880308"
   },
   "outputs": [
    {
     "data": {
      "text/plain": [
       "age                    1854\n",
       "ratings                1908\n",
       "weather                 525\n",
       "traffic                 510\n",
       "vehicle_condition         0\n",
       "type_of_order             0\n",
       "type_of_vehicle           0\n",
       "multiple_deliveries     993\n",
       "festival                228\n",
       "city_type              1198\n",
       "time_taken                0\n",
       "is_weekend                0\n",
       "pickup_time_minutes    1640\n",
       "order_time_of_day      2070\n",
       "distance               3630\n",
       "distance_type          3630\n",
       "dtype: int64"
      ]
     },
     "execution_count": 156,
     "metadata": {},
     "output_type": "execute_result"
    }
   ],
   "source": [
    "# check for missing values\n",
    "\n",
    "df.isna().sum()"
   ]
  },
  {
   "cell_type": "code",
   "execution_count": 157,
   "metadata": {
    "colab": {
     "base_uri": "https://localhost:8080/"
    },
    "executionInfo": {
     "elapsed": 31,
     "status": "ok",
     "timestamp": 1732867424739,
     "user": {
      "displayName": "Himanshu Arora",
      "userId": "03026800847751892488"
     },
     "user_tz": -330
    },
    "id": "iHMDE9Mdcxno",
    "outputId": "15cab23b-891a-4233-a8ca-ddcbb4b923aa"
   },
   "outputs": [
    {
     "data": {
      "text/plain": [
       "0"
      ]
     },
     "execution_count": 157,
     "metadata": {},
     "output_type": "execute_result"
    }
   ],
   "source": [
    "# check for duplicates\n",
    "\n",
    "df.duplicated().sum()"
   ]
  },
  {
   "cell_type": "code",
   "execution_count": 158,
   "metadata": {
    "colab": {
     "base_uri": "https://localhost:8080/",
     "height": 630
    },
    "executionInfo": {
     "elapsed": 2194,
     "status": "ok",
     "timestamp": 1732867426911,
     "user": {
      "displayName": "Himanshu Arora",
      "userId": "03026800847751892488"
     },
     "user_tz": -330
    },
    "id": "Q7bSLKIEc5-E",
    "outputId": "c763bdaa-a6ec-4b57-998c-79a7ef8afbee"
   },
   "outputs": [
    {
     "data": {
      "text/plain": [
       "<Axes: >"
      ]
     },
     "execution_count": 158,
     "metadata": {},
     "output_type": "execute_result"
    },
    {
     "data": {
      "image/png": "[encoded data removed]",
      "text/plain": [
       "<Figure size 2500x1000 with 2 Axes>"
      ]
     },
     "metadata": {},
     "output_type": "display_data"
    }
   ],
   "source": [
    "import missingno as msno\n",
    "\n",
    "msno.matrix(df)"
   ]
  },
  {
   "cell_type": "code",
   "execution_count": 159,
   "metadata": {
    "colab": {
     "base_uri": "https://localhost:8080/"
    },
    "executionInfo": {
     "elapsed": 48,
     "status": "ok",
     "timestamp": 1732867426912,
     "user": {
      "displayName": "Himanshu Arora",
      "userId": "03026800847751892488"
     },
     "user_tz": -330
    },
    "id": "eAWElUOCi4Zk",
    "outputId": "63a8b91f-e733-4097-e7a1-e785163d372b"
   },
   "outputs": [
    {
     "data": {
      "text/plain": [
       "Index(['age', 'ratings', 'weather', 'traffic', 'multiple_deliveries',\n",
       "       'festival', 'city_type', 'pickup_time_minutes', 'order_time_of_day',\n",
       "       'distance', 'distance_type'],\n",
       "      dtype='object')"
      ]
     },
     "execution_count": 159,
     "metadata": {},
     "output_type": "execute_result"
    }
   ],
   "source": [
    "# columns that have missing values\n",
    "\n",
    "missing_cols = (\n",
    "                    df\n",
    "                    .isna()\n",
    "                    .any(axis=0)\n",
    "                    .loc[lambda x: x]\n",
    "                    .index\n",
    "                )\n",
    "\n",
    "missing_cols"
   ]
  },
  {
   "cell_type": "markdown",
   "metadata": {
    "id": "A5BZQeJgkJAz"
   },
   "source": [
    "# Drop Missing values"
   ]
  },
  {
   "cell_type": "code",
   "execution_count": 161,
   "metadata": {
    "executionInfo": {
     "elapsed": 40,
     "status": "ok",
     "timestamp": 1732867426913,
     "user": {
      "displayName": "Himanshu Arora",
      "userId": "03026800847751892488"
     },
     "user_tz": -330
    },
    "id": "lo0g_AwrRelP"
   },
   "outputs": [],
   "source": [
    "temp_df = df.copy().dropna()"
   ]
  },
  {
   "cell_type": "code",
   "execution_count": 162,
   "metadata": {
    "colab": {
     "base_uri": "https://localhost:8080/",
     "height": 444
    },
    "executionInfo": {
     "elapsed": 39,
     "status": "ok",
     "timestamp": 1732867426914,
     "user": {
      "displayName": "Himanshu Arora",
      "userId": "03026800847751892488"
     },
     "user_tz": -330
    },
    "id": "usqGURjWRelQ",
    "outputId": "ee2b41d2-5cbb-405b-b616-9a3caa0eddb9"
   },
   "outputs": [
    {
     "data": {
      "text/html": [
       "<div>\n",
       "<style scoped>\n",
       "    .dataframe tbody tr th:only-of-type {\n",
       "        vertical-align: middle;\n",
       "    }\n",
       "\n",
       "    .dataframe tbody tr th {\n",
       "        vertical-align: top;\n",
       "    }\n",
       "\n",
       "    .dataframe thead th {\n",
       "        text-align: right;\n",
       "    }\n",
       "</style>\n",
       "<table border=\"1\" class=\"dataframe\">\n",
       "  <thead>\n",
       "    <tr style=\"text-align: right;\">\n",
       "      <th></th>\n",
       "      <th>age</th>\n",
       "      <th>ratings</th>\n",
       "      <th>weather</th>\n",
       "      <th>traffic</th>\n",
       "      <th>vehicle_condition</th>\n",
       "      <th>type_of_order</th>\n",
       "      <th>type_of_vehicle</th>\n",
       "      <th>multiple_deliveries</th>\n",
       "      <th>festival</th>\n",
       "      <th>city_type</th>\n",
       "      <th>is_weekend</th>\n",
       "      <th>pickup_time_minutes</th>\n",
       "      <th>order_time_of_day</th>\n",
       "      <th>distance</th>\n",
       "      <th>distance_type</th>\n",
       "    </tr>\n",
       "  </thead>\n",
       "  <tbody>\n",
       "    <tr>\n",
       "      <th>0</th>\n",
       "      <td>37.0</td>\n",
       "      <td>4.9</td>\n",
       "      <td>sunny</td>\n",
       "      <td>high</td>\n",
       "      <td>2</td>\n",
       "      <td>snack</td>\n",
       "      <td>motorcycle</td>\n",
       "      <td>0.0</td>\n",
       "      <td>no</td>\n",
       "      <td>urban</td>\n",
       "      <td>1</td>\n",
       "      <td>15.0</td>\n",
       "      <td>morning</td>\n",
       "      <td>3.025149</td>\n",
       "      <td>short</td>\n",
       "    </tr>\n",
       "    <tr>\n",
       "      <th>1</th>\n",
       "      <td>34.0</td>\n",
       "      <td>4.5</td>\n",
       "      <td>stormy</td>\n",
       "      <td>jam</td>\n",
       "      <td>2</td>\n",
       "      <td>snack</td>\n",
       "      <td>scooter</td>\n",
       "      <td>1.0</td>\n",
       "      <td>no</td>\n",
       "      <td>metropolitian</td>\n",
       "      <td>0</td>\n",
       "      <td>5.0</td>\n",
       "      <td>evening</td>\n",
       "      <td>20.183530</td>\n",
       "      <td>very_long</td>\n",
       "    </tr>\n",
       "    <tr>\n",
       "      <th>2</th>\n",
       "      <td>23.0</td>\n",
       "      <td>4.4</td>\n",
       "      <td>sandstorms</td>\n",
       "      <td>low</td>\n",
       "      <td>0</td>\n",
       "      <td>drinks</td>\n",
       "      <td>motorcycle</td>\n",
       "      <td>1.0</td>\n",
       "      <td>no</td>\n",
       "      <td>urban</td>\n",
       "      <td>1</td>\n",
       "      <td>15.0</td>\n",
       "      <td>morning</td>\n",
       "      <td>1.552758</td>\n",
       "      <td>short</td>\n",
       "    </tr>\n",
       "    <tr>\n",
       "      <th>3</th>\n",
       "      <td>38.0</td>\n",
       "      <td>4.7</td>\n",
       "      <td>sunny</td>\n",
       "      <td>medium</td>\n",
       "      <td>0</td>\n",
       "      <td>buffet</td>\n",
       "      <td>motorcycle</td>\n",
       "      <td>1.0</td>\n",
       "      <td>no</td>\n",
       "      <td>metropolitian</td>\n",
       "      <td>0</td>\n",
       "      <td>10.0</td>\n",
       "      <td>evening</td>\n",
       "      <td>7.790401</td>\n",
       "      <td>medium</td>\n",
       "    </tr>\n",
       "    <tr>\n",
       "      <th>4</th>\n",
       "      <td>32.0</td>\n",
       "      <td>4.6</td>\n",
       "      <td>cloudy</td>\n",
       "      <td>high</td>\n",
       "      <td>1</td>\n",
       "      <td>snack</td>\n",
       "      <td>scooter</td>\n",
       "      <td>1.0</td>\n",
       "      <td>no</td>\n",
       "      <td>metropolitian</td>\n",
       "      <td>1</td>\n",
       "      <td>15.0</td>\n",
       "      <td>afternoon</td>\n",
       "      <td>6.210138</td>\n",
       "      <td>medium</td>\n",
       "    </tr>\n",
       "    <tr>\n",
       "      <th>...</th>\n",
       "      <td>...</td>\n",
       "      <td>...</td>\n",
       "      <td>...</td>\n",
       "      <td>...</td>\n",
       "      <td>...</td>\n",
       "      <td>...</td>\n",
       "      <td>...</td>\n",
       "      <td>...</td>\n",
       "      <td>...</td>\n",
       "      <td>...</td>\n",
       "      <td>...</td>\n",
       "      <td>...</td>\n",
       "      <td>...</td>\n",
       "      <td>...</td>\n",
       "      <td>...</td>\n",
       "    </tr>\n",
       "    <tr>\n",
       "      <th>45496</th>\n",
       "      <td>35.0</td>\n",
       "      <td>4.2</td>\n",
       "      <td>windy</td>\n",
       "      <td>jam</td>\n",
       "      <td>2</td>\n",
       "      <td>drinks</td>\n",
       "      <td>motorcycle</td>\n",
       "      <td>1.0</td>\n",
       "      <td>no</td>\n",
       "      <td>metropolitian</td>\n",
       "      <td>0</td>\n",
       "      <td>10.0</td>\n",
       "      <td>night</td>\n",
       "      <td>16.600272</td>\n",
       "      <td>very_long</td>\n",
       "    </tr>\n",
       "    <tr>\n",
       "      <th>45497</th>\n",
       "      <td>30.0</td>\n",
       "      <td>4.8</td>\n",
       "      <td>windy</td>\n",
       "      <td>high</td>\n",
       "      <td>1</td>\n",
       "      <td>meal</td>\n",
       "      <td>motorcycle</td>\n",
       "      <td>0.0</td>\n",
       "      <td>no</td>\n",
       "      <td>metropolitian</td>\n",
       "      <td>0</td>\n",
       "      <td>10.0</td>\n",
       "      <td>morning</td>\n",
       "      <td>1.489846</td>\n",
       "      <td>short</td>\n",
       "    </tr>\n",
       "    <tr>\n",
       "      <th>45499</th>\n",
       "      <td>30.0</td>\n",
       "      <td>4.9</td>\n",
       "      <td>cloudy</td>\n",
       "      <td>low</td>\n",
       "      <td>1</td>\n",
       "      <td>drinks</td>\n",
       "      <td>scooter</td>\n",
       "      <td>0.0</td>\n",
       "      <td>no</td>\n",
       "      <td>metropolitian</td>\n",
       "      <td>0</td>\n",
       "      <td>15.0</td>\n",
       "      <td>night</td>\n",
       "      <td>4.657195</td>\n",
       "      <td>short</td>\n",
       "    </tr>\n",
       "    <tr>\n",
       "      <th>45500</th>\n",
       "      <td>20.0</td>\n",
       "      <td>4.7</td>\n",
       "      <td>cloudy</td>\n",
       "      <td>high</td>\n",
       "      <td>0</td>\n",
       "      <td>snack</td>\n",
       "      <td>motorcycle</td>\n",
       "      <td>1.0</td>\n",
       "      <td>no</td>\n",
       "      <td>metropolitian</td>\n",
       "      <td>0</td>\n",
       "      <td>5.0</td>\n",
       "      <td>afternoon</td>\n",
       "      <td>6.232393</td>\n",
       "      <td>medium</td>\n",
       "    </tr>\n",
       "    <tr>\n",
       "      <th>45501</th>\n",
       "      <td>23.0</td>\n",
       "      <td>4.9</td>\n",
       "      <td>fog</td>\n",
       "      <td>medium</td>\n",
       "      <td>2</td>\n",
       "      <td>snack</td>\n",
       "      <td>scooter</td>\n",
       "      <td>1.0</td>\n",
       "      <td>no</td>\n",
       "      <td>metropolitian</td>\n",
       "      <td>0</td>\n",
       "      <td>5.0</td>\n",
       "      <td>afternoon</td>\n",
       "      <td>12.074396</td>\n",
       "      <td>long</td>\n",
       "    </tr>\n",
       "  </tbody>\n",
       "</table>\n",
       "<p>37695 rows × 15 columns</p>\n",
       "</div>"
      ],
      "text/plain": [
       "        age  ratings     weather traffic  vehicle_condition type_of_order  \\\n",
       "0      37.0      4.9       sunny    high                  2         snack   \n",
       "1      34.0      4.5      stormy     jam                  2         snack   \n",
       "2      23.0      4.4  sandstorms     low                  0        drinks   \n",
       "3      38.0      4.7       sunny  medium                  0        buffet   \n",
       "4      32.0      4.6      cloudy    high                  1         snack   \n",
       "...     ...      ...         ...     ...                ...           ...   \n",
       "45496  35.0      4.2       windy     jam                  2        drinks   \n",
       "45497  30.0      4.8       windy    high                  1          meal   \n",
       "45499  30.0      4.9      cloudy     low                  1        drinks   \n",
       "45500  20.0      4.7      cloudy    high                  0         snack   \n",
       "45501  23.0      4.9         fog  medium                  2         snack   \n",
       "\n",
       "      type_of_vehicle  multiple_deliveries festival      city_type  \\\n",
       "0          motorcycle                  0.0       no          urban   \n",
       "1             scooter                  1.0       no  metropolitian   \n",
       "2          motorcycle                  1.0       no          urban   \n",
       "3          motorcycle                  1.0       no  metropolitian   \n",
       "4             scooter                  1.0       no  metropolitian   \n",
       "...               ...                  ...      ...            ...   \n",
       "45496      motorcycle                  1.0       no  metropolitian   \n",
       "45497      motorcycle                  0.0       no  metropolitian   \n",
       "45499         scooter                  0.0       no  metropolitian   \n",
       "45500      motorcycle                  1.0       no  metropolitian   \n",
       "45501         scooter                  1.0       no  metropolitian   \n",
       "\n",
       "       is_weekend  pickup_time_minutes order_time_of_day   distance  \\\n",
       "0               1                 15.0           morning   3.025149   \n",
       "1               0                  5.0           evening  20.183530   \n",
       "2               1                 15.0           morning   1.552758   \n",
       "3               0                 10.0           evening   7.790401   \n",
       "4               1                 15.0         afternoon   6.210138   \n",
       "...           ...                  ...               ...        ...   \n",
       "45496           0                 10.0             night  16.600272   \n",
       "45497           0                 10.0           morning   1.489846   \n",
       "45499           0                 15.0             night   4.657195   \n",
       "45500           0                  5.0         afternoon   6.232393   \n",
       "45501           0                  5.0         afternoon  12.074396   \n",
       "\n",
       "      distance_type  \n",
       "0             short  \n",
       "1         very_long  \n",
       "2             short  \n",
       "3            medium  \n",
       "4            medium  \n",
       "...             ...  \n",
       "45496     very_long  \n",
       "45497         short  \n",
       "45499         short  \n",
       "45500        medium  \n",
       "45501          long  \n",
       "\n",
       "[37695 rows x 15 columns]"
      ]
     },
     "execution_count": 162,
     "metadata": {},
     "output_type": "execute_result"
    }
   ],
   "source": [
    "# split into X and y\n",
    "\n",
    "X = temp_df.drop(columns='time_taken')\n",
    "y = temp_df['time_taken']\n",
    "\n",
    "X"
   ]
  },
  {
   "cell_type": "code",
   "execution_count": 163,
   "metadata": {
    "executionInfo": {
     "elapsed": 34,
     "status": "ok",
     "timestamp": 1732867426914,
     "user": {
      "displayName": "Himanshu Arora",
      "userId": "03026800847751892488"
     },
     "user_tz": -330
    },
    "id": "UcJAkX63RelS"
   },
   "outputs": [],
   "source": [
    "# train test split\n",
    "\n",
    "X_train, X_test, y_train, y_test = train_test_split(X,y,test_size=0.2,random_state=42)"
   ]
  },
  {
   "cell_type": "code",
   "execution_count": 164,
   "metadata": {
    "colab": {
     "base_uri": "https://localhost:8080/"
    },
    "executionInfo": {
     "elapsed": 34,
     "status": "ok",
     "timestamp": 1732867426915,
     "user": {
      "displayName": "Himanshu Arora",
      "userId": "03026800847751892488"
     },
     "user_tz": -330
    },
    "id": "uL9NQizbRelT",
    "outputId": "c702e073-abdd-40e6-9efe-a8b27bcf8576"
   },
   "outputs": [
    {
     "name": "stdout",
     "output_type": "stream",
     "text": [
      "The size of train data is (30156, 15)\n",
      "The shape of test data is (7539, 15)\n"
     ]
    }
   ],
   "source": [
    "print(\"The size of train data is\",X_train.shape)\n",
    "print(\"The shape of test data is\",X_test.shape)"
   ]
  },
  {
   "cell_type": "code",
   "execution_count": 165,
   "metadata": {
    "colab": {
     "base_uri": "https://localhost:8080/",
     "height": 554
    },
    "executionInfo": {
     "elapsed": 1185,
     "status": "ok",
     "timestamp": 1732867428073,
     "user": {
      "displayName": "Himanshu Arora",
      "userId": "03026800847751892488"
     },
     "user_tz": -330
    },
    "id": "DJzsaTRmR7XJ",
    "outputId": "fe8d8efc-17fe-4fc4-94c9-f7e3a5f37385"
   },
   "outputs": [
    {
     "data": {
      "text/plain": [
       "age                    0\n",
       "ratings                0\n",
       "weather                0\n",
       "traffic                0\n",
       "vehicle_condition      0\n",
       "type_of_order          0\n",
       "type_of_vehicle        0\n",
       "multiple_deliveries    0\n",
       "festival               0\n",
       "city_type              0\n",
       "is_weekend             0\n",
       "pickup_time_minutes    0\n",
       "order_time_of_day      0\n",
       "distance               0\n",
       "distance_type          0\n",
       "dtype: int64"
      ]
     },
     "execution_count": 165,
     "metadata": {},
     "output_type": "execute_result"
    }
   ],
   "source": [
    "# missing values in train data\n",
    "\n",
    "X_train.isna().sum()"
   ]
  },
  {
   "cell_type": "code",
   "execution_count": 166,
   "metadata": {
    "executionInfo": {
     "elapsed": 133,
     "status": "ok",
     "timestamp": 1732867428074,
     "user": {
      "displayName": "Himanshu Arora",
      "userId": "03026800847751892488"
     },
     "user_tz": -330
    },
    "id": "6FSRQQo_RelT"
   },
   "outputs": [],
   "source": [
    "# transform target column\n",
    "\n",
    "pt = PowerTransformer()\n",
    "\n",
    "y_train_pt = pt.fit_transform(y_train.values.reshape(-1,1))\n",
    "y_test_pt = pt.transform(y_test.values.reshape(-1,1))"
   ]
  },
  {
   "cell_type": "code",
   "execution_count": 167,
   "metadata": {
    "colab": {
     "base_uri": "https://localhost:8080/"
    },
    "executionInfo": {
     "elapsed": 131,
     "status": "ok",
     "timestamp": 1732867428075,
     "user": {
      "displayName": "Himanshu Arora",
      "userId": "03026800847751892488"
     },
     "user_tz": -330
    },
    "id": "TWPzIQCUj_74",
    "outputId": "0746142a-dbbc-43e7-d330-9e52d6e4f62a"
   },
   "outputs": [
    {
     "data": {
      "text/plain": [
       "Index(['age', 'ratings', 'weather', 'traffic', 'multiple_deliveries',\n",
       "       'festival', 'city_type', 'pickup_time_minutes', 'order_time_of_day',\n",
       "       'distance', 'distance_type'],\n",
       "      dtype='object')"
      ]
     },
     "execution_count": 167,
     "metadata": {},
     "output_type": "execute_result"
    }
   ],
   "source": [
    "missing_cols"
   ]
  },
  {
   "cell_type": "code",
   "execution_count": 168,
   "metadata": {
    "colab": {
     "base_uri": "https://localhost:8080/"
    },
    "executionInfo": {
     "elapsed": 124,
     "status": "ok",
     "timestamp": 1732867428077,
     "user": {
      "displayName": "Himanshu Arora",
      "userId": "03026800847751892488"
     },
     "user_tz": -330
    },
    "id": "SaXhVBXJu6mO",
    "outputId": "380eb4a1-e421-4df8-8a84-e70a0bc46048"
   },
   "outputs": [
    {
     "data": {
      "text/plain": [
       "0.0"
      ]
     },
     "execution_count": 168,
     "metadata": {},
     "output_type": "execute_result"
    }
   ],
   "source": [
    "# percentage of rows in data having missing values\n",
    "\n",
    "(\n",
    "    X_train\n",
    "    .isna()\n",
    "    .any(axis=1)\n",
    "    .mean()\n",
    "    .round(2) * 100\n",
    ")\n"
   ]
  },
  {
   "cell_type": "markdown",
   "metadata": {
    "id": "QgGmD3bUeZNu"
   },
   "source": [
    "# Pre Processing Pipeline"
   ]
  },
  {
   "cell_type": "code",
   "execution_count": 170,
   "metadata": {
    "executionInfo": {
     "elapsed": 118,
     "status": "ok",
     "timestamp": 1732867428077,
     "user": {
      "displayName": "Himanshu Arora",
      "userId": "03026800847751892488"
     },
     "user_tz": -330
    },
    "id": "84BqkPZdMlq8"
   },
   "outputs": [],
   "source": [
    "num_cols = [\"age\",\"ratings\",\"pickup_time_minutes\",\"distance\"]\n",
    "\n",
    "nominal_cat_cols = ['weather',\n",
    "                    'type_of_order',\n",
    "                    'type_of_vehicle',\n",
    "                    \"festival\",\n",
    "                    \"city_type\",\n",
    "                    \"is_weekend\",\n",
    "                    \"order_time_of_day\"]\n",
    "\n",
    "ordinal_cat_cols = [\"traffic\",\"distance_type\"]"
   ]
  },
  {
   "cell_type": "code",
   "execution_count": 171,
   "metadata": {
    "colab": {
     "base_uri": "https://localhost:8080/"
    },
    "executionInfo": {
     "elapsed": 117,
     "status": "ok",
     "timestamp": 1732867428078,
     "user": {
      "displayName": "Himanshu Arora",
      "userId": "03026800847751892488"
     },
     "user_tz": -330
    },
    "id": "fPXnF6NUlGRB",
    "outputId": "0167852c-20c4-4ecd-dde1-737796c60942"
   },
   "outputs": [
    {
     "data": {
      "text/plain": [
       "['weather',\n",
       " 'type_of_order',\n",
       " 'type_of_vehicle',\n",
       " 'festival',\n",
       " 'city_type',\n",
       " 'is_weekend',\n",
       " 'order_time_of_day']"
      ]
     },
     "execution_count": 171,
     "metadata": {},
     "output_type": "execute_result"
    }
   ],
   "source": [
    "nominal_cat_cols"
   ]
  },
  {
   "cell_type": "code",
   "execution_count": 172,
   "metadata": {
    "colab": {
     "base_uri": "https://localhost:8080/",
     "height": 554
    },
    "executionInfo": {
     "elapsed": 112,
     "status": "ok",
     "timestamp": 1732867428080,
     "user": {
      "displayName": "Himanshu Arora",
      "userId": "03026800847751892488"
     },
     "user_tz": -330
    },
    "id": "oUYxye7koxEk",
    "outputId": "af70a8e8-9f73-4349-b433-875c7873ed81"
   },
   "outputs": [
    {
     "data": {
      "text/plain": [
       "age                    0\n",
       "ratings                0\n",
       "weather                0\n",
       "traffic                0\n",
       "vehicle_condition      0\n",
       "type_of_order          0\n",
       "type_of_vehicle        0\n",
       "multiple_deliveries    0\n",
       "festival               0\n",
       "city_type              0\n",
       "is_weekend             0\n",
       "pickup_time_minutes    0\n",
       "order_time_of_day      0\n",
       "distance               0\n",
       "distance_type          0\n",
       "dtype: int64"
      ]
     },
     "execution_count": 172,
     "metadata": {},
     "output_type": "execute_result"
    }
   ],
   "source": [
    "X_train.isna().sum()"
   ]
  },
  {
   "cell_type": "code",
   "execution_count": 173,
   "metadata": {
    "executionInfo": {
     "elapsed": 107,
     "status": "ok",
     "timestamp": 1732867428081,
     "user": {
      "displayName": "Himanshu Arora",
      "userId": "03026800847751892488"
     },
     "user_tz": -330
    },
    "id": "pBUR-5tyeY2H"
   },
   "outputs": [],
   "source": [
    "# # features to fill values with mode\n",
    "\n",
    "# features_to_fill_mode = ['multiple_deliveries','festival','city_type']\n",
    "# features_to_fill_missing = [col for col in nominal_cat_cols if col not in features_to_fill_mode]\n",
    "\n",
    "# features_to_fill_missing"
   ]
  },
  {
   "cell_type": "code",
   "execution_count": 174,
   "metadata": {
    "executionInfo": {
     "elapsed": 108,
     "status": "ok",
     "timestamp": 1732867428084,
     "user": {
      "displayName": "Himanshu Arora",
      "userId": "03026800847751892488"
     },
     "user_tz": -330
    },
    "id": "259ezcJQeY8T"
   },
   "outputs": [],
   "source": [
    "# # simple imputer to fill categorical vars with mode\n",
    "\n",
    "# simple_imputer = ColumnTransformer(transformers=[\n",
    "#     (\"mode_imputer\",SimpleImputer(strategy=\"most_frequent\",add_indicator=True),features_to_fill_mode),\n",
    "#     (\"missing_imputer\",SimpleImputer(strategy=\"constant\",fill_value=\"missing\",add_indicator=True),features_to_fill_missing)\n",
    "# ],remainder=\"passthrough\",n_jobs=-1,force_int_remainder_cols=False,verbose_feature_names_out=False)\n",
    "\n",
    "# simple_imputer"
   ]
  },
  {
   "cell_type": "code",
   "execution_count": 175,
   "metadata": {
    "executionInfo": {
     "elapsed": 107,
     "status": "ok",
     "timestamp": 1732867428084,
     "user": {
      "displayName": "Himanshu Arora",
      "userId": "03026800847751892488"
     },
     "user_tz": -330
    },
    "id": "YERItBkNguCy"
   },
   "outputs": [],
   "source": [
    "# simple_imputer.fit_transform(X_train)"
   ]
  },
  {
   "cell_type": "code",
   "execution_count": 176,
   "metadata": {
    "executionInfo": {
     "elapsed": 105,
     "status": "ok",
     "timestamp": 1732867428085,
     "user": {
      "displayName": "Himanshu Arora",
      "userId": "03026800847751892488"
     },
     "user_tz": -330
    },
    "id": "64qFA5LOomEX"
   },
   "outputs": [],
   "source": [
    "# simple_imputer.fit_transform(X_train).isna().sum()"
   ]
  },
  {
   "cell_type": "code",
   "execution_count": 177,
   "metadata": {
    "executionInfo": {
     "elapsed": 103,
     "status": "ok",
     "timestamp": 1732867428085,
     "user": {
      "displayName": "Himanshu Arora",
      "userId": "03026800847751892488"
     },
     "user_tz": -330
    },
    "id": "3m4pvr89eYvo"
   },
   "outputs": [],
   "source": [
    "# knn imputer\n",
    "\n",
    "# knn_imputer = KNNImputer(n_neighbors=5)"
   ]
  },
  {
   "cell_type": "code",
   "execution_count": 178,
   "metadata": {
    "executionInfo": {
     "elapsed": 102,
     "status": "ok",
     "timestamp": 1732867428086,
     "user": {
      "displayName": "Himanshu Arora",
      "userId": "03026800847751892488"
     },
     "user_tz": -330
    },
    "id": "CxotCZQykGzV"
   },
   "outputs": [],
   "source": [
    "# do basic preprocessing\n",
    "\n",
    "num_cols = [\"age\",\"ratings\",\"pickup_time_minutes\",\"distance\"]\n",
    "\n",
    "nominal_cat_cols = ['weather','type_of_order',\n",
    "                    'type_of_vehicle',\"festival\",\n",
    "                    \"city_type\",\n",
    "                    \"is_weekend\",\n",
    "                    \"order_time_of_day\"]\n",
    "\n",
    "ordinal_cat_cols = [\"traffic\",\"distance_type\"]"
   ]
  },
  {
   "cell_type": "code",
   "execution_count": 180,
   "metadata": {
    "executionInfo": {
     "elapsed": 101,
     "status": "ok",
     "timestamp": 1732867428086,
     "user": {
      "displayName": "Himanshu Arora",
      "userId": "03026800847751892488"
     },
     "user_tz": -330
    },
    "id": "1vXEw79MkGzW"
   },
   "outputs": [],
   "source": [
    "# generate order for ordinal encoding\n",
    "\n",
    "traffic_order = [\"low\",\"medium\",\"high\",\"jam\"]\n",
    "\n",
    "distance_type_order = [\"short\",\"medium\",\"long\",\"very_long\"]"
   ]
  },
  {
   "cell_type": "code",
   "execution_count": 181,
   "metadata": {
    "colab": {
     "base_uri": "https://localhost:8080/"
    },
    "executionInfo": {
     "elapsed": 101,
     "status": "ok",
     "timestamp": 1732867428087,
     "user": {
      "displayName": "Himanshu Arora",
      "userId": "03026800847751892488"
     },
     "user_tz": -330
    },
    "id": "Zdqxf1Kinfde",
    "outputId": "c866c15a-3055-4bc9-a9e3-ccc985b38746"
   },
   "outputs": [
    {
     "name": "stdout",
     "output_type": "stream",
     "text": [
      "traffic ['jam' 'medium' 'high' 'low']\n",
      "distance_type ['medium' 'short' 'long' 'very_long']\n"
     ]
    }
   ],
   "source": [
    "# unique categories the ordinal columns\n",
    "\n",
    "for col in ordinal_cat_cols:\n",
    "    print(col,X_train[col].unique())"
   ]
  },
  {
   "cell_type": "code",
   "execution_count": 182,
   "metadata": {
    "colab": {
     "base_uri": "https://localhost:8080/",
     "height": 136
    },
    "executionInfo": {
     "elapsed": 95,
     "status": "ok",
     "timestamp": 1732867428088,
     "user": {
      "displayName": "Himanshu Arora",
      "userId": "03026800847751892488"
     },
     "user_tz": -330
    },
    "id": "IkSOLqvBkGzW",
    "outputId": "98c18e0d-c4e1-4f55-d9ff-88d49fca0ea9"
   },
   "outputs": [
    {
     "data": {
      "text/html": [
       "<style>#sk-container-id-4 {\n",
       "  /* Definition of color scheme common for light and dark mode */\n",
       "  --sklearn-color-text: #000;\n",
       "  --sklearn-color-text-muted: #666;\n",
       "  --sklearn-color-line: gray;\n",
       "  /* Definition of color scheme for unfitted estimators */\n",
       "  --sklearn-color-unfitted-level-0: #fff5e6;\n",
       "  --sklearn-color-unfitted-level-1: #f6e4d2;\n",
       "  --sklearn-color-unfitted-level-2: #ffe0b3;\n",
       "  --sklearn-color-unfitted-level-3: chocolate;\n",
       "  /* Definition of color scheme for fitted estimators */\n",
       "  --sklearn-color-fitted-level-0: #f0f8ff;\n",
       "  --sklearn-color-fitted-level-1: #d4ebff;\n",
       "  --sklearn-color-fitted-level-2: #b3dbfd;\n",
       "  --sklearn-color-fitted-level-3: cornflowerblue;\n",
       "\n",
       "  /* Specific color for light theme */\n",
       "  --sklearn-color-text-on-default-background: var(--sg-text-color, var(--theme-code-foreground, var(--jp-content-font-color1, black)));\n",
       "  --sklearn-color-background: var(--sg-background-color, var(--theme-background, var(--jp-layout-color0, white)));\n",
       "  --sklearn-color-border-box: var(--sg-text-color, var(--theme-code-foreground, var(--jp-content-font-color1, black)));\n",
       "  --sklearn-color-icon: #696969;\n",
       "\n",
       "  @media (prefers-color-scheme: dark) {\n",
       "    /* Redefinition of color scheme for dark theme */\n",
       "    --sklearn-color-text-on-default-background: var(--sg-text-color, var(--theme-code-foreground, var(--jp-content-font-color1, white)));\n",
       "    --sklearn-color-background: var(--sg-background-color, var(--theme-background, var(--jp-layout-color0, #111)));\n",
       "    --sklearn-color-border-box: var(--sg-text-color, var(--theme-code-foreground, var(--jp-content-font-color1, white)));\n",
       "    --sklearn-color-icon: #878787;\n",
       "  }\n",
       "}\n",
       "\n",
       "#sk-container-id-4 {\n",
       "  color: var(--sklearn-color-text);\n",
       "}\n",
       "\n",
       "#sk-container-id-4 pre {\n",
       "  padding: 0;\n",
       "}\n",
       "\n",
       "#sk-container-id-4 input.sk-hidden--visually {\n",
       "  border: 0;\n",
       "  clip: rect(1px 1px 1px 1px);\n",
       "  clip: rect(1px, 1px, 1px, 1px);\n",
       "  height: 1px;\n",
       "  margin: -1px;\n",
       "  overflow: hidden;\n",
       "  padding: 0;\n",
       "  position: absolute;\n",
       "  width: 1px;\n",
       "}\n",
       "\n",
       "#sk-container-id-4 div.sk-dashed-wrapped {\n",
       "  border: 1px dashed var(--sklearn-color-line);\n",
       "  margin: 0 0.4em 0.5em 0.4em;\n",
       "  box-sizing: border-box;\n",
       "  padding-bottom: 0.4em;\n",
       "  background-color: var(--sklearn-color-background);\n",
       "}\n",
       "\n",
       "#sk-container-id-4 div.sk-container {\n",
       "  /* jupyter's `normalize.less` sets `[hidden] { display: none; }`\n",
       "     but bootstrap.min.css set `[hidden] { display: none !important; }`\n",
       "     so we also need the `!important` here to be able to override the\n",
       "     default hidden behavior on the sphinx rendered scikit-learn.org.\n",
       "     See: https://github.com/scikit-learn/scikit-learn/issues/21755 */\n",
       "  display: inline-block !important;\n",
       "  position: relative;\n",
       "}\n",
       "\n",
       "#sk-container-id-4 div.sk-text-repr-fallback {\n",
       "  display: none;\n",
       "}\n",
       "\n",
       "div.sk-parallel-item,\n",
       "div.sk-serial,\n",
       "div.sk-item {\n",
       "  /* draw centered vertical line to link estimators */\n",
       "  background-image: linear-gradient(var(--sklearn-color-text-on-default-background), var(--sklearn-color-text-on-default-background));\n",
       "  background-size: 2px 100%;\n",
       "  background-repeat: no-repeat;\n",
       "  background-position: center center;\n",
       "}\n",
       "\n",
       "/* Parallel-specific style estimator block */\n",
       "\n",
       "#sk-container-id-4 div.sk-parallel-item::after {\n",
       "  content: \"\";\n",
       "  width: 100%;\n",
       "  border-bottom: 2px solid var(--sklearn-color-text-on-default-background);\n",
       "  flex-grow: 1;\n",
       "}\n",
       "\n",
       "#sk-container-id-4 div.sk-parallel {\n",
       "  display: flex;\n",
       "  align-items: stretch;\n",
       "  justify-content: center;\n",
       "  background-color: var(--sklearn-color-background);\n",
       "  position: relative;\n",
       "}\n",
       "\n",
       "#sk-container-id-4 div.sk-parallel-item {\n",
       "  display: flex;\n",
       "  flex-direction: column;\n",
       "}\n",
       "\n",
       "#sk-container-id-4 div.sk-parallel-item:first-child::after {\n",
       "  align-self: flex-end;\n",
       "  width: 50%;\n",
       "}\n",
       "\n",
       "#sk-container-id-4 div.sk-parallel-item:last-child::after {\n",
       "  align-self: flex-start;\n",
       "  width: 50%;\n",
       "}\n",
       "\n",
       "#sk-container-id-4 div.sk-parallel-item:only-child::after {\n",
       "  width: 0;\n",
       "}\n",
       "\n",
       "/* Serial-specific style estimator block */\n",
       "\n",
       "#sk-container-id-4 div.sk-serial {\n",
       "  display: flex;\n",
       "  flex-direction: column;\n",
       "  align-items: center;\n",
       "  background-color: var(--sklearn-color-background);\n",
       "  padding-right: 1em;\n",
       "  padding-left: 1em;\n",
       "}\n",
       "\n",
       "\n",
       "/* Toggleable style: style used for estimator/Pipeline/ColumnTransformer box that is\n",
       "clickable and can be expanded/collapsed.\n",
       "- Pipeline and ColumnTransformer use this feature and define the default style\n",
       "- Estimators will overwrite some part of the style using the `sk-estimator` class\n",
       "*/\n",
       "\n",
       "/* Pipeline and ColumnTransformer style (default) */\n",
       "\n",
       "#sk-container-id-4 div.sk-toggleable {\n",
       "  /* Default theme specific background. It is overwritten whether we have a\n",
       "  specific estimator or a Pipeline/ColumnTransformer */\n",
       "  background-color: var(--sklearn-color-background);\n",
       "}\n",
       "\n",
       "/* Toggleable label */\n",
       "#sk-container-id-4 label.sk-toggleable__label {\n",
       "  cursor: pointer;\n",
       "  display: flex;\n",
       "  width: 100%;\n",
       "  margin-bottom: 0;\n",
       "  padding: 0.5em;\n",
       "  box-sizing: border-box;\n",
       "  text-align: center;\n",
       "  align-items: start;\n",
       "  justify-content: space-between;\n",
       "  gap: 0.5em;\n",
       "}\n",
       "\n",
       "#sk-container-id-4 label.sk-toggleable__label .caption {\n",
       "  font-size: 0.6rem;\n",
       "  font-weight: lighter;\n",
       "  color: var(--sklearn-color-text-muted);\n",
       "}\n",
       "\n",
       "#sk-container-id-4 label.sk-toggleable__label-arrow:before {\n",
       "  /* Arrow on the left of the label */\n",
       "  content: \"▸\";\n",
       "  float: left;\n",
       "  margin-right: 0.25em;\n",
       "  color: var(--sklearn-color-icon);\n",
       "}\n",
       "\n",
       "#sk-container-id-4 label.sk-toggleable__label-arrow:hover:before {\n",
       "  color: var(--sklearn-color-text);\n",
       "}\n",
       "\n",
       "/* Toggleable content - dropdown */\n",
       "\n",
       "#sk-container-id-4 div.sk-toggleable__content {\n",
       "  max-height: 0;\n",
       "  max-width: 0;\n",
       "  overflow: hidden;\n",
       "  text-align: left;\n",
       "  /* unfitted */\n",
       "  background-color: var(--sklearn-color-unfitted-level-0);\n",
       "}\n",
       "\n",
       "#sk-container-id-4 div.sk-toggleable__content.fitted {\n",
       "  /* fitted */\n",
       "  background-color: var(--sklearn-color-fitted-level-0);\n",
       "}\n",
       "\n",
       "#sk-container-id-4 div.sk-toggleable__content pre {\n",
       "  margin: 0.2em;\n",
       "  border-radius: 0.25em;\n",
       "  color: var(--sklearn-color-text);\n",
       "  /* unfitted */\n",
       "  background-color: var(--sklearn-color-unfitted-level-0);\n",
       "}\n",
       "\n",
       "#sk-container-id-4 div.sk-toggleable__content.fitted pre {\n",
       "  /* unfitted */\n",
       "  background-color: var(--sklearn-color-fitted-level-0);\n",
       "}\n",
       "\n",
       "#sk-container-id-4 input.sk-toggleable__control:checked~div.sk-toggleable__content {\n",
       "  /* Expand drop-down */\n",
       "  max-height: 200px;\n",
       "  max-width: 100%;\n",
       "  overflow: auto;\n",
       "}\n",
       "\n",
       "#sk-container-id-4 input.sk-toggleable__control:checked~label.sk-toggleable__label-arrow:before {\n",
       "  content: \"▾\";\n",
       "}\n",
       "\n",
       "/* Pipeline/ColumnTransformer-specific style */\n",
       "\n",
       "#sk-container-id-4 div.sk-label input.sk-toggleable__control:checked~label.sk-toggleable__label {\n",
       "  color: var(--sklearn-color-text);\n",
       "  background-color: var(--sklearn-color-unfitted-level-2);\n",
       "}\n",
       "\n",
       "#sk-container-id-4 div.sk-label.fitted input.sk-toggleable__control:checked~label.sk-toggleable__label {\n",
       "  background-color: var(--sklearn-color-fitted-level-2);\n",
       "}\n",
       "\n",
       "/* Estimator-specific style */\n",
       "\n",
       "/* Colorize estimator box */\n",
       "#sk-container-id-4 div.sk-estimator input.sk-toggleable__control:checked~label.sk-toggleable__label {\n",
       "  /* unfitted */\n",
       "  background-color: var(--sklearn-color-unfitted-level-2);\n",
       "}\n",
       "\n",
       "#sk-container-id-4 div.sk-estimator.fitted input.sk-toggleable__control:checked~label.sk-toggleable__label {\n",
       "  /* fitted */\n",
       "  background-color: var(--sklearn-color-fitted-level-2);\n",
       "}\n",
       "\n",
       "#sk-container-id-4 div.sk-label label.sk-toggleable__label,\n",
       "#sk-container-id-4 div.sk-label label {\n",
       "  /* The background is the default theme color */\n",
       "  color: var(--sklearn-color-text-on-default-background);\n",
       "}\n",
       "\n",
       "/* On hover, darken the color of the background */\n",
       "#sk-container-id-4 div.sk-label:hover label.sk-toggleable__label {\n",
       "  color: var(--sklearn-color-text);\n",
       "  background-color: var(--sklearn-color-unfitted-level-2);\n",
       "}\n",
       "\n",
       "/* Label box, darken color on hover, fitted */\n",
       "#sk-container-id-4 div.sk-label.fitted:hover label.sk-toggleable__label.fitted {\n",
       "  color: var(--sklearn-color-text);\n",
       "  background-color: var(--sklearn-color-fitted-level-2);\n",
       "}\n",
       "\n",
       "/* Estimator label */\n",
       "\n",
       "#sk-container-id-4 div.sk-label label {\n",
       "  font-family: monospace;\n",
       "  font-weight: bold;\n",
       "  display: inline-block;\n",
       "  line-height: 1.2em;\n",
       "}\n",
       "\n",
       "#sk-container-id-4 div.sk-label-container {\n",
       "  text-align: center;\n",
       "}\n",
       "\n",
       "/* Estimator-specific */\n",
       "#sk-container-id-4 div.sk-estimator {\n",
       "  font-family: monospace;\n",
       "  border: 1px dotted var(--sklearn-color-border-box);\n",
       "  border-radius: 0.25em;\n",
       "  box-sizing: border-box;\n",
       "  margin-bottom: 0.5em;\n",
       "  /* unfitted */\n",
       "  background-color: var(--sklearn-color-unfitted-level-0);\n",
       "}\n",
       "\n",
       "#sk-container-id-4 div.sk-estimator.fitted {\n",
       "  /* fitted */\n",
       "  background-color: var(--sklearn-color-fitted-level-0);\n",
       "}\n",
       "\n",
       "/* on hover */\n",
       "#sk-container-id-4 div.sk-estimator:hover {\n",
       "  /* unfitted */\n",
       "  background-color: var(--sklearn-color-unfitted-level-2);\n",
       "}\n",
       "\n",
       "#sk-container-id-4 div.sk-estimator.fitted:hover {\n",
       "  /* fitted */\n",
       "  background-color: var(--sklearn-color-fitted-level-2);\n",
       "}\n",
       "\n",
       "/* Specification for estimator info (e.g. \"i\" and \"?\") */\n",
       "\n",
       "/* Common style for \"i\" and \"?\" */\n",
       "\n",
       ".sk-estimator-doc-link,\n",
       "a:link.sk-estimator-doc-link,\n",
       "a:visited.sk-estimator-doc-link {\n",
       "  float: right;\n",
       "  font-size: smaller;\n",
       "  line-height: 1em;\n",
       "  font-family: monospace;\n",
       "  background-color: var(--sklearn-color-background);\n",
       "  border-radius: 1em;\n",
       "  height: 1em;\n",
       "  width: 1em;\n",
       "  text-decoration: none !important;\n",
       "  margin-left: 0.5em;\n",
       "  text-align: center;\n",
       "  /* unfitted */\n",
       "  border: var(--sklearn-color-unfitted-level-1) 1pt solid;\n",
       "  color: var(--sklearn-color-unfitted-level-1);\n",
       "}\n",
       "\n",
       ".sk-estimator-doc-link.fitted,\n",
       "a:link.sk-estimator-doc-link.fitted,\n",
       "a:visited.sk-estimator-doc-link.fitted {\n",
       "  /* fitted */\n",
       "  border: var(--sklearn-color-fitted-level-1) 1pt solid;\n",
       "  color: var(--sklearn-color-fitted-level-1);\n",
       "}\n",
       "\n",
       "/* On hover */\n",
       "div.sk-estimator:hover .sk-estimator-doc-link:hover,\n",
       ".sk-estimator-doc-link:hover,\n",
       "div.sk-label-container:hover .sk-estimator-doc-link:hover,\n",
       ".sk-estimator-doc-link:hover {\n",
       "  /* unfitted */\n",
       "  background-color: var(--sklearn-color-unfitted-level-3);\n",
       "  color: var(--sklearn-color-background);\n",
       "  text-decoration: none;\n",
       "}\n",
       "\n",
       "div.sk-estimator.fitted:hover .sk-estimator-doc-link.fitted:hover,\n",
       ".sk-estimator-doc-link.fitted:hover,\n",
       "div.sk-label-container:hover .sk-estimator-doc-link.fitted:hover,\n",
       ".sk-estimator-doc-link.fitted:hover {\n",
       "  /* fitted */\n",
       "  background-color: var(--sklearn-color-fitted-level-3);\n",
       "  color: var(--sklearn-color-background);\n",
       "  text-decoration: none;\n",
       "}\n",
       "\n",
       "/* Span, style for the box shown on hovering the info icon */\n",
       ".sk-estimator-doc-link span {\n",
       "  display: none;\n",
       "  z-index: 9999;\n",
       "  position: relative;\n",
       "  font-weight: normal;\n",
       "  right: .2ex;\n",
       "  padding: .5ex;\n",
       "  margin: .5ex;\n",
       "  width: min-content;\n",
       "  min-width: 20ex;\n",
       "  max-width: 50ex;\n",
       "  color: var(--sklearn-color-text);\n",
       "  box-shadow: 2pt 2pt 4pt #999;\n",
       "  /* unfitted */\n",
       "  background: var(--sklearn-color-unfitted-level-0);\n",
       "  border: .5pt solid var(--sklearn-color-unfitted-level-3);\n",
       "}\n",
       "\n",
       ".sk-estimator-doc-link.fitted span {\n",
       "  /* fitted */\n",
       "  background: var(--sklearn-color-fitted-level-0);\n",
       "  border: var(--sklearn-color-fitted-level-3);\n",
       "}\n",
       "\n",
       ".sk-estimator-doc-link:hover span {\n",
       "  display: block;\n",
       "}\n",
       "\n",
       "/* \"?\"-specific style due to the `<a>` HTML tag */\n",
       "\n",
       "#sk-container-id-4 a.estimator_doc_link {\n",
       "  float: right;\n",
       "  font-size: 1rem;\n",
       "  line-height: 1em;\n",
       "  font-family: monospace;\n",
       "  background-color: var(--sklearn-color-background);\n",
       "  border-radius: 1rem;\n",
       "  height: 1rem;\n",
       "  width: 1rem;\n",
       "  text-decoration: none;\n",
       "  /* unfitted */\n",
       "  color: var(--sklearn-color-unfitted-level-1);\n",
       "  border: var(--sklearn-color-unfitted-level-1) 1pt solid;\n",
       "}\n",
       "\n",
       "#sk-container-id-4 a.estimator_doc_link.fitted {\n",
       "  /* fitted */\n",
       "  border: var(--sklearn-color-fitted-level-1) 1pt solid;\n",
       "  color: var(--sklearn-color-fitted-level-1);\n",
       "}\n",
       "\n",
       "/* On hover */\n",
       "#sk-container-id-4 a.estimator_doc_link:hover {\n",
       "  /* unfitted */\n",
       "  background-color: var(--sklearn-color-unfitted-level-3);\n",
       "  color: var(--sklearn-color-background);\n",
       "  text-decoration: none;\n",
       "}\n",
       "\n",
       "#sk-container-id-4 a.estimator_doc_link.fitted:hover {\n",
       "  /* fitted */\n",
       "  background-color: var(--sklearn-color-fitted-level-3);\n",
       "}\n",
       "</style><div id=\"sk-container-id-4\" class=\"sk-top-container\"><div class=\"sk-text-repr-fallback\"><pre>ColumnTransformer(force_int_remainder_cols=False, n_jobs=-1,\n",
       "                  remainder=&#x27;passthrough&#x27;,\n",
       "                  transformers=[(&#x27;scale&#x27;, MinMaxScaler(),\n",
       "                                 [&#x27;age&#x27;, &#x27;ratings&#x27;, &#x27;pickup_time_minutes&#x27;,\n",
       "                                  &#x27;distance&#x27;]),\n",
       "                                (&#x27;nominal_encode&#x27;,\n",
       "                                 OneHotEncoder(drop=&#x27;first&#x27;,\n",
       "                                               handle_unknown=&#x27;ignore&#x27;,\n",
       "                                               sparse_output=False),\n",
       "                                 [&#x27;weather&#x27;, &#x27;type_of_order&#x27;, &#x27;type_of_vehicle&#x27;,\n",
       "                                  &#x27;festival&#x27;, &#x27;city_type&#x27;, &#x27;is_weekend&#x27;,\n",
       "                                  &#x27;order_time_of_day&#x27;]),\n",
       "                                (&#x27;ordinal_encode&#x27;,\n",
       "                                 OrdinalEncoder(categories=[[&#x27;low&#x27;, &#x27;medium&#x27;,\n",
       "                                                             &#x27;high&#x27;, &#x27;jam&#x27;],\n",
       "                                                            [&#x27;short&#x27;, &#x27;medium&#x27;,\n",
       "                                                             &#x27;long&#x27;,\n",
       "                                                             &#x27;very_long&#x27;]],\n",
       "                                                encoded_missing_value=-999,\n",
       "                                                handle_unknown=&#x27;use_encoded_value&#x27;,\n",
       "                                                unknown_value=-1),\n",
       "                                 [&#x27;traffic&#x27;, &#x27;distance_type&#x27;])],\n",
       "                  verbose_feature_names_out=False)</pre><b>In a Jupyter environment, please rerun this cell to show the HTML representation or trust the notebook. <br />On GitHub, the HTML representation is unable to render, please try loading this page with nbviewer.org.</b></div><div class=\"sk-container\" hidden><div class=\"sk-item sk-dashed-wrapped\"><div class=\"sk-label-container\"><div class=\"sk-label  sk-toggleable\"><input class=\"sk-toggleable__control sk-hidden--visually\" id=\"sk-estimator-id-21\" type=\"checkbox\" ><label for=\"sk-estimator-id-21\" class=\"sk-toggleable__label  sk-toggleable__label-arrow\"><div><div>ColumnTransformer</div></div><div><a class=\"sk-estimator-doc-link \" rel=\"noreferrer\" target=\"_blank\" href=\"https://scikit-learn.org/1.6/modules/generated/sklearn.compose.ColumnTransformer.html\">?<span>Documentation for ColumnTransformer</span></a><span class=\"sk-estimator-doc-link \">i<span>Not fitted</span></span></div></label><div class=\"sk-toggleable__content \"><pre>ColumnTransformer(force_int_remainder_cols=False, n_jobs=-1,\n",
       "                  remainder=&#x27;passthrough&#x27;,\n",
       "                  transformers=[(&#x27;scale&#x27;, MinMaxScaler(),\n",
       "                                 [&#x27;age&#x27;, &#x27;ratings&#x27;, &#x27;pickup_time_minutes&#x27;,\n",
       "                                  &#x27;distance&#x27;]),\n",
       "                                (&#x27;nominal_encode&#x27;,\n",
       "                                 OneHotEncoder(drop=&#x27;first&#x27;,\n",
       "                                               handle_unknown=&#x27;ignore&#x27;,\n",
       "                                               sparse_output=False),\n",
       "                                 [&#x27;weather&#x27;, &#x27;type_of_order&#x27;, &#x27;type_of_vehicle&#x27;,\n",
       "                                  &#x27;festival&#x27;, &#x27;city_type&#x27;, &#x27;is_weekend&#x27;,\n",
       "                                  &#x27;order_time_of_day&#x27;]),\n",
       "                                (&#x27;ordinal_encode&#x27;,\n",
       "                                 OrdinalEncoder(categories=[[&#x27;low&#x27;, &#x27;medium&#x27;,\n",
       "                                                             &#x27;high&#x27;, &#x27;jam&#x27;],\n",
       "                                                            [&#x27;short&#x27;, &#x27;medium&#x27;,\n",
       "                                                             &#x27;long&#x27;,\n",
       "                                                             &#x27;very_long&#x27;]],\n",
       "                                                encoded_missing_value=-999,\n",
       "                                                handle_unknown=&#x27;use_encoded_value&#x27;,\n",
       "                                                unknown_value=-1),\n",
       "                                 [&#x27;traffic&#x27;, &#x27;distance_type&#x27;])],\n",
       "                  verbose_feature_names_out=False)</pre></div> </div></div><div class=\"sk-parallel\"><div class=\"sk-parallel-item\"><div class=\"sk-item\"><div class=\"sk-label-container\"><div class=\"sk-label  sk-toggleable\"><input class=\"sk-toggleable__control sk-hidden--visually\" id=\"sk-estimator-id-22\" type=\"checkbox\" ><label for=\"sk-estimator-id-22\" class=\"sk-toggleable__label  sk-toggleable__label-arrow\"><div><div>scale</div></div></label><div class=\"sk-toggleable__content \"><pre>[&#x27;age&#x27;, &#x27;ratings&#x27;, &#x27;pickup_time_minutes&#x27;, &#x27;distance&#x27;]</pre></div> </div></div><div class=\"sk-serial\"><div class=\"sk-item\"><div class=\"sk-estimator  sk-toggleable\"><input class=\"sk-toggleable__control sk-hidden--visually\" id=\"sk-estimator-id-23\" type=\"checkbox\" ><label for=\"sk-estimator-id-23\" class=\"sk-toggleable__label  sk-toggleable__label-arrow\"><div><div>MinMaxScaler</div></div><div><a class=\"sk-estimator-doc-link \" rel=\"noreferrer\" target=\"_blank\" href=\"https://scikit-learn.org/1.6/modules/generated/sklearn.preprocessing.MinMaxScaler.html\">?<span>Documentation for MinMaxScaler</span></a></div></label><div class=\"sk-toggleable__content \"><pre>MinMaxScaler()</pre></div> </div></div></div></div></div><div class=\"sk-parallel-item\"><div class=\"sk-item\"><div class=\"sk-label-container\"><div class=\"sk-label  sk-toggleable\"><input class=\"sk-toggleable__control sk-hidden--visually\" id=\"sk-estimator-id-24\" type=\"checkbox\" ><label for=\"sk-estimator-id-24\" class=\"sk-toggleable__label  sk-toggleable__label-arrow\"><div><div>nominal_encode</div></div></label><div class=\"sk-toggleable__content \"><pre>[&#x27;weather&#x27;, &#x27;type_of_order&#x27;, &#x27;type_of_vehicle&#x27;, &#x27;festival&#x27;, &#x27;city_type&#x27;, &#x27;is_weekend&#x27;, &#x27;order_time_of_day&#x27;]</pre></div> </div></div><div class=\"sk-serial\"><div class=\"sk-item\"><div class=\"sk-estimator  sk-toggleable\"><input class=\"sk-toggleable__control sk-hidden--visually\" id=\"sk-estimator-id-25\" type=\"checkbox\" ><label for=\"sk-estimator-id-25\" class=\"sk-toggleable__label  sk-toggleable__label-arrow\"><div><div>OneHotEncoder</div></div><div><a class=\"sk-estimator-doc-link \" rel=\"noreferrer\" target=\"_blank\" href=\"https://scikit-learn.org/1.6/modules/generated/sklearn.preprocessing.OneHotEncoder.html\">?<span>Documentation for OneHotEncoder</span></a></div></label><div class=\"sk-toggleable__content \"><pre>OneHotEncoder(drop=&#x27;first&#x27;, handle_unknown=&#x27;ignore&#x27;, sparse_output=False)</pre></div> </div></div></div></div></div><div class=\"sk-parallel-item\"><div class=\"sk-item\"><div class=\"sk-label-container\"><div class=\"sk-label  sk-toggleable\"><input class=\"sk-toggleable__control sk-hidden--visually\" id=\"sk-estimator-id-26\" type=\"checkbox\" ><label for=\"sk-estimator-id-26\" class=\"sk-toggleable__label  sk-toggleable__label-arrow\"><div><div>ordinal_encode</div></div></label><div class=\"sk-toggleable__content \"><pre>[&#x27;traffic&#x27;, &#x27;distance_type&#x27;]</pre></div> </div></div><div class=\"sk-serial\"><div class=\"sk-item\"><div class=\"sk-estimator  sk-toggleable\"><input class=\"sk-toggleable__control sk-hidden--visually\" id=\"sk-estimator-id-27\" type=\"checkbox\" ><label for=\"sk-estimator-id-27\" class=\"sk-toggleable__label  sk-toggleable__label-arrow\"><div><div>OrdinalEncoder</div></div><div><a class=\"sk-estimator-doc-link \" rel=\"noreferrer\" target=\"_blank\" href=\"https://scikit-learn.org/1.6/modules/generated/sklearn.preprocessing.OrdinalEncoder.html\">?<span>Documentation for OrdinalEncoder</span></a></div></label><div class=\"sk-toggleable__content \"><pre>OrdinalEncoder(categories=[[&#x27;low&#x27;, &#x27;medium&#x27;, &#x27;high&#x27;, &#x27;jam&#x27;],\n",
       "                           [&#x27;short&#x27;, &#x27;medium&#x27;, &#x27;long&#x27;, &#x27;very_long&#x27;]],\n",
       "               encoded_missing_value=-999, handle_unknown=&#x27;use_encoded_value&#x27;,\n",
       "               unknown_value=-1)</pre></div> </div></div></div></div></div><div class=\"sk-parallel-item\"><div class=\"sk-item\"><div class=\"sk-label-container\"><div class=\"sk-label  sk-toggleable\"><input class=\"sk-toggleable__control sk-hidden--visually\" id=\"sk-estimator-id-28\" type=\"checkbox\" ><label for=\"sk-estimator-id-28\" class=\"sk-toggleable__label  sk-toggleable__label-arrow\"><div><div>remainder</div></div></label><div class=\"sk-toggleable__content \"><pre></pre></div> </div></div><div class=\"sk-serial\"><div class=\"sk-item\"><div class=\"sk-estimator  sk-toggleable\"><input class=\"sk-toggleable__control sk-hidden--visually\" id=\"sk-estimator-id-29\" type=\"checkbox\" ><label for=\"sk-estimator-id-29\" class=\"sk-toggleable__label  sk-toggleable__label-arrow\"><div><div>passthrough</div></div></label><div class=\"sk-toggleable__content \"><pre>passthrough</pre></div> </div></div></div></div></div></div></div></div></div>"
      ],
      "text/plain": [
       "ColumnTransformer(force_int_remainder_cols=False, n_jobs=-1,\n",
       "                  remainder='passthrough',\n",
       "                  transformers=[('scale', MinMaxScaler(),\n",
       "                                 ['age', 'ratings', 'pickup_time_minutes',\n",
       "                                  'distance']),\n",
       "                                ('nominal_encode',\n",
       "                                 OneHotEncoder(drop='first',\n",
       "                                               handle_unknown='ignore',\n",
       "                                               sparse_output=False),\n",
       "                                 ['weather', 'type_of_order', 'type_of_vehicle',\n",
       "                                  'festival', 'city_type', 'is_weekend',\n",
       "                                  'order_time_of_day']),\n",
       "                                ('ordinal_encode',\n",
       "                                 OrdinalEncoder(categories=[['low', 'medium',\n",
       "                                                             'high', 'jam'],\n",
       "                                                            ['short', 'medium',\n",
       "                                                             'long',\n",
       "                                                             'very_long']],\n",
       "                                                encoded_missing_value=-999,\n",
       "                                                handle_unknown='use_encoded_value',\n",
       "                                                unknown_value=-1),\n",
       "                                 ['traffic', 'distance_type'])],\n",
       "                  verbose_feature_names_out=False)"
      ]
     },
     "execution_count": 182,
     "metadata": {},
     "output_type": "execute_result"
    }
   ],
   "source": [
    "# build a preprocessor\n",
    "\n",
    "preprocessor = ColumnTransformer(transformers=[\n",
    "    (\"scale\", MinMaxScaler(), num_cols),\n",
    "    (\"nominal_encode\", OneHotEncoder(drop=\"first\",handle_unknown=\"ignore\",\n",
    "                                     sparse_output=False), nominal_cat_cols),\n",
    "    (\"ordinal_encode\", OrdinalEncoder(categories=[traffic_order,distance_type_order],\n",
    "                                      encoded_missing_value=-999,\n",
    "                                      handle_unknown=\"use_encoded_value\",\n",
    "                                      unknown_value=-1), ordinal_cat_cols)\n",
    "],remainder=\"passthrough\",n_jobs=-1,force_int_remainder_cols=False,verbose_feature_names_out=False)\n",
    "\n",
    "\n",
    "preprocessor"
   ]
  },
  {
   "cell_type": "code",
   "execution_count": 183,
   "metadata": {
    "colab": {
     "base_uri": "https://localhost:8080/",
     "height": 181
    },
    "executionInfo": {
     "elapsed": 92,
     "status": "ok",
     "timestamp": 1732867428089,
     "user": {
      "displayName": "Himanshu Arora",
      "userId": "03026800847751892488"
     },
     "user_tz": -330
    },
    "id": "n7uZVB6seYc_",
    "outputId": "b5809c9d-94fb-46ca-97ca-9d025072b044"
   },
   "outputs": [
    {
     "data": {
      "text/html": [
       "<style>#sk-container-id-5 {\n",
       "  /* Definition of color scheme common for light and dark mode */\n",
       "  --sklearn-color-text: #000;\n",
       "  --sklearn-color-text-muted: #666;\n",
       "  --sklearn-color-line: gray;\n",
       "  /* Definition of color scheme for unfitted estimators */\n",
       "  --sklearn-color-unfitted-level-0: #fff5e6;\n",
       "  --sklearn-color-unfitted-level-1: #f6e4d2;\n",
       "  --sklearn-color-unfitted-level-2: #ffe0b3;\n",
       "  --sklearn-color-unfitted-level-3: chocolate;\n",
       "  /* Definition of color scheme for fitted estimators */\n",
       "  --sklearn-color-fitted-level-0: #f0f8ff;\n",
       "  --sklearn-color-fitted-level-1: #d4ebff;\n",
       "  --sklearn-color-fitted-level-2: #b3dbfd;\n",
       "  --sklearn-color-fitted-level-3: cornflowerblue;\n",
       "\n",
       "  /* Specific color for light theme */\n",
       "  --sklearn-color-text-on-default-background: var(--sg-text-color, var(--theme-code-foreground, var(--jp-content-font-color1, black)));\n",
       "  --sklearn-color-background: var(--sg-background-color, var(--theme-background, var(--jp-layout-color0, white)));\n",
       "  --sklearn-color-border-box: var(--sg-text-color, var(--theme-code-foreground, var(--jp-content-font-color1, black)));\n",
       "  --sklearn-color-icon: #696969;\n",
       "\n",
       "  @media (prefers-color-scheme: dark) {\n",
       "    /* Redefinition of color scheme for dark theme */\n",
       "    --sklearn-color-text-on-default-background: var(--sg-text-color, var(--theme-code-foreground, var(--jp-content-font-color1, white)));\n",
       "    --sklearn-color-background: var(--sg-background-color, var(--theme-background, var(--jp-layout-color0, #111)));\n",
       "    --sklearn-color-border-box: var(--sg-text-color, var(--theme-code-foreground, var(--jp-content-font-color1, white)));\n",
       "    --sklearn-color-icon: #878787;\n",
       "  }\n",
       "}\n",
       "\n",
       "#sk-container-id-5 {\n",
       "  color: var(--sklearn-color-text);\n",
       "}\n",
       "\n",
       "#sk-container-id-5 pre {\n",
       "  padding: 0;\n",
       "}\n",
       "\n",
       "#sk-container-id-5 input.sk-hidden--visually {\n",
       "  border: 0;\n",
       "  clip: rect(1px 1px 1px 1px);\n",
       "  clip: rect(1px, 1px, 1px, 1px);\n",
       "  height: 1px;\n",
       "  margin: -1px;\n",
       "  overflow: hidden;\n",
       "  padding: 0;\n",
       "  position: absolute;\n",
       "  width: 1px;\n",
       "}\n",
       "\n",
       "#sk-container-id-5 div.sk-dashed-wrapped {\n",
       "  border: 1px dashed var(--sklearn-color-line);\n",
       "  margin: 0 0.4em 0.5em 0.4em;\n",
       "  box-sizing: border-box;\n",
       "  padding-bottom: 0.4em;\n",
       "  background-color: var(--sklearn-color-background);\n",
       "}\n",
       "\n",
       "#sk-container-id-5 div.sk-container {\n",
       "  /* jupyter's `normalize.less` sets `[hidden] { display: none; }`\n",
       "     but bootstrap.min.css set `[hidden] { display: none !important; }`\n",
       "     so we also need the `!important` here to be able to override the\n",
       "     default hidden behavior on the sphinx rendered scikit-learn.org.\n",
       "     See: https://github.com/scikit-learn/scikit-learn/issues/21755 */\n",
       "  display: inline-block !important;\n",
       "  position: relative;\n",
       "}\n",
       "\n",
       "#sk-container-id-5 div.sk-text-repr-fallback {\n",
       "  display: none;\n",
       "}\n",
       "\n",
       "div.sk-parallel-item,\n",
       "div.sk-serial,\n",
       "div.sk-item {\n",
       "  /* draw centered vertical line to link estimators */\n",
       "  background-image: linear-gradient(var(--sklearn-color-text-on-default-background), var(--sklearn-color-text-on-default-background));\n",
       "  background-size: 2px 100%;\n",
       "  background-repeat: no-repeat;\n",
       "  background-position: center center;\n",
       "}\n",
       "\n",
       "/* Parallel-specific style estimator block */\n",
       "\n",
       "#sk-container-id-5 div.sk-parallel-item::after {\n",
       "  content: \"\";\n",
       "  width: 100%;\n",
       "  border-bottom: 2px solid var(--sklearn-color-text-on-default-background);\n",
       "  flex-grow: 1;\n",
       "}\n",
       "\n",
       "#sk-container-id-5 div.sk-parallel {\n",
       "  display: flex;\n",
       "  align-items: stretch;\n",
       "  justify-content: center;\n",
       "  background-color: var(--sklearn-color-background);\n",
       "  position: relative;\n",
       "}\n",
       "\n",
       "#sk-container-id-5 div.sk-parallel-item {\n",
       "  display: flex;\n",
       "  flex-direction: column;\n",
       "}\n",
       "\n",
       "#sk-container-id-5 div.sk-parallel-item:first-child::after {\n",
       "  align-self: flex-end;\n",
       "  width: 50%;\n",
       "}\n",
       "\n",
       "#sk-container-id-5 div.sk-parallel-item:last-child::after {\n",
       "  align-self: flex-start;\n",
       "  width: 50%;\n",
       "}\n",
       "\n",
       "#sk-container-id-5 div.sk-parallel-item:only-child::after {\n",
       "  width: 0;\n",
       "}\n",
       "\n",
       "/* Serial-specific style estimator block */\n",
       "\n",
       "#sk-container-id-5 div.sk-serial {\n",
       "  display: flex;\n",
       "  flex-direction: column;\n",
       "  align-items: center;\n",
       "  background-color: var(--sklearn-color-background);\n",
       "  padding-right: 1em;\n",
       "  padding-left: 1em;\n",
       "}\n",
       "\n",
       "\n",
       "/* Toggleable style: style used for estimator/Pipeline/ColumnTransformer box that is\n",
       "clickable and can be expanded/collapsed.\n",
       "- Pipeline and ColumnTransformer use this feature and define the default style\n",
       "- Estimators will overwrite some part of the style using the `sk-estimator` class\n",
       "*/\n",
       "\n",
       "/* Pipeline and ColumnTransformer style (default) */\n",
       "\n",
       "#sk-container-id-5 div.sk-toggleable {\n",
       "  /* Default theme specific background. It is overwritten whether we have a\n",
       "  specific estimator or a Pipeline/ColumnTransformer */\n",
       "  background-color: var(--sklearn-color-background);\n",
       "}\n",
       "\n",
       "/* Toggleable label */\n",
       "#sk-container-id-5 label.sk-toggleable__label {\n",
       "  cursor: pointer;\n",
       "  display: flex;\n",
       "  width: 100%;\n",
       "  margin-bottom: 0;\n",
       "  padding: 0.5em;\n",
       "  box-sizing: border-box;\n",
       "  text-align: center;\n",
       "  align-items: start;\n",
       "  justify-content: space-between;\n",
       "  gap: 0.5em;\n",
       "}\n",
       "\n",
       "#sk-container-id-5 label.sk-toggleable__label .caption {\n",
       "  font-size: 0.6rem;\n",
       "  font-weight: lighter;\n",
       "  color: var(--sklearn-color-text-muted);\n",
       "}\n",
       "\n",
       "#sk-container-id-5 label.sk-toggleable__label-arrow:before {\n",
       "  /* Arrow on the left of the label */\n",
       "  content: \"▸\";\n",
       "  float: left;\n",
       "  margin-right: 0.25em;\n",
       "  color: var(--sklearn-color-icon);\n",
       "}\n",
       "\n",
       "#sk-container-id-5 label.sk-toggleable__label-arrow:hover:before {\n",
       "  color: var(--sklearn-color-text);\n",
       "}\n",
       "\n",
       "/* Toggleable content - dropdown */\n",
       "\n",
       "#sk-container-id-5 div.sk-toggleable__content {\n",
       "  max-height: 0;\n",
       "  max-width: 0;\n",
       "  overflow: hidden;\n",
       "  text-align: left;\n",
       "  /* unfitted */\n",
       "  background-color: var(--sklearn-color-unfitted-level-0);\n",
       "}\n",
       "\n",
       "#sk-container-id-5 div.sk-toggleable__content.fitted {\n",
       "  /* fitted */\n",
       "  background-color: var(--sklearn-color-fitted-level-0);\n",
       "}\n",
       "\n",
       "#sk-container-id-5 div.sk-toggleable__content pre {\n",
       "  margin: 0.2em;\n",
       "  border-radius: 0.25em;\n",
       "  color: var(--sklearn-color-text);\n",
       "  /* unfitted */\n",
       "  background-color: var(--sklearn-color-unfitted-level-0);\n",
       "}\n",
       "\n",
       "#sk-container-id-5 div.sk-toggleable__content.fitted pre {\n",
       "  /* unfitted */\n",
       "  background-color: var(--sklearn-color-fitted-level-0);\n",
       "}\n",
       "\n",
       "#sk-container-id-5 input.sk-toggleable__control:checked~div.sk-toggleable__content {\n",
       "  /* Expand drop-down */\n",
       "  max-height: 200px;\n",
       "  max-width: 100%;\n",
       "  overflow: auto;\n",
       "}\n",
       "\n",
       "#sk-container-id-5 input.sk-toggleable__control:checked~label.sk-toggleable__label-arrow:before {\n",
       "  content: \"▾\";\n",
       "}\n",
       "\n",
       "/* Pipeline/ColumnTransformer-specific style */\n",
       "\n",
       "#sk-container-id-5 div.sk-label input.sk-toggleable__control:checked~label.sk-toggleable__label {\n",
       "  color: var(--sklearn-color-text);\n",
       "  background-color: var(--sklearn-color-unfitted-level-2);\n",
       "}\n",
       "\n",
       "#sk-container-id-5 div.sk-label.fitted input.sk-toggleable__control:checked~label.sk-toggleable__label {\n",
       "  background-color: var(--sklearn-color-fitted-level-2);\n",
       "}\n",
       "\n",
       "/* Estimator-specific style */\n",
       "\n",
       "/* Colorize estimator box */\n",
       "#sk-container-id-5 div.sk-estimator input.sk-toggleable__control:checked~label.sk-toggleable__label {\n",
       "  /* unfitted */\n",
       "  background-color: var(--sklearn-color-unfitted-level-2);\n",
       "}\n",
       "\n",
       "#sk-container-id-5 div.sk-estimator.fitted input.sk-toggleable__control:checked~label.sk-toggleable__label {\n",
       "  /* fitted */\n",
       "  background-color: var(--sklearn-color-fitted-level-2);\n",
       "}\n",
       "\n",
       "#sk-container-id-5 div.sk-label label.sk-toggleable__label,\n",
       "#sk-container-id-5 div.sk-label label {\n",
       "  /* The background is the default theme color */\n",
       "  color: var(--sklearn-color-text-on-default-background);\n",
       "}\n",
       "\n",
       "/* On hover, darken the color of the background */\n",
       "#sk-container-id-5 div.sk-label:hover label.sk-toggleable__label {\n",
       "  color: var(--sklearn-color-text);\n",
       "  background-color: var(--sklearn-color-unfitted-level-2);\n",
       "}\n",
       "\n",
       "/* Label box, darken color on hover, fitted */\n",
       "#sk-container-id-5 div.sk-label.fitted:hover label.sk-toggleable__label.fitted {\n",
       "  color: var(--sklearn-color-text);\n",
       "  background-color: var(--sklearn-color-fitted-level-2);\n",
       "}\n",
       "\n",
       "/* Estimator label */\n",
       "\n",
       "#sk-container-id-5 div.sk-label label {\n",
       "  font-family: monospace;\n",
       "  font-weight: bold;\n",
       "  display: inline-block;\n",
       "  line-height: 1.2em;\n",
       "}\n",
       "\n",
       "#sk-container-id-5 div.sk-label-container {\n",
       "  text-align: center;\n",
       "}\n",
       "\n",
       "/* Estimator-specific */\n",
       "#sk-container-id-5 div.sk-estimator {\n",
       "  font-family: monospace;\n",
       "  border: 1px dotted var(--sklearn-color-border-box);\n",
       "  border-radius: 0.25em;\n",
       "  box-sizing: border-box;\n",
       "  margin-bottom: 0.5em;\n",
       "  /* unfitted */\n",
       "  background-color: var(--sklearn-color-unfitted-level-0);\n",
       "}\n",
       "\n",
       "#sk-container-id-5 div.sk-estimator.fitted {\n",
       "  /* fitted */\n",
       "  background-color: var(--sklearn-color-fitted-level-0);\n",
       "}\n",
       "\n",
       "/* on hover */\n",
       "#sk-container-id-5 div.sk-estimator:hover {\n",
       "  /* unfitted */\n",
       "  background-color: var(--sklearn-color-unfitted-level-2);\n",
       "}\n",
       "\n",
       "#sk-container-id-5 div.sk-estimator.fitted:hover {\n",
       "  /* fitted */\n",
       "  background-color: var(--sklearn-color-fitted-level-2);\n",
       "}\n",
       "\n",
       "/* Specification for estimator info (e.g. \"i\" and \"?\") */\n",
       "\n",
       "/* Common style for \"i\" and \"?\" */\n",
       "\n",
       ".sk-estimator-doc-link,\n",
       "a:link.sk-estimator-doc-link,\n",
       "a:visited.sk-estimator-doc-link {\n",
       "  float: right;\n",
       "  font-size: smaller;\n",
       "  line-height: 1em;\n",
       "  font-family: monospace;\n",
       "  background-color: var(--sklearn-color-background);\n",
       "  border-radius: 1em;\n",
       "  height: 1em;\n",
       "  width: 1em;\n",
       "  text-decoration: none !important;\n",
       "  margin-left: 0.5em;\n",
       "  text-align: center;\n",
       "  /* unfitted */\n",
       "  border: var(--sklearn-color-unfitted-level-1) 1pt solid;\n",
       "  color: var(--sklearn-color-unfitted-level-1);\n",
       "}\n",
       "\n",
       ".sk-estimator-doc-link.fitted,\n",
       "a:link.sk-estimator-doc-link.fitted,\n",
       "a:visited.sk-estimator-doc-link.fitted {\n",
       "  /* fitted */\n",
       "  border: var(--sklearn-color-fitted-level-1) 1pt solid;\n",
       "  color: var(--sklearn-color-fitted-level-1);\n",
       "}\n",
       "\n",
       "/* On hover */\n",
       "div.sk-estimator:hover .sk-estimator-doc-link:hover,\n",
       ".sk-estimator-doc-link:hover,\n",
       "div.sk-label-container:hover .sk-estimator-doc-link:hover,\n",
       ".sk-estimator-doc-link:hover {\n",
       "  /* unfitted */\n",
       "  background-color: var(--sklearn-color-unfitted-level-3);\n",
       "  color: var(--sklearn-color-background);\n",
       "  text-decoration: none;\n",
       "}\n",
       "\n",
       "div.sk-estimator.fitted:hover .sk-estimator-doc-link.fitted:hover,\n",
       ".sk-estimator-doc-link.fitted:hover,\n",
       "div.sk-label-container:hover .sk-estimator-doc-link.fitted:hover,\n",
       ".sk-estimator-doc-link.fitted:hover {\n",
       "  /* fitted */\n",
       "  background-color: var(--sklearn-color-fitted-level-3);\n",
       "  color: var(--sklearn-color-background);\n",
       "  text-decoration: none;\n",
       "}\n",
       "\n",
       "/* Span, style for the box shown on hovering the info icon */\n",
       ".sk-estimator-doc-link span {\n",
       "  display: none;\n",
       "  z-index: 9999;\n",
       "  position: relative;\n",
       "  font-weight: normal;\n",
       "  right: .2ex;\n",
       "  padding: .5ex;\n",
       "  margin: .5ex;\n",
       "  width: min-content;\n",
       "  min-width: 20ex;\n",
       "  max-width: 50ex;\n",
       "  color: var(--sklearn-color-text);\n",
       "  box-shadow: 2pt 2pt 4pt #999;\n",
       "  /* unfitted */\n",
       "  background: var(--sklearn-color-unfitted-level-0);\n",
       "  border: .5pt solid var(--sklearn-color-unfitted-level-3);\n",
       "}\n",
       "\n",
       ".sk-estimator-doc-link.fitted span {\n",
       "  /* fitted */\n",
       "  background: var(--sklearn-color-fitted-level-0);\n",
       "  border: var(--sklearn-color-fitted-level-3);\n",
       "}\n",
       "\n",
       ".sk-estimator-doc-link:hover span {\n",
       "  display: block;\n",
       "}\n",
       "\n",
       "/* \"?\"-specific style due to the `<a>` HTML tag */\n",
       "\n",
       "#sk-container-id-5 a.estimator_doc_link {\n",
       "  float: right;\n",
       "  font-size: 1rem;\n",
       "  line-height: 1em;\n",
       "  font-family: monospace;\n",
       "  background-color: var(--sklearn-color-background);\n",
       "  border-radius: 1rem;\n",
       "  height: 1rem;\n",
       "  width: 1rem;\n",
       "  text-decoration: none;\n",
       "  /* unfitted */\n",
       "  color: var(--sklearn-color-unfitted-level-1);\n",
       "  border: var(--sklearn-color-unfitted-level-1) 1pt solid;\n",
       "}\n",
       "\n",
       "#sk-container-id-5 a.estimator_doc_link.fitted {\n",
       "  /* fitted */\n",
       "  border: var(--sklearn-color-fitted-level-1) 1pt solid;\n",
       "  color: var(--sklearn-color-fitted-level-1);\n",
       "}\n",
       "\n",
       "/* On hover */\n",
       "#sk-container-id-5 a.estimator_doc_link:hover {\n",
       "  /* unfitted */\n",
       "  background-color: var(--sklearn-color-unfitted-level-3);\n",
       "  color: var(--sklearn-color-background);\n",
       "  text-decoration: none;\n",
       "}\n",
       "\n",
       "#sk-container-id-5 a.estimator_doc_link.fitted:hover {\n",
       "  /* fitted */\n",
       "  background-color: var(--sklearn-color-fitted-level-3);\n",
       "}\n",
       "</style><div id=\"sk-container-id-5\" class=\"sk-top-container\"><div class=\"sk-text-repr-fallback\"><pre>Pipeline(steps=[(&#x27;preprocess&#x27;,\n",
       "                 ColumnTransformer(force_int_remainder_cols=False, n_jobs=-1,\n",
       "                                   remainder=&#x27;passthrough&#x27;,\n",
       "                                   transformers=[(&#x27;scale&#x27;, MinMaxScaler(),\n",
       "                                                  [&#x27;age&#x27;, &#x27;ratings&#x27;,\n",
       "                                                   &#x27;pickup_time_minutes&#x27;,\n",
       "                                                   &#x27;distance&#x27;]),\n",
       "                                                 (&#x27;nominal_encode&#x27;,\n",
       "                                                  OneHotEncoder(drop=&#x27;first&#x27;,\n",
       "                                                                handle_unknown=&#x27;ignore&#x27;,\n",
       "                                                                sparse_output=False),\n",
       "                                                  [&#x27;weather&#x27;, &#x27;type_of_order&#x27;,\n",
       "                                                   &#x27;type_of_vehicle&#x27;,\n",
       "                                                   &#x27;festival&#x27;, &#x27;city_type&#x27;,\n",
       "                                                   &#x27;is_weekend&#x27;,\n",
       "                                                   &#x27;order_time_of_day&#x27;]),\n",
       "                                                 (&#x27;ordinal_encode&#x27;,\n",
       "                                                  OrdinalEncoder(categories=[[&#x27;low&#x27;,\n",
       "                                                                              &#x27;medium&#x27;,\n",
       "                                                                              &#x27;high&#x27;,\n",
       "                                                                              &#x27;jam&#x27;],\n",
       "                                                                             [&#x27;short&#x27;,\n",
       "                                                                              &#x27;medium&#x27;,\n",
       "                                                                              &#x27;long&#x27;,\n",
       "                                                                              &#x27;very_long&#x27;]],\n",
       "                                                                 encoded_missing_value=-999,\n",
       "                                                                 handle_unknown=&#x27;use_encoded_value&#x27;,\n",
       "                                                                 unknown_value=-1),\n",
       "                                                  [&#x27;traffic&#x27;,\n",
       "                                                   &#x27;distance_type&#x27;])],\n",
       "                                   verbose_feature_names_out=False))])</pre><b>In a Jupyter environment, please rerun this cell to show the HTML representation or trust the notebook. <br />On GitHub, the HTML representation is unable to render, please try loading this page with nbviewer.org.</b></div><div class=\"sk-container\" hidden><div class=\"sk-item sk-dashed-wrapped\"><div class=\"sk-label-container\"><div class=\"sk-label  sk-toggleable\"><input class=\"sk-toggleable__control sk-hidden--visually\" id=\"sk-estimator-id-30\" type=\"checkbox\" ><label for=\"sk-estimator-id-30\" class=\"sk-toggleable__label  sk-toggleable__label-arrow\"><div><div>Pipeline</div></div><div><a class=\"sk-estimator-doc-link \" rel=\"noreferrer\" target=\"_blank\" href=\"https://scikit-learn.org/1.6/modules/generated/sklearn.pipeline.Pipeline.html\">?<span>Documentation for Pipeline</span></a><span class=\"sk-estimator-doc-link \">i<span>Not fitted</span></span></div></label><div class=\"sk-toggleable__content \"><pre>Pipeline(steps=[(&#x27;preprocess&#x27;,\n",
       "                 ColumnTransformer(force_int_remainder_cols=False, n_jobs=-1,\n",
       "                                   remainder=&#x27;passthrough&#x27;,\n",
       "                                   transformers=[(&#x27;scale&#x27;, MinMaxScaler(),\n",
       "                                                  [&#x27;age&#x27;, &#x27;ratings&#x27;,\n",
       "                                                   &#x27;pickup_time_minutes&#x27;,\n",
       "                                                   &#x27;distance&#x27;]),\n",
       "                                                 (&#x27;nominal_encode&#x27;,\n",
       "                                                  OneHotEncoder(drop=&#x27;first&#x27;,\n",
       "                                                                handle_unknown=&#x27;ignore&#x27;,\n",
       "                                                                sparse_output=False),\n",
       "                                                  [&#x27;weather&#x27;, &#x27;type_of_order&#x27;,\n",
       "                                                   &#x27;type_of_vehicle&#x27;,\n",
       "                                                   &#x27;festival&#x27;, &#x27;city_type&#x27;,\n",
       "                                                   &#x27;is_weekend&#x27;,\n",
       "                                                   &#x27;order_time_of_day&#x27;]),\n",
       "                                                 (&#x27;ordinal_encode&#x27;,\n",
       "                                                  OrdinalEncoder(categories=[[&#x27;low&#x27;,\n",
       "                                                                              &#x27;medium&#x27;,\n",
       "                                                                              &#x27;high&#x27;,\n",
       "                                                                              &#x27;jam&#x27;],\n",
       "                                                                             [&#x27;short&#x27;,\n",
       "                                                                              &#x27;medium&#x27;,\n",
       "                                                                              &#x27;long&#x27;,\n",
       "                                                                              &#x27;very_long&#x27;]],\n",
       "                                                                 encoded_missing_value=-999,\n",
       "                                                                 handle_unknown=&#x27;use_encoded_value&#x27;,\n",
       "                                                                 unknown_value=-1),\n",
       "                                                  [&#x27;traffic&#x27;,\n",
       "                                                   &#x27;distance_type&#x27;])],\n",
       "                                   verbose_feature_names_out=False))])</pre></div> </div></div><div class=\"sk-serial\"><div class=\"sk-item sk-dashed-wrapped\"><div class=\"sk-label-container\"><div class=\"sk-label  sk-toggleable\"><input class=\"sk-toggleable__control sk-hidden--visually\" id=\"sk-estimator-id-31\" type=\"checkbox\" ><label for=\"sk-estimator-id-31\" class=\"sk-toggleable__label  sk-toggleable__label-arrow\"><div><div>preprocess: ColumnTransformer</div></div><div><a class=\"sk-estimator-doc-link \" rel=\"noreferrer\" target=\"_blank\" href=\"https://scikit-learn.org/1.6/modules/generated/sklearn.compose.ColumnTransformer.html\">?<span>Documentation for preprocess: ColumnTransformer</span></a></div></label><div class=\"sk-toggleable__content \"><pre>ColumnTransformer(force_int_remainder_cols=False, n_jobs=-1,\n",
       "                  remainder=&#x27;passthrough&#x27;,\n",
       "                  transformers=[(&#x27;scale&#x27;, MinMaxScaler(),\n",
       "                                 [&#x27;age&#x27;, &#x27;ratings&#x27;, &#x27;pickup_time_minutes&#x27;,\n",
       "                                  &#x27;distance&#x27;]),\n",
       "                                (&#x27;nominal_encode&#x27;,\n",
       "                                 OneHotEncoder(drop=&#x27;first&#x27;,\n",
       "                                               handle_unknown=&#x27;ignore&#x27;,\n",
       "                                               sparse_output=False),\n",
       "                                 [&#x27;weather&#x27;, &#x27;type_of_order&#x27;, &#x27;type_of_vehicle&#x27;,\n",
       "                                  &#x27;festival&#x27;, &#x27;city_type&#x27;, &#x27;is_weekend&#x27;,\n",
       "                                  &#x27;order_time_of_day&#x27;]),\n",
       "                                (&#x27;ordinal_encode&#x27;,\n",
       "                                 OrdinalEncoder(categories=[[&#x27;low&#x27;, &#x27;medium&#x27;,\n",
       "                                                             &#x27;high&#x27;, &#x27;jam&#x27;],\n",
       "                                                            [&#x27;short&#x27;, &#x27;medium&#x27;,\n",
       "                                                             &#x27;long&#x27;,\n",
       "                                                             &#x27;very_long&#x27;]],\n",
       "                                                encoded_missing_value=-999,\n",
       "                                                handle_unknown=&#x27;use_encoded_value&#x27;,\n",
       "                                                unknown_value=-1),\n",
       "                                 [&#x27;traffic&#x27;, &#x27;distance_type&#x27;])],\n",
       "                  verbose_feature_names_out=False)</pre></div> </div></div><div class=\"sk-parallel\"><div class=\"sk-parallel-item\"><div class=\"sk-item\"><div class=\"sk-label-container\"><div class=\"sk-label  sk-toggleable\"><input class=\"sk-toggleable__control sk-hidden--visually\" id=\"sk-estimator-id-32\" type=\"checkbox\" ><label for=\"sk-estimator-id-32\" class=\"sk-toggleable__label  sk-toggleable__label-arrow\"><div><div>scale</div></div></label><div class=\"sk-toggleable__content \"><pre>[&#x27;age&#x27;, &#x27;ratings&#x27;, &#x27;pickup_time_minutes&#x27;, &#x27;distance&#x27;]</pre></div> </div></div><div class=\"sk-serial\"><div class=\"sk-item\"><div class=\"sk-estimator  sk-toggleable\"><input class=\"sk-toggleable__control sk-hidden--visually\" id=\"sk-estimator-id-33\" type=\"checkbox\" ><label for=\"sk-estimator-id-33\" class=\"sk-toggleable__label  sk-toggleable__label-arrow\"><div><div>MinMaxScaler</div></div><div><a class=\"sk-estimator-doc-link \" rel=\"noreferrer\" target=\"_blank\" href=\"https://scikit-learn.org/1.6/modules/generated/sklearn.preprocessing.MinMaxScaler.html\">?<span>Documentation for MinMaxScaler</span></a></div></label><div class=\"sk-toggleable__content \"><pre>MinMaxScaler()</pre></div> </div></div></div></div></div><div class=\"sk-parallel-item\"><div class=\"sk-item\"><div class=\"sk-label-container\"><div class=\"sk-label  sk-toggleable\"><input class=\"sk-toggleable__control sk-hidden--visually\" id=\"sk-estimator-id-34\" type=\"checkbox\" ><label for=\"sk-estimator-id-34\" class=\"sk-toggleable__label  sk-toggleable__label-arrow\"><div><div>nominal_encode</div></div></label><div class=\"sk-toggleable__content \"><pre>[&#x27;weather&#x27;, &#x27;type_of_order&#x27;, &#x27;type_of_vehicle&#x27;, &#x27;festival&#x27;, &#x27;city_type&#x27;, &#x27;is_weekend&#x27;, &#x27;order_time_of_day&#x27;]</pre></div> </div></div><div class=\"sk-serial\"><div class=\"sk-item\"><div class=\"sk-estimator  sk-toggleable\"><input class=\"sk-toggleable__control sk-hidden--visually\" id=\"sk-estimator-id-35\" type=\"checkbox\" ><label for=\"sk-estimator-id-35\" class=\"sk-toggleable__label  sk-toggleable__label-arrow\"><div><div>OneHotEncoder</div></div><div><a class=\"sk-estimator-doc-link \" rel=\"noreferrer\" target=\"_blank\" href=\"https://scikit-learn.org/1.6/modules/generated/sklearn.preprocessing.OneHotEncoder.html\">?<span>Documentation for OneHotEncoder</span></a></div></label><div class=\"sk-toggleable__content \"><pre>OneHotEncoder(drop=&#x27;first&#x27;, handle_unknown=&#x27;ignore&#x27;, sparse_output=False)</pre></div> </div></div></div></div></div><div class=\"sk-parallel-item\"><div class=\"sk-item\"><div class=\"sk-label-container\"><div class=\"sk-label  sk-toggleable\"><input class=\"sk-toggleable__control sk-hidden--visually\" id=\"sk-estimator-id-36\" type=\"checkbox\" ><label for=\"sk-estimator-id-36\" class=\"sk-toggleable__label  sk-toggleable__label-arrow\"><div><div>ordinal_encode</div></div></label><div class=\"sk-toggleable__content \"><pre>[&#x27;traffic&#x27;, &#x27;distance_type&#x27;]</pre></div> </div></div><div class=\"sk-serial\"><div class=\"sk-item\"><div class=\"sk-estimator  sk-toggleable\"><input class=\"sk-toggleable__control sk-hidden--visually\" id=\"sk-estimator-id-37\" type=\"checkbox\" ><label for=\"sk-estimator-id-37\" class=\"sk-toggleable__label  sk-toggleable__label-arrow\"><div><div>OrdinalEncoder</div></div><div><a class=\"sk-estimator-doc-link \" rel=\"noreferrer\" target=\"_blank\" href=\"https://scikit-learn.org/1.6/modules/generated/sklearn.preprocessing.OrdinalEncoder.html\">?<span>Documentation for OrdinalEncoder</span></a></div></label><div class=\"sk-toggleable__content \"><pre>OrdinalEncoder(categories=[[&#x27;low&#x27;, &#x27;medium&#x27;, &#x27;high&#x27;, &#x27;jam&#x27;],\n",
       "                           [&#x27;short&#x27;, &#x27;medium&#x27;, &#x27;long&#x27;, &#x27;very_long&#x27;]],\n",
       "               encoded_missing_value=-999, handle_unknown=&#x27;use_encoded_value&#x27;,\n",
       "               unknown_value=-1)</pre></div> </div></div></div></div></div><div class=\"sk-parallel-item\"><div class=\"sk-item\"><div class=\"sk-label-container\"><div class=\"sk-label  sk-toggleable\"><input class=\"sk-toggleable__control sk-hidden--visually\" id=\"sk-estimator-id-38\" type=\"checkbox\" ><label for=\"sk-estimator-id-38\" class=\"sk-toggleable__label  sk-toggleable__label-arrow\"><div><div>remainder</div></div></label><div class=\"sk-toggleable__content \"><pre></pre></div> </div></div><div class=\"sk-serial\"><div class=\"sk-item\"><div class=\"sk-estimator  sk-toggleable\"><input class=\"sk-toggleable__control sk-hidden--visually\" id=\"sk-estimator-id-39\" type=\"checkbox\" ><label for=\"sk-estimator-id-39\" class=\"sk-toggleable__label  sk-toggleable__label-arrow\"><div><div>passthrough</div></div></label><div class=\"sk-toggleable__content \"><pre>passthrough</pre></div> </div></div></div></div></div></div></div></div></div></div></div>"
      ],
      "text/plain": [
       "Pipeline(steps=[('preprocess',\n",
       "                 ColumnTransformer(force_int_remainder_cols=False, n_jobs=-1,\n",
       "                                   remainder='passthrough',\n",
       "                                   transformers=[('scale', MinMaxScaler(),\n",
       "                                                  ['age', 'ratings',\n",
       "                                                   'pickup_time_minutes',\n",
       "                                                   'distance']),\n",
       "                                                 ('nominal_encode',\n",
       "                                                  OneHotEncoder(drop='first',\n",
       "                                                                handle_unknown='ignore',\n",
       "                                                                sparse_output=False),\n",
       "                                                  ['weather', 'type_of_order',\n",
       "                                                   'type_of_vehicle',\n",
       "                                                   'festival', 'city_type',\n",
       "                                                   'is_weekend',\n",
       "                                                   'order_time_of_day']),\n",
       "                                                 ('ordinal_encode',\n",
       "                                                  OrdinalEncoder(categories=[['low',\n",
       "                                                                              'medium',\n",
       "                                                                              'high',\n",
       "                                                                              'jam'],\n",
       "                                                                             ['short',\n",
       "                                                                              'medium',\n",
       "                                                                              'long',\n",
       "                                                                              'very_long']],\n",
       "                                                                 encoded_missing_value=-999,\n",
       "                                                                 handle_unknown='use_encoded_value',\n",
       "                                                                 unknown_value=-1),\n",
       "                                                  ['traffic',\n",
       "                                                   'distance_type'])],\n",
       "                                   verbose_feature_names_out=False))])"
      ]
     },
     "execution_count": 183,
     "metadata": {},
     "output_type": "execute_result"
    }
   ],
   "source": [
    "# build the pipeline\n",
    "\n",
    "processing_pipeline = Pipeline(steps=[\n",
    "                                # (\"simple_imputer\",simple_imputer),\n",
    "                                (\"preprocess\",preprocessor)\n",
    "                                # (\"knn_imputer\",knn_imputer)\n",
    "                            ])\n",
    "\n",
    "processing_pipeline"
   ]
  },
  {
   "cell_type": "code",
   "execution_count": 184,
   "metadata": {
    "executionInfo": {
     "elapsed": 3970,
     "status": "ok",
     "timestamp": 1732867431974,
     "user": {
      "displayName": "Himanshu Arora",
      "userId": "03026800847751892488"
     },
     "user_tz": -330
    },
    "id": "tVRPCAe3NXfL"
   },
   "outputs": [],
   "source": [
    "# do data preprocessing\n",
    "\n",
    "X_train_trans = processing_pipeline.fit_transform(X_train)\n",
    "\n",
    "X_test_trans = processing_pipeline.transform(X_test)"
   ]
  },
  {
   "cell_type": "code",
   "execution_count": 185,
   "metadata": {
    "colab": {
     "base_uri": "https://localhost:8080/",
     "height": 461
    },
    "executionInfo": {
     "elapsed": 27,
     "status": "ok",
     "timestamp": 1732867431976,
     "user": {
      "displayName": "Himanshu Arora",
      "userId": "03026800847751892488"
     },
     "user_tz": -330
    },
    "id": "l2-_1Nsa6aVO",
    "outputId": "74c536a8-4686-4d2d-c48e-62bfb217295d"
   },
   "outputs": [
    {
     "data": {
      "text/html": [
       "<div>\n",
       "<style scoped>\n",
       "    .dataframe tbody tr th:only-of-type {\n",
       "        vertical-align: middle;\n",
       "    }\n",
       "\n",
       "    .dataframe tbody tr th {\n",
       "        vertical-align: top;\n",
       "    }\n",
       "\n",
       "    .dataframe thead th {\n",
       "        text-align: right;\n",
       "    }\n",
       "</style>\n",
       "<table border=\"1\" class=\"dataframe\">\n",
       "  <thead>\n",
       "    <tr style=\"text-align: right;\">\n",
       "      <th></th>\n",
       "      <th>age</th>\n",
       "      <th>ratings</th>\n",
       "      <th>pickup_time_minutes</th>\n",
       "      <th>distance</th>\n",
       "      <th>weather_fog</th>\n",
       "      <th>weather_sandstorms</th>\n",
       "      <th>weather_stormy</th>\n",
       "      <th>weather_sunny</th>\n",
       "      <th>weather_windy</th>\n",
       "      <th>type_of_order_drinks</th>\n",
       "      <th>...</th>\n",
       "      <th>city_type_semi-urban</th>\n",
       "      <th>city_type_urban</th>\n",
       "      <th>is_weekend_1</th>\n",
       "      <th>order_time_of_day_evening</th>\n",
       "      <th>order_time_of_day_morning</th>\n",
       "      <th>order_time_of_day_night</th>\n",
       "      <th>traffic</th>\n",
       "      <th>distance_type</th>\n",
       "      <th>vehicle_condition</th>\n",
       "      <th>multiple_deliveries</th>\n",
       "    </tr>\n",
       "  </thead>\n",
       "  <tbody>\n",
       "    <tr>\n",
       "      <th>8708</th>\n",
       "      <td>0.473684</td>\n",
       "      <td>0.56</td>\n",
       "      <td>1.0</td>\n",
       "      <td>0.404165</td>\n",
       "      <td>0.0</td>\n",
       "      <td>0.0</td>\n",
       "      <td>0.0</td>\n",
       "      <td>1.0</td>\n",
       "      <td>0.0</td>\n",
       "      <td>1.0</td>\n",
       "      <td>...</td>\n",
       "      <td>1.0</td>\n",
       "      <td>0.0</td>\n",
       "      <td>0.0</td>\n",
       "      <td>0.0</td>\n",
       "      <td>0.0</td>\n",
       "      <td>1.0</td>\n",
       "      <td>3.0</td>\n",
       "      <td>1.0</td>\n",
       "      <td>0</td>\n",
       "      <td>2.0</td>\n",
       "    </tr>\n",
       "    <tr>\n",
       "      <th>25198</th>\n",
       "      <td>1.000000</td>\n",
       "      <td>0.76</td>\n",
       "      <td>0.0</td>\n",
       "      <td>0.154044</td>\n",
       "      <td>0.0</td>\n",
       "      <td>1.0</td>\n",
       "      <td>0.0</td>\n",
       "      <td>0.0</td>\n",
       "      <td>0.0</td>\n",
       "      <td>0.0</td>\n",
       "      <td>...</td>\n",
       "      <td>0.0</td>\n",
       "      <td>0.0</td>\n",
       "      <td>1.0</td>\n",
       "      <td>0.0</td>\n",
       "      <td>0.0</td>\n",
       "      <td>0.0</td>\n",
       "      <td>1.0</td>\n",
       "      <td>0.0</td>\n",
       "      <td>0</td>\n",
       "      <td>1.0</td>\n",
       "    </tr>\n",
       "    <tr>\n",
       "      <th>34049</th>\n",
       "      <td>0.473684</td>\n",
       "      <td>0.80</td>\n",
       "      <td>0.5</td>\n",
       "      <td>0.002461</td>\n",
       "      <td>0.0</td>\n",
       "      <td>0.0</td>\n",
       "      <td>0.0</td>\n",
       "      <td>1.0</td>\n",
       "      <td>0.0</td>\n",
       "      <td>0.0</td>\n",
       "      <td>...</td>\n",
       "      <td>0.0</td>\n",
       "      <td>1.0</td>\n",
       "      <td>0.0</td>\n",
       "      <td>0.0</td>\n",
       "      <td>1.0</td>\n",
       "      <td>0.0</td>\n",
       "      <td>2.0</td>\n",
       "      <td>0.0</td>\n",
       "      <td>1</td>\n",
       "      <td>0.0</td>\n",
       "    </tr>\n",
       "    <tr>\n",
       "      <th>25987</th>\n",
       "      <td>1.000000</td>\n",
       "      <td>0.92</td>\n",
       "      <td>1.0</td>\n",
       "      <td>0.460411</td>\n",
       "      <td>0.0</td>\n",
       "      <td>1.0</td>\n",
       "      <td>0.0</td>\n",
       "      <td>0.0</td>\n",
       "      <td>0.0</td>\n",
       "      <td>0.0</td>\n",
       "      <td>...</td>\n",
       "      <td>0.0</td>\n",
       "      <td>0.0</td>\n",
       "      <td>1.0</td>\n",
       "      <td>0.0</td>\n",
       "      <td>0.0</td>\n",
       "      <td>1.0</td>\n",
       "      <td>0.0</td>\n",
       "      <td>2.0</td>\n",
       "      <td>0</td>\n",
       "      <td>1.0</td>\n",
       "    </tr>\n",
       "    <tr>\n",
       "      <th>37121</th>\n",
       "      <td>0.526316</td>\n",
       "      <td>0.76</td>\n",
       "      <td>0.5</td>\n",
       "      <td>0.243676</td>\n",
       "      <td>0.0</td>\n",
       "      <td>0.0</td>\n",
       "      <td>0.0</td>\n",
       "      <td>0.0</td>\n",
       "      <td>1.0</td>\n",
       "      <td>0.0</td>\n",
       "      <td>...</td>\n",
       "      <td>0.0</td>\n",
       "      <td>0.0</td>\n",
       "      <td>1.0</td>\n",
       "      <td>0.0</td>\n",
       "      <td>0.0</td>\n",
       "      <td>0.0</td>\n",
       "      <td>1.0</td>\n",
       "      <td>1.0</td>\n",
       "      <td>1</td>\n",
       "      <td>1.0</td>\n",
       "    </tr>\n",
       "    <tr>\n",
       "      <th>...</th>\n",
       "      <td>...</td>\n",
       "      <td>...</td>\n",
       "      <td>...</td>\n",
       "      <td>...</td>\n",
       "      <td>...</td>\n",
       "      <td>...</td>\n",
       "      <td>...</td>\n",
       "      <td>...</td>\n",
       "      <td>...</td>\n",
       "      <td>...</td>\n",
       "      <td>...</td>\n",
       "      <td>...</td>\n",
       "      <td>...</td>\n",
       "      <td>...</td>\n",
       "      <td>...</td>\n",
       "      <td>...</td>\n",
       "      <td>...</td>\n",
       "      <td>...</td>\n",
       "      <td>...</td>\n",
       "      <td>...</td>\n",
       "      <td>...</td>\n",
       "    </tr>\n",
       "    <tr>\n",
       "      <th>20239</th>\n",
       "      <td>0.578947</td>\n",
       "      <td>0.92</td>\n",
       "      <td>0.5</td>\n",
       "      <td>0.451895</td>\n",
       "      <td>0.0</td>\n",
       "      <td>0.0</td>\n",
       "      <td>0.0</td>\n",
       "      <td>1.0</td>\n",
       "      <td>0.0</td>\n",
       "      <td>0.0</td>\n",
       "      <td>...</td>\n",
       "      <td>0.0</td>\n",
       "      <td>0.0</td>\n",
       "      <td>1.0</td>\n",
       "      <td>1.0</td>\n",
       "      <td>0.0</td>\n",
       "      <td>0.0</td>\n",
       "      <td>3.0</td>\n",
       "      <td>2.0</td>\n",
       "      <td>0</td>\n",
       "      <td>0.0</td>\n",
       "    </tr>\n",
       "    <tr>\n",
       "      <th>7590</th>\n",
       "      <td>0.052632</td>\n",
       "      <td>1.00</td>\n",
       "      <td>1.0</td>\n",
       "      <td>0.612270</td>\n",
       "      <td>0.0</td>\n",
       "      <td>1.0</td>\n",
       "      <td>0.0</td>\n",
       "      <td>0.0</td>\n",
       "      <td>0.0</td>\n",
       "      <td>0.0</td>\n",
       "      <td>...</td>\n",
       "      <td>0.0</td>\n",
       "      <td>0.0</td>\n",
       "      <td>1.0</td>\n",
       "      <td>1.0</td>\n",
       "      <td>0.0</td>\n",
       "      <td>0.0</td>\n",
       "      <td>1.0</td>\n",
       "      <td>2.0</td>\n",
       "      <td>1</td>\n",
       "      <td>1.0</td>\n",
       "    </tr>\n",
       "    <tr>\n",
       "      <th>13610</th>\n",
       "      <td>0.526316</td>\n",
       "      <td>0.92</td>\n",
       "      <td>0.0</td>\n",
       "      <td>0.322877</td>\n",
       "      <td>0.0</td>\n",
       "      <td>0.0</td>\n",
       "      <td>0.0</td>\n",
       "      <td>0.0</td>\n",
       "      <td>0.0</td>\n",
       "      <td>0.0</td>\n",
       "      <td>...</td>\n",
       "      <td>0.0</td>\n",
       "      <td>0.0</td>\n",
       "      <td>1.0</td>\n",
       "      <td>0.0</td>\n",
       "      <td>0.0</td>\n",
       "      <td>0.0</td>\n",
       "      <td>1.0</td>\n",
       "      <td>1.0</td>\n",
       "      <td>1</td>\n",
       "      <td>0.0</td>\n",
       "    </tr>\n",
       "    <tr>\n",
       "      <th>1045</th>\n",
       "      <td>0.947368</td>\n",
       "      <td>0.96</td>\n",
       "      <td>0.5</td>\n",
       "      <td>0.004486</td>\n",
       "      <td>0.0</td>\n",
       "      <td>0.0</td>\n",
       "      <td>0.0</td>\n",
       "      <td>1.0</td>\n",
       "      <td>0.0</td>\n",
       "      <td>0.0</td>\n",
       "      <td>...</td>\n",
       "      <td>0.0</td>\n",
       "      <td>1.0</td>\n",
       "      <td>1.0</td>\n",
       "      <td>0.0</td>\n",
       "      <td>1.0</td>\n",
       "      <td>0.0</td>\n",
       "      <td>0.0</td>\n",
       "      <td>0.0</td>\n",
       "      <td>0</td>\n",
       "      <td>1.0</td>\n",
       "    </tr>\n",
       "    <tr>\n",
       "      <th>18968</th>\n",
       "      <td>0.684211</td>\n",
       "      <td>0.96</td>\n",
       "      <td>0.0</td>\n",
       "      <td>0.481978</td>\n",
       "      <td>0.0</td>\n",
       "      <td>0.0</td>\n",
       "      <td>0.0</td>\n",
       "      <td>0.0</td>\n",
       "      <td>1.0</td>\n",
       "      <td>0.0</td>\n",
       "      <td>...</td>\n",
       "      <td>0.0</td>\n",
       "      <td>1.0</td>\n",
       "      <td>0.0</td>\n",
       "      <td>0.0</td>\n",
       "      <td>0.0</td>\n",
       "      <td>1.0</td>\n",
       "      <td>0.0</td>\n",
       "      <td>2.0</td>\n",
       "      <td>2</td>\n",
       "      <td>1.0</td>\n",
       "    </tr>\n",
       "  </tbody>\n",
       "</table>\n",
       "<p>30156 rows × 25 columns</p>\n",
       "</div>"
      ],
      "text/plain": [
       "            age  ratings  pickup_time_minutes  distance  weather_fog  \\\n",
       "8708   0.473684     0.56                  1.0  0.404165          0.0   \n",
       "25198  1.000000     0.76                  0.0  0.154044          0.0   \n",
       "34049  0.473684     0.80                  0.5  0.002461          0.0   \n",
       "25987  1.000000     0.92                  1.0  0.460411          0.0   \n",
       "37121  0.526316     0.76                  0.5  0.243676          0.0   \n",
       "...         ...      ...                  ...       ...          ...   \n",
       "20239  0.578947     0.92                  0.5  0.451895          0.0   \n",
       "7590   0.052632     1.00                  1.0  0.612270          0.0   \n",
       "13610  0.526316     0.92                  0.0  0.322877          0.0   \n",
       "1045   0.947368     0.96                  0.5  0.004486          0.0   \n",
       "18968  0.684211     0.96                  0.0  0.481978          0.0   \n",
       "\n",
       "       weather_sandstorms  weather_stormy  weather_sunny  weather_windy  \\\n",
       "8708                  0.0             0.0            1.0            0.0   \n",
       "25198                 1.0             0.0            0.0            0.0   \n",
       "34049                 0.0             0.0            1.0            0.0   \n",
       "25987                 1.0             0.0            0.0            0.0   \n",
       "37121                 0.0             0.0            0.0            1.0   \n",
       "...                   ...             ...            ...            ...   \n",
       "20239                 0.0             0.0            1.0            0.0   \n",
       "7590                  1.0             0.0            0.0            0.0   \n",
       "13610                 0.0             0.0            0.0            0.0   \n",
       "1045                  0.0             0.0            1.0            0.0   \n",
       "18968                 0.0             0.0            0.0            1.0   \n",
       "\n",
       "       type_of_order_drinks  ...  city_type_semi-urban  city_type_urban  \\\n",
       "8708                    1.0  ...                   1.0              0.0   \n",
       "25198                   0.0  ...                   0.0              0.0   \n",
       "34049                   0.0  ...                   0.0              1.0   \n",
       "25987                   0.0  ...                   0.0              0.0   \n",
       "37121                   0.0  ...                   0.0              0.0   \n",
       "...                     ...  ...                   ...              ...   \n",
       "20239                   0.0  ...                   0.0              0.0   \n",
       "7590                    0.0  ...                   0.0              0.0   \n",
       "13610                   0.0  ...                   0.0              0.0   \n",
       "1045                    0.0  ...                   0.0              1.0   \n",
       "18968                   0.0  ...                   0.0              1.0   \n",
       "\n",
       "       is_weekend_1  order_time_of_day_evening  order_time_of_day_morning  \\\n",
       "8708            0.0                        0.0                        0.0   \n",
       "25198           1.0                        0.0                        0.0   \n",
       "34049           0.0                        0.0                        1.0   \n",
       "25987           1.0                        0.0                        0.0   \n",
       "37121           1.0                        0.0                        0.0   \n",
       "...             ...                        ...                        ...   \n",
       "20239           1.0                        1.0                        0.0   \n",
       "7590            1.0                        1.0                        0.0   \n",
       "13610           1.0                        0.0                        0.0   \n",
       "1045            1.0                        0.0                        1.0   \n",
       "18968           0.0                        0.0                        0.0   \n",
       "\n",
       "       order_time_of_day_night  traffic  distance_type  vehicle_condition  \\\n",
       "8708                       1.0      3.0            1.0                  0   \n",
       "25198                      0.0      1.0            0.0                  0   \n",
       "34049                      0.0      2.0            0.0                  1   \n",
       "25987                      1.0      0.0            2.0                  0   \n",
       "37121                      0.0      1.0            1.0                  1   \n",
       "...                        ...      ...            ...                ...   \n",
       "20239                      0.0      3.0            2.0                  0   \n",
       "7590                       0.0      1.0            2.0                  1   \n",
       "13610                      0.0      1.0            1.0                  1   \n",
       "1045                       0.0      0.0            0.0                  0   \n",
       "18968                      1.0      0.0            2.0                  2   \n",
       "\n",
       "       multiple_deliveries  \n",
       "8708                   2.0  \n",
       "25198                  1.0  \n",
       "34049                  0.0  \n",
       "25987                  1.0  \n",
       "37121                  1.0  \n",
       "...                    ...  \n",
       "20239                  0.0  \n",
       "7590                   1.0  \n",
       "13610                  0.0  \n",
       "1045                   1.0  \n",
       "18968                  1.0  \n",
       "\n",
       "[30156 rows x 25 columns]"
      ]
     },
     "execution_count": 185,
     "metadata": {},
     "output_type": "execute_result"
    }
   ],
   "source": [
    "X_train_trans"
   ]
  },
  {
   "cell_type": "code",
   "execution_count": 186,
   "metadata": {
    "colab": {
     "base_uri": "https://localhost:8080/"
    },
    "executionInfo": {
     "elapsed": 7054,
     "status": "ok",
     "timestamp": 1732867439008,
     "user": {
      "displayName": "Himanshu Arora",
      "userId": "03026800847751892488"
     },
     "user_tz": -330
    },
    "id": "jR-p4ReDqiqE",
    "outputId": "422623dd-ce91-4856-f390-8577cfae74ad"
   },
   "outputs": [
    {
     "name": "stdout",
     "output_type": "stream",
     "text": [
      "Requirement already satisfied: optuna in c:\\users\\laxmikant\\anaconda3\\lib\\site-packages (4.5.0)\n",
      "Requirement already satisfied: alembic>=1.5.0 in c:\\users\\laxmikant\\anaconda3\\lib\\site-packages (from optuna) (1.17.0)\n",
      "Requirement already satisfied: colorlog in c:\\users\\laxmikant\\anaconda3\\lib\\site-packages (from optuna) (6.9.0)\n",
      "Requirement already satisfied: numpy in c:\\users\\laxmikant\\anaconda3\\lib\\site-packages (from optuna) (1.26.4)\n",
      "Requirement already satisfied: packaging>=20.0 in c:\\users\\laxmikant\\anaconda3\\lib\\site-packages (from optuna) (23.2)\n",
      "Requirement already satisfied: sqlalchemy>=1.4.2 in c:\\users\\laxmikant\\anaconda3\\lib\\site-packages (from optuna) (2.0.30)\n",
      "Requirement already satisfied: tqdm in c:\\users\\laxmikant\\anaconda3\\lib\\site-packages (from optuna) (4.66.4)\n",
      "Requirement already satisfied: PyYAML in c:\\users\\laxmikant\\anaconda3\\lib\\site-packages (from optuna) (6.0.1)\n",
      "Requirement already satisfied: Mako in c:\\users\\laxmikant\\anaconda3\\lib\\site-packages (from alembic>=1.5.0->optuna) (1.3.10)\n",
      "Requirement already satisfied: typing-extensions>=4.12 in c:\\users\\laxmikant\\anaconda3\\lib\\site-packages (from alembic>=1.5.0->optuna) (4.15.0)\n",
      "Requirement already satisfied: greenlet!=0.4.17 in c:\\users\\laxmikant\\anaconda3\\lib\\site-packages (from sqlalchemy>=1.4.2->optuna) (3.0.1)\n",
      "Requirement already satisfied: colorama in c:\\users\\laxmikant\\anaconda3\\lib\\site-packages (from colorlog->optuna) (0.4.6)\n",
      "Requirement already satisfied: MarkupSafe>=0.9.2 in c:\\users\\laxmikant\\anaconda3\\lib\\site-packages (from Mako->alembic>=1.5.0->optuna) (2.1.3)\n",
      "Note: you may need to restart the kernel to use updated packages.\n"
     ]
    }
   ],
   "source": [
    "%pip install optuna"
   ]
  },
  {
   "cell_type": "code",
   "execution_count": 193,
   "metadata": {
    "executionInfo": {
     "elapsed": 34,
     "status": "ok",
     "timestamp": 1732867439010,
     "user": {
      "displayName": "Himanshu Arora",
      "userId": "03026800847751892488"
     },
     "user_tz": -330
    },
    "id": "vvAmK7Wfq8rV"
   },
   "outputs": [],
   "source": [
    "\n",
    "\n",
    "\n",
    "\n",
    "from sklearn.ensemble import RandomForestRegressor, GradientBoostingRegressor\n",
    "from sklearn.neighbors import KNeighborsRegressor\n",
    "from sklearn.svm import SVR\n",
    "from xgboost import XGBRegressor\n",
    "from lightgbm import LGBMRegressor\n",
    "import optuna"
   ]
  },
  {
   "cell_type": "code",
   "execution_count": 200,
   "metadata": {
    "executionInfo": {
     "elapsed": 33,
     "status": "ok",
     "timestamp": 1732867439011,
     "user": {
      "displayName": "Himanshu Arora",
      "userId": "03026800847751892488"
     },
     "user_tz": -330
    },
    "id": "7-i3qhXbteRD"
   },
   "outputs": [],
   "source": [
    "from sklearn.metrics import r2_score, mean_absolute_error"
   ]
  },
  {
   "cell_type": "code",
   "execution_count": 201,
   "metadata": {
    "executionInfo": {
     "elapsed": 35,
     "status": "ok",
     "timestamp": 1732867439014,
     "user": {
      "displayName": "Himanshu Arora",
      "userId": "03026800847751892488"
     },
     "user_tz": -330
    },
    "id": "RvZDCzGZrGQK"
   },
   "outputs": [],
   "source": [
    "def objective(trial):\n",
    "    with mlflow.start_run(nested=True):\n",
    "        model_name = trial.suggest_categorical(\"model\",[\"SVM\",\"RF\",\"KNN\",\"GB\",\"XGB\",\"LGBM\"])\n",
    "\n",
    "        if model_name == \"SVM\":\n",
    "            kernel_svm = trial.suggest_categorical(\"kernel_svm\",[\"linear\",\"poly\",\"rbf\"])\n",
    "            if kernel_svm == \"linear\":\n",
    "                c_linear = trial.suggest_float(\"c_linear\",0,10)\n",
    "                model = SVR(C=c_linear,kernel=\"linear\")\n",
    "\n",
    "            elif kernel_svm == \"poly\":\n",
    "                c_poly = trial.suggest_float(\"c_poly\",0,10)\n",
    "                degree_poly = trial.suggest_int(\"degree_poly\",1,5)\n",
    "                model = SVR(C=c_poly,degree=degree_poly,\n",
    "                            kernel=\"poly\")\n",
    "\n",
    "            else:\n",
    "                c_rbf = trial.suggest_float(\"c_rbf\",0,100)\n",
    "                gamma_rbf = trial.suggest_float(\"gamma_rbf\",0,10)\n",
    "                model = SVR(C=c_rbf,gamma=gamma_rbf,\n",
    "                            kernel=\"rbf\")\n",
    "\n",
    "        elif model_name == \"RF\":\n",
    "            n_estimators_rf = trial.suggest_int(\"n_estimators_rf\",10,200)\n",
    "            max_depth_rf = trial.suggest_int(\"max_depth_rf\",2,20)\n",
    "            model = RandomForestRegressor(n_estimators=n_estimators_rf,\n",
    "                                        max_depth=max_depth_rf,\n",
    "                                        random_state=42,\n",
    "                                        n_jobs=-1)\n",
    "\n",
    "        elif model_name == \"GB\":\n",
    "            n_estimators_gb = trial.suggest_int(\"n_estimators_gb\",10,200)\n",
    "            learning_rate_gb = trial.suggest_float(\"learning_rate_gb\",0,1)\n",
    "            max_depth_gb = trial.suggest_int(\"max_depth_gb\",2,20)\n",
    "            model = GradientBoostingRegressor(n_estimators=n_estimators_gb,\n",
    "                                                learning_rate=learning_rate_gb,\n",
    "                                                max_depth=max_depth_gb,\n",
    "                                                random_state=42)\n",
    "\n",
    "        elif model_name == \"KNN\":\n",
    "            n_neighbors_knn = trial.suggest_int(\"n_neighbors_knn\",1,25)\n",
    "            weights_knn = trial.suggest_categorical(\"weights_knn\",[\"uniform\",\"distance\"])\n",
    "            model = KNeighborsRegressor(n_neighbors=n_neighbors_knn,\n",
    "                                        weights=weights_knn,n_jobs=-1)\n",
    "\n",
    "        elif model_name == \"XGB\":\n",
    "            n_estimators_xgb = trial.suggest_int(\"n_estimators_xgb\",10,200)\n",
    "            learning_rate_xgb = trial.suggest_float(\"learning_rate_xgb\",0.1,0.5)\n",
    "            max_depth_xgb = trial.suggest_int(\"max_depth_xgb\",2,20)\n",
    "            model = XGBRegressor(n_estimators=n_estimators_xgb,\n",
    "                                    learning_rate=learning_rate_xgb,\n",
    "                                    max_depth=max_depth_xgb,\n",
    "                                    random_state=42,\n",
    "                                    n_jobs=-1)\n",
    "\n",
    "        elif model_name == \"LGBM\":\n",
    "            n_estimators_lgbm = trial.suggest_int(\"n_estimators_lgbm\",10,200)\n",
    "            learning_rate_lgbm = trial.suggest_float(\"learning_rate_lgbm\",0.1,0.5)\n",
    "            max_depth_lgbm = trial.suggest_int(\"max_depth_lgbm\",2,20)\n",
    "            model = LGBMRegressor(n_estimators=n_estimators_lgbm,\n",
    "                                    learning_rate=learning_rate_lgbm,\n",
    "                                    max_depth=max_depth_lgbm,\n",
    "                                    random_state=42)\n",
    "\n",
    "\n",
    "        # train the model\n",
    "        model.fit(X_train_trans,y_train_pt.values.ravel())\n",
    "\n",
    "        # log model params\n",
    "        mlflow.log_params(model.get_params())\n",
    "\n",
    "        # get the predictions\n",
    "        y_pred_train = model.predict(X_train_trans)\n",
    "        y_pred_test = model.predict(X_test_trans)\n",
    "\n",
    "        # get the actual predictions values\n",
    "        y_pred_train_org = pt.inverse_transform(y_pred_train.reshape(-1,1))\n",
    "        y_pred_test_org = pt.inverse_transform(y_pred_test.reshape(-1,1))\n",
    "\n",
    "        # calculate the error\n",
    "        error = mean_absolute_error(y_test,y_pred_test_org)\n",
    "\n",
    "        # log model_name\n",
    "        mlflow.log_param(\"model\",model_name)\n",
    "\n",
    "        # log error\n",
    "        mlflow.log_metric(\"MAE\",error)\n",
    "\n",
    "        return error"
   ]
  },
  {
   "cell_type": "code",
   "execution_count": 202,
   "metadata": {
    "colab": {
     "base_uri": "https://localhost:8080/",
     "height": 1000
    },
    "executionInfo": {
     "elapsed": 1010098,
     "status": "error",
     "timestamp": 1732871361176,
     "user": {
      "displayName": "Himanshu Arora",
      "userId": "03026800847751892488"
     },
     "user_tz": -330
    },
    "id": "yKs32EWWs42v",
    "outputId": "347c4211-d001-4b1e-b2f8-2af7e938ec21"
   },
   "outputs": [
    {
     "name": "stderr",
     "output_type": "stream",
     "text": [
      "[I 2025-10-13 19:15:30,644] A new study created in memory with name: model_selection\n"
     ]
    },
    {
     "name": "stdout",
     "output_type": "stream",
     "text": [
      "🏃 View run bemused-shad-52 at: https://dagshub.com/laxmikantbabaleshwar07/zomato-swiggy-delivery-time-prediction.mlflow/#/experiments/1/runs/65c45514ee1f4fbfbfb2c775dce9a940\n",
      "🧪 View experiment at: https://dagshub.com/laxmikantbabaleshwar07/zomato-swiggy-delivery-time-prediction.mlflow/#/experiments/1\n",
      "🏃 View run lyrical-hog-766 at: https://dagshub.com/laxmikantbabaleshwar07/zomato-swiggy-delivery-time-prediction.mlflow/#/experiments/1/runs/5873e579f66b44efbdd58315239a0e1f\n",
      "🧪 View experiment at: https://dagshub.com/laxmikantbabaleshwar07/zomato-swiggy-delivery-time-prediction.mlflow/#/experiments/1\n"
     ]
    },
    {
     "name": "stderr",
     "output_type": "stream",
     "text": [
      "[I 2025-10-13 19:16:37,194] Trial 0 finished with value: 3.0822947934494014 and parameters: {'model': 'RF', 'n_estimators_rf': 111, 'max_depth_rf': 19}. Best is trial 0 with value: 3.0822947934494014.\n"
     ]
    },
    {
     "name": "stdout",
     "output_type": "stream",
     "text": [
      "🏃 View run delicate-ox-549 at: https://dagshub.com/laxmikantbabaleshwar07/zomato-swiggy-delivery-time-prediction.mlflow/#/experiments/1/runs/aa53652c07544c56b028beb34992fd3e\n",
      "🧪 View experiment at: https://dagshub.com/laxmikantbabaleshwar07/zomato-swiggy-delivery-time-prediction.mlflow/#/experiments/1\n",
      "🏃 View run mysterious-crab-375 at: https://dagshub.com/laxmikantbabaleshwar07/zomato-swiggy-delivery-time-prediction.mlflow/#/experiments/1/runs/9e82ff737c4f49259a0ee26ee5328994\n",
      "🧪 View experiment at: https://dagshub.com/laxmikantbabaleshwar07/zomato-swiggy-delivery-time-prediction.mlflow/#/experiments/1\n",
      "🏃 View run sincere-snake-377 at: https://dagshub.com/laxmikantbabaleshwar07/zomato-swiggy-delivery-time-prediction.mlflow/#/experiments/1/runs/80a9bfc97a2543669ed546c3a4465c02\n",
      "🧪 View experiment at: https://dagshub.com/laxmikantbabaleshwar07/zomato-swiggy-delivery-time-prediction.mlflow/#/experiments/1\n"
     ]
    },
    {
     "name": "stderr",
     "output_type": "stream",
     "text": [
      "[I 2025-10-13 19:16:45,265] Trial 15 finished with value: 3.0560635934291818 and parameters: {'model': 'RF', 'n_estimators_rf': 129, 'max_depth_rf': 13}. Best is trial 15 with value: 3.0560635934291818.\n",
      "[I 2025-10-13 19:16:49,215] Trial 13 finished with value: 3.0824013861044848 and parameters: {'model': 'RF', 'n_estimators_rf': 149, 'max_depth_rf': 20}. Best is trial 15 with value: 3.0560635934291818.\n"
     ]
    },
    {
     "name": "stdout",
     "output_type": "stream",
     "text": [
      "🏃 View run illustrious-mink-478 at: https://dagshub.com/laxmikantbabaleshwar07/zomato-swiggy-delivery-time-prediction.mlflow/#/experiments/1/runs/c114675e738d462285d6c58172dca1f8\n",
      "🧪 View experiment at: https://dagshub.com/laxmikantbabaleshwar07/zomato-swiggy-delivery-time-prediction.mlflow/#/experiments/1\n"
     ]
    },
    {
     "name": "stderr",
     "output_type": "stream",
     "text": [
      "[I 2025-10-13 19:16:53,165] Trial 11 finished with value: 3.0506485992857546 and parameters: {'model': 'LGBM', 'n_estimators_lgbm': 192, 'learning_rate_lgbm': 0.11206009356174902, 'max_depth_lgbm': 9}. Best is trial 11 with value: 3.0506485992857546.\n",
      "[I 2025-10-13 19:16:54,218] Trial 12 finished with value: 3.054026157026841 and parameters: {'model': 'LGBM', 'n_estimators_lgbm': 82, 'learning_rate_lgbm': 0.26222974227552287, 'max_depth_lgbm': 11}. Best is trial 11 with value: 3.0506485992857546.\n"
     ]
    },
    {
     "name": "stdout",
     "output_type": "stream",
     "text": [
      "🏃 View run nebulous-mare-54 at: https://dagshub.com/laxmikantbabaleshwar07/zomato-swiggy-delivery-time-prediction.mlflow/#/experiments/1/runs/846acd3de15944e88dc0d3cf45743d63\n",
      "🧪 View experiment at: https://dagshub.com/laxmikantbabaleshwar07/zomato-swiggy-delivery-time-prediction.mlflow/#/experiments/1\n",
      "🏃 View run upset-shrimp-683 at: https://dagshub.com/laxmikantbabaleshwar07/zomato-swiggy-delivery-time-prediction.mlflow/#/experiments/1/runs/73068e3af73b4321a5199df1851561e7\n",
      "🧪 View experiment at: https://dagshub.com/laxmikantbabaleshwar07/zomato-swiggy-delivery-time-prediction.mlflow/#/experiments/1\n",
      "🏃 View run kindly-penguin-846 at: https://dagshub.com/laxmikantbabaleshwar07/zomato-swiggy-delivery-time-prediction.mlflow/#/experiments/1/runs/c32da516844a4348bf695236ef4bd9aa\n",
      "🧪 View experiment at: https://dagshub.com/laxmikantbabaleshwar07/zomato-swiggy-delivery-time-prediction.mlflow/#/experiments/1\n",
      "🏃 View run clumsy-whale-944 at: https://dagshub.com/laxmikantbabaleshwar07/zomato-swiggy-delivery-time-prediction.mlflow/#/experiments/1/runs/f09bafb952054afb9dd32ae457935460\n",
      "🧪 View experiment at: https://dagshub.com/laxmikantbabaleshwar07/zomato-swiggy-delivery-time-prediction.mlflow/#/experiments/1\n"
     ]
    },
    {
     "name": "stderr",
     "output_type": "stream",
     "text": [
      "[I 2025-10-13 19:17:06,179] Trial 2 finished with value: 3.370516061782837 and parameters: {'model': 'XGB', 'n_estimators_xgb': 142, 'learning_rate_xgb': 0.11339569036756103, 'max_depth_xgb': 20}. Best is trial 11 with value: 3.0506485992857546.\n",
      "[I 2025-10-13 19:17:09,166] Trial 9 finished with value: 3.30922269821167 and parameters: {'model': 'XGB', 'n_estimators_xgb': 155, 'learning_rate_xgb': 0.410680478752835, 'max_depth_xgb': 14}. Best is trial 11 with value: 3.0506485992857546.\n",
      "[I 2025-10-13 19:17:11,176] Trial 5 finished with value: 3.155681907097205 and parameters: {'model': 'RF', 'n_estimators_rf': 54, 'max_depth_rf': 11}. Best is trial 11 with value: 3.0506485992857546.\n",
      "[I 2025-10-13 19:17:13,178] Trial 3 finished with value: 4.4866550431216154 and parameters: {'model': 'KNN', 'n_neighbors_knn': 3, 'weights_knn': 'distance'}. Best is trial 11 with value: 3.0506485992857546.\n",
      "[I 2025-10-13 19:17:17,221] Trial 7 finished with value: 3.251474119919988 and parameters: {'model': 'GB', 'n_estimators_gb': 37, 'learning_rate_gb': 0.8998454108731836, 'max_depth_gb': 5}. Best is trial 11 with value: 3.0506485992857546.\n"
     ]
    },
    {
     "name": "stdout",
     "output_type": "stream",
     "text": [
      "🏃 View run indecisive-snake-139 at: https://dagshub.com/laxmikantbabaleshwar07/zomato-swiggy-delivery-time-prediction.mlflow/#/experiments/1/runs/94aefd52739b4ba685014ad5959eb2a5\n",
      "🧪 View experiment at: https://dagshub.com/laxmikantbabaleshwar07/zomato-swiggy-delivery-time-prediction.mlflow/#/experiments/1\n",
      "🏃 View run spiffy-cod-297 at: https://dagshub.com/laxmikantbabaleshwar07/zomato-swiggy-delivery-time-prediction.mlflow/#/experiments/1/runs/ea92b93be9ab48ef9d26bdd9c9ca8dcd\n",
      "🧪 View experiment at: https://dagshub.com/laxmikantbabaleshwar07/zomato-swiggy-delivery-time-prediction.mlflow/#/experiments/1\n",
      "🏃 View run indecisive-elk-324 at: https://dagshub.com/laxmikantbabaleshwar07/zomato-swiggy-delivery-time-prediction.mlflow/#/experiments/1/runs/1f00f6615b1b4b229983e227d5fcd77b\n",
      "🧪 View experiment at: https://dagshub.com/laxmikantbabaleshwar07/zomato-swiggy-delivery-time-prediction.mlflow/#/experiments/1\n",
      "🏃 View run auspicious-tern-247 at: https://dagshub.com/laxmikantbabaleshwar07/zomato-swiggy-delivery-time-prediction.mlflow/#/experiments/1/runs/23818437d6164b59a9b7c9f6ccd75053\n",
      "🧪 View experiment at: https://dagshub.com/laxmikantbabaleshwar07/zomato-swiggy-delivery-time-prediction.mlflow/#/experiments/1\n"
     ]
    },
    {
     "name": "stderr",
     "output_type": "stream",
     "text": [
      "[I 2025-10-13 19:17:34,171] Trial 14 finished with value: 3.052870988845825 and parameters: {'model': 'XGB', 'n_estimators_xgb': 131, 'learning_rate_xgb': 0.1456088331424967, 'max_depth_xgb': 6}. Best is trial 11 with value: 3.0506485992857546.\n",
      "[I 2025-10-13 19:17:40,164] Trial 8 finished with value: 3.0623889747309256 and parameters: {'model': 'LGBM', 'n_estimators_lgbm': 155, 'learning_rate_lgbm': 0.24353292806558968, 'max_depth_lgbm': 14}. Best is trial 11 with value: 3.0506485992857546.\n",
      "[I 2025-10-13 19:17:41,161] Trial 1 finished with value: 4.1912840326304766 and parameters: {'model': 'KNN', 'n_neighbors_knn': 15, 'weights_knn': 'distance'}. Best is trial 11 with value: 3.0506485992857546.\n",
      "[I 2025-10-13 19:17:42,194] Trial 4 finished with value: 4.301369810858632 and parameters: {'model': 'KNN', 'n_neighbors_knn': 23, 'weights_knn': 'uniform'}. Best is trial 11 with value: 3.0506485992857546.\n"
     ]
    },
    {
     "name": "stdout",
     "output_type": "stream",
     "text": [
      "🏃 View run illustrious-bat-617 at: https://dagshub.com/laxmikantbabaleshwar07/zomato-swiggy-delivery-time-prediction.mlflow/#/experiments/1/runs/3d6810882da942919e1503a67223d6f6\n",
      "🧪 View experiment at: https://dagshub.com/laxmikantbabaleshwar07/zomato-swiggy-delivery-time-prediction.mlflow/#/experiments/1\n",
      "🏃 View run hilarious-wren-264 at: https://dagshub.com/laxmikantbabaleshwar07/zomato-swiggy-delivery-time-prediction.mlflow/#/experiments/1/runs/4bb86d77efec40e2a7af2ce9fc419c87\n",
      "🧪 View experiment at: https://dagshub.com/laxmikantbabaleshwar07/zomato-swiggy-delivery-time-prediction.mlflow/#/experiments/1\n"
     ]
    },
    {
     "name": "stderr",
     "output_type": "stream",
     "text": [
      "[I 2025-10-13 19:17:53,298] Trial 10 finished with value: 3.1736207008361816 and parameters: {'model': 'XGB', 'n_estimators_xgb': 102, 'learning_rate_xgb': 0.2049391320846398, 'max_depth_xgb': 11}. Best is trial 11 with value: 3.0506485992857546.\n",
      "[I 2025-10-13 19:17:54,202] Trial 16 finished with value: 3.09285187432888 and parameters: {'model': 'LGBM', 'n_estimators_lgbm': 45, 'learning_rate_lgbm': 0.1121562368565861, 'max_depth_lgbm': 16}. Best is trial 11 with value: 3.0506485992857546.\n"
     ]
    },
    {
     "name": "stdout",
     "output_type": "stream",
     "text": [
      "🏃 View run mercurial-ram-367 at: https://dagshub.com/laxmikantbabaleshwar07/zomato-swiggy-delivery-time-prediction.mlflow/#/experiments/1/runs/50691a23c62f44e2b4588c43446c95f8\n",
      "🧪 View experiment at: https://dagshub.com/laxmikantbabaleshwar07/zomato-swiggy-delivery-time-prediction.mlflow/#/experiments/1\n"
     ]
    },
    {
     "name": "stderr",
     "output_type": "stream",
     "text": [
      "[I 2025-10-13 19:18:04,334] Trial 17 finished with value: 3.019368726542813 and parameters: {'model': 'LGBM', 'n_estimators_lgbm': 171, 'learning_rate_lgbm': 0.11105920693878596, 'max_depth_lgbm': 18}. Best is trial 17 with value: 3.019368726542813.\n"
     ]
    },
    {
     "name": "stdout",
     "output_type": "stream",
     "text": [
      "🏃 View run sassy-colt-452 at: https://dagshub.com/laxmikantbabaleshwar07/zomato-swiggy-delivery-time-prediction.mlflow/#/experiments/1/runs/403b16a075344da9b68c836a8cf26f68\n",
      "🧪 View experiment at: https://dagshub.com/laxmikantbabaleshwar07/zomato-swiggy-delivery-time-prediction.mlflow/#/experiments/1\n"
     ]
    },
    {
     "name": "stderr",
     "output_type": "stream",
     "text": [
      "[I 2025-10-13 19:18:08,191] Trial 18 finished with value: 3.187835693359375 and parameters: {'model': 'XGB', 'n_estimators_xgb': 129, 'learning_rate_xgb': 0.2308816408313756, 'max_depth_xgb': 10}. Best is trial 17 with value: 3.019368726542813.\n"
     ]
    },
    {
     "name": "stdout",
     "output_type": "stream",
     "text": [
      "🏃 View run angry-hog-533 at: https://dagshub.com/laxmikantbabaleshwar07/zomato-swiggy-delivery-time-prediction.mlflow/#/experiments/1/runs/842527b58cf4473eae2388386fdf3ea2\n",
      "🧪 View experiment at: https://dagshub.com/laxmikantbabaleshwar07/zomato-swiggy-delivery-time-prediction.mlflow/#/experiments/1\n",
      "🏃 View run placid-tern-412 at: https://dagshub.com/laxmikantbabaleshwar07/zomato-swiggy-delivery-time-prediction.mlflow/#/experiments/1/runs/af3ac0d3c5df4ff38a671716c393dea4\n",
      "🧪 View experiment at: https://dagshub.com/laxmikantbabaleshwar07/zomato-swiggy-delivery-time-prediction.mlflow/#/experiments/1\n"
     ]
    },
    {
     "name": "stderr",
     "output_type": "stream",
     "text": [
      "[I 2025-10-13 19:18:11,216] Trial 25 finished with value: 3.190925704182508 and parameters: {'model': 'LGBM', 'n_estimators_lgbm': 193, 'learning_rate_lgbm': 0.10127219626209832, 'max_depth_lgbm': 4}. Best is trial 17 with value: 3.019368726542813.\n",
      "[I 2025-10-13 19:18:12,335] Trial 24 finished with value: 3.659148720575634 and parameters: {'model': 'LGBM', 'n_estimators_lgbm': 193, 'learning_rate_lgbm': 0.1072048461141058, 'max_depth_lgbm': 2}. Best is trial 17 with value: 3.019368726542813.\n"
     ]
    },
    {
     "name": "stdout",
     "output_type": "stream",
     "text": [
      "🏃 View run funny-worm-703 at: https://dagshub.com/laxmikantbabaleshwar07/zomato-swiggy-delivery-time-prediction.mlflow/#/experiments/1/runs/cf80ea1914174adf8990341a1e895270\n",
      "🧪 View experiment at: https://dagshub.com/laxmikantbabaleshwar07/zomato-swiggy-delivery-time-prediction.mlflow/#/experiments/1\n"
     ]
    },
    {
     "name": "stderr",
     "output_type": "stream",
     "text": [
      "[I 2025-10-13 19:18:19,363] Trial 21 finished with value: 3.4645688417926803 and parameters: {'model': 'GB', 'n_estimators_gb': 167, 'learning_rate_gb': 0.3172463846731638, 'max_depth_gb': 17}. Best is trial 17 with value: 3.019368726542813.\n"
     ]
    },
    {
     "name": "stdout",
     "output_type": "stream",
     "text": [
      "🏃 View run unequaled-bat-890 at: https://dagshub.com/laxmikantbabaleshwar07/zomato-swiggy-delivery-time-prediction.mlflow/#/experiments/1/runs/eab075ff12ac431183bfe5c7ce529dbf\n",
      "🧪 View experiment at: https://dagshub.com/laxmikantbabaleshwar07/zomato-swiggy-delivery-time-prediction.mlflow/#/experiments/1\n"
     ]
    },
    {
     "name": "stderr",
     "output_type": "stream",
     "text": [
      "[I 2025-10-13 19:18:49,904] Trial 6 finished with value: 4.675478647903702 and parameters: {'model': 'SVM', 'kernel_svm': 'linear', 'c_linear': 1.6527830508542807}. Best is trial 17 with value: 3.019368726542813.\n"
     ]
    },
    {
     "name": "stdout",
     "output_type": "stream",
     "text": [
      "🏃 View run learned-gnu-943 at: https://dagshub.com/laxmikantbabaleshwar07/zomato-swiggy-delivery-time-prediction.mlflow/#/experiments/1/runs/eeb5f0126a4a4d7d922a14a54aa38a57\n",
      "🧪 View experiment at: https://dagshub.com/laxmikantbabaleshwar07/zomato-swiggy-delivery-time-prediction.mlflow/#/experiments/1\n"
     ]
    },
    {
     "name": "stderr",
     "output_type": "stream",
     "text": [
      "[I 2025-10-13 19:19:54,764] Trial 27 finished with value: 4.674963961406018 and parameters: {'model': 'SVM', 'kernel_svm': 'linear', 'c_linear': 0.1565855462726331}. Best is trial 17 with value: 3.019368726542813.\n"
     ]
    },
    {
     "name": "stdout",
     "output_type": "stream",
     "text": [
      "🏃 View run fun-ant-307 at: https://dagshub.com/laxmikantbabaleshwar07/zomato-swiggy-delivery-time-prediction.mlflow/#/experiments/1/runs/86a5ecb4c4134abea772716df1ff1ad1\n",
      "🧪 View experiment at: https://dagshub.com/laxmikantbabaleshwar07/zomato-swiggy-delivery-time-prediction.mlflow/#/experiments/1\n"
     ]
    },
    {
     "name": "stderr",
     "output_type": "stream",
     "text": [
      "[I 2025-10-13 19:20:24,793] Trial 29 finished with value: 3.9845739664569835 and parameters: {'model': 'SVM', 'kernel_svm': 'poly', 'c_poly': 1.6030339665663957, 'degree_poly': 2}. Best is trial 17 with value: 3.019368726542813.\n"
     ]
    },
    {
     "name": "stdout",
     "output_type": "stream",
     "text": [
      "🏃 View run debonair-mare-216 at: https://dagshub.com/laxmikantbabaleshwar07/zomato-swiggy-delivery-time-prediction.mlflow/#/experiments/1/runs/254e88f61f9b4274954b431207aaf78f\n",
      "🧪 View experiment at: https://dagshub.com/laxmikantbabaleshwar07/zomato-swiggy-delivery-time-prediction.mlflow/#/experiments/1\n"
     ]
    },
    {
     "name": "stderr",
     "output_type": "stream",
     "text": [
      "[I 2025-10-13 19:26:26,709] Trial 23 finished with value: 3.731374421252384 and parameters: {'model': 'SVM', 'kernel_svm': 'poly', 'c_poly': 6.604368891987759, 'degree_poly': 3}. Best is trial 17 with value: 3.019368726542813.\n"
     ]
    },
    {
     "name": "stdout",
     "output_type": "stream",
     "text": [
      "🏃 View run adorable-chimp-370 at: https://dagshub.com/laxmikantbabaleshwar07/zomato-swiggy-delivery-time-prediction.mlflow/#/experiments/1/runs/2c7a04d8eba54782a37773adf5bd4cbd\n",
      "🧪 View experiment at: https://dagshub.com/laxmikantbabaleshwar07/zomato-swiggy-delivery-time-prediction.mlflow/#/experiments/1\n"
     ]
    },
    {
     "name": "stderr",
     "output_type": "stream",
     "text": [
      "[I 2025-10-13 19:27:33,532] Trial 19 finished with value: 4.67545711454315 and parameters: {'model': 'SVM', 'kernel_svm': 'linear', 'c_linear': 9.640674614402279}. Best is trial 17 with value: 3.019368726542813.\n"
     ]
    },
    {
     "name": "stdout",
     "output_type": "stream",
     "text": [
      "🏃 View run dapper-lynx-338 at: https://dagshub.com/laxmikantbabaleshwar07/zomato-swiggy-delivery-time-prediction.mlflow/#/experiments/1/runs/fa6bd714a22b44bbac52decd6f479a0e\n",
      "🧪 View experiment at: https://dagshub.com/laxmikantbabaleshwar07/zomato-swiggy-delivery-time-prediction.mlflow/#/experiments/1\n"
     ]
    },
    {
     "name": "stderr",
     "output_type": "stream",
     "text": [
      "[I 2025-10-13 19:27:53,217] Trial 20 finished with value: 4.67548910393728 and parameters: {'model': 'SVM', 'kernel_svm': 'linear', 'c_linear': 8.70491893934215}. Best is trial 17 with value: 3.019368726542813.\n"
     ]
    },
    {
     "name": "stdout",
     "output_type": "stream",
     "text": [
      "🏃 View run traveling-ram-953 at: https://dagshub.com/laxmikantbabaleshwar07/zomato-swiggy-delivery-time-prediction.mlflow/#/experiments/1/runs/2fa27fcf9d224a5ea0c4f22f20802f33\n",
      "🧪 View experiment at: https://dagshub.com/laxmikantbabaleshwar07/zomato-swiggy-delivery-time-prediction.mlflow/#/experiments/1\n"
     ]
    },
    {
     "name": "stderr",
     "output_type": "stream",
     "text": [
      "[I 2025-10-13 19:27:56,264] Trial 28 finished with value: 6.387626610733152 and parameters: {'model': 'SVM', 'kernel_svm': 'rbf', 'c_rbf': 25.099069957926304, 'gamma_rbf': 5.749600058543436}. Best is trial 17 with value: 3.019368726542813.\n"
     ]
    },
    {
     "name": "stdout",
     "output_type": "stream",
     "text": [
      "🏃 View run upset-mare-130 at: https://dagshub.com/laxmikantbabaleshwar07/zomato-swiggy-delivery-time-prediction.mlflow/#/experiments/1/runs/f8c5e56abd504b74ae4c205608cfe2ca\n",
      "🧪 View experiment at: https://dagshub.com/laxmikantbabaleshwar07/zomato-swiggy-delivery-time-prediction.mlflow/#/experiments/1\n"
     ]
    },
    {
     "name": "stderr",
     "output_type": "stream",
     "text": [
      "[I 2025-10-13 19:28:48,342] Trial 22 finished with value: 3.662532422227425 and parameters: {'model': 'SVM', 'kernel_svm': 'poly', 'c_poly': 1.949132517834658, 'degree_poly': 4}. Best is trial 17 with value: 3.019368726542813.\n"
     ]
    },
    {
     "name": "stdout",
     "output_type": "stream",
     "text": [
      "🏃 View run rare-mouse-811 at: https://dagshub.com/laxmikantbabaleshwar07/zomato-swiggy-delivery-time-prediction.mlflow/#/experiments/1/runs/4655dd419bdb43059a99f8d28306bd49\n",
      "🧪 View experiment at: https://dagshub.com/laxmikantbabaleshwar07/zomato-swiggy-delivery-time-prediction.mlflow/#/experiments/1\n"
     ]
    },
    {
     "name": "stderr",
     "output_type": "stream",
     "text": [
      "[I 2025-10-13 20:17:07,114] Trial 26 finished with value: 3.644612315775363 and parameters: {'model': 'SVM', 'kernel_svm': 'poly', 'c_poly': 8.113147178848408, 'degree_poly': 4}. Best is trial 17 with value: 3.019368726542813.\n"
     ]
    },
    {
     "name": "stdout",
     "output_type": "stream",
     "text": [
      "🏃 View run Best Model at: https://dagshub.com/laxmikantbabaleshwar07/zomato-swiggy-delivery-time-prediction.mlflow/#/experiments/1/runs/d891edd53c154b3b9470bbe1c6b79173\n",
      "🧪 View experiment at: https://dagshub.com/laxmikantbabaleshwar07/zomato-swiggy-delivery-time-prediction.mlflow/#/experiments/1\n"
     ]
    }
   ],
   "source": [
    "# create optuna study\n",
    "study = optuna.create_study(direction=\"minimize\",study_name=\"model_selection\")\n",
    "\n",
    "with mlflow.start_run(run_name=\"Best Model\") as parent:\n",
    "    # optimize the objective function\n",
    "    study.optimize(objective,n_trials=30,n_jobs=-1)\n",
    "\n",
    "    # log the best parameters\n",
    "    mlflow.log_params(study.best_params)\n",
    "\n",
    "    # log the best score\n",
    "    mlflow.log_metric(\"best_score\",study.best_value)"
   ]
  },
  {
   "cell_type": "code",
   "execution_count": 212,
   "metadata": {},
   "outputs": [
    {
     "data": {
      "text/plain": [
       "{'model': 'LGBM',\n",
       " 'n_estimators_lgbm': 171,\n",
       " 'learning_rate_lgbm': 0.11105920693878596,\n",
       " 'max_depth_lgbm': 18}"
      ]
     },
     "execution_count": 212,
     "metadata": {},
     "output_type": "execute_result"
    }
   ],
   "source": [
    "study.best_params"
   ]
  },
  {
   "cell_type": "code",
   "execution_count": 226,
   "metadata": {
    "colab": {
     "base_uri": "https://localhost:8080/"
    },
    "executionInfo": {
     "elapsed": 610,
     "status": "ok",
     "timestamp": 1732871379240,
     "user": {
      "displayName": "Himanshu Arora",
      "userId": "03026800847751892488"
     },
     "user_tz": -330
    },
    "id": "56OTolVRfzTd",
    "outputId": "1732bcf5-cd0b-4fea-cc4a-d967fa58c2aa"
   },
   "outputs": [
    {
     "data": {
      "text/plain": [
       "3.019368726542813"
      ]
     },
     "execution_count": 226,
     "metadata": {},
     "output_type": "execute_result"
    }
   ],
   "source": [
    "# best score\n",
    "\n",
    "study.best_value"
   ]
  },
  {
   "cell_type": "code",
   "execution_count": 228,
   "metadata": {
    "executionInfo": {
     "elapsed": 840,
     "status": "ok",
     "timestamp": 1732871400830,
     "user": {
      "displayName": "Himanshu Arora",
      "userId": "03026800847751892488"
     },
     "user_tz": -330
    },
    "id": "5RYtbnAdjI--"
   },
   "outputs": [],
   "source": [
    "lgbm_params = {\n",
    "    \"n_estimators\": 145,\n",
    "    \"learning_rate\": 0.16632111599858262,\n",
    "    \"max_depth\": 17\n",
    "}"
   ]
  },
  {
   "cell_type": "code",
   "execution_count": 229,
   "metadata": {
    "colab": {
     "base_uri": "https://localhost:8080/",
     "height": 167
    },
    "executionInfo": {
     "elapsed": 770,
     "status": "ok",
     "timestamp": 1732871402661,
     "user": {
      "displayName": "Himanshu Arora",
      "userId": "03026800847751892488"
     },
     "user_tz": -330
    },
    "id": "ngwQnZSrhtM2",
    "outputId": "ef4e4ab3-2c1e-4b51-8a57-dfc10a099110"
   },
   "outputs": [
    {
     "name": "stdout",
     "output_type": "stream",
     "text": [
      "[LightGBM] [Info] Auto-choosing row-wise multi-threading, the overhead of testing was 0.001750 seconds.\n",
      "You can set `force_row_wise=true` to remove the overhead.\n",
      "And if memory is not enough, you can set `force_col_wise=true`.\n",
      "[LightGBM] [Info] Total Bins 352\n",
      "[LightGBM] [Info] Number of data points in the train set: 30156, number of used features: 25\n",
      "[LightGBM] [Info] Start training from score -0.000000\n"
     ]
    },
    {
     "data": {
      "text/html": [
       "<style>#sk-container-id-6 {\n",
       "  /* Definition of color scheme common for light and dark mode */\n",
       "  --sklearn-color-text: #000;\n",
       "  --sklearn-color-text-muted: #666;\n",
       "  --sklearn-color-line: gray;\n",
       "  /* Definition of color scheme for unfitted estimators */\n",
       "  --sklearn-color-unfitted-level-0: #fff5e6;\n",
       "  --sklearn-color-unfitted-level-1: #f6e4d2;\n",
       "  --sklearn-color-unfitted-level-2: #ffe0b3;\n",
       "  --sklearn-color-unfitted-level-3: chocolate;\n",
       "  /* Definition of color scheme for fitted estimators */\n",
       "  --sklearn-color-fitted-level-0: #f0f8ff;\n",
       "  --sklearn-color-fitted-level-1: #d4ebff;\n",
       "  --sklearn-color-fitted-level-2: #b3dbfd;\n",
       "  --sklearn-color-fitted-level-3: cornflowerblue;\n",
       "\n",
       "  /* Specific color for light theme */\n",
       "  --sklearn-color-text-on-default-background: var(--sg-text-color, var(--theme-code-foreground, var(--jp-content-font-color1, black)));\n",
       "  --sklearn-color-background: var(--sg-background-color, var(--theme-background, var(--jp-layout-color0, white)));\n",
       "  --sklearn-color-border-box: var(--sg-text-color, var(--theme-code-foreground, var(--jp-content-font-color1, black)));\n",
       "  --sklearn-color-icon: #696969;\n",
       "\n",
       "  @media (prefers-color-scheme: dark) {\n",
       "    /* Redefinition of color scheme for dark theme */\n",
       "    --sklearn-color-text-on-default-background: var(--sg-text-color, var(--theme-code-foreground, var(--jp-content-font-color1, white)));\n",
       "    --sklearn-color-background: var(--sg-background-color, var(--theme-background, var(--jp-layout-color0, #111)));\n",
       "    --sklearn-color-border-box: var(--sg-text-color, var(--theme-code-foreground, var(--jp-content-font-color1, white)));\n",
       "    --sklearn-color-icon: #878787;\n",
       "  }\n",
       "}\n",
       "\n",
       "#sk-container-id-6 {\n",
       "  color: var(--sklearn-color-text);\n",
       "}\n",
       "\n",
       "#sk-container-id-6 pre {\n",
       "  padding: 0;\n",
       "}\n",
       "\n",
       "#sk-container-id-6 input.sk-hidden--visually {\n",
       "  border: 0;\n",
       "  clip: rect(1px 1px 1px 1px);\n",
       "  clip: rect(1px, 1px, 1px, 1px);\n",
       "  height: 1px;\n",
       "  margin: -1px;\n",
       "  overflow: hidden;\n",
       "  padding: 0;\n",
       "  position: absolute;\n",
       "  width: 1px;\n",
       "}\n",
       "\n",
       "#sk-container-id-6 div.sk-dashed-wrapped {\n",
       "  border: 1px dashed var(--sklearn-color-line);\n",
       "  margin: 0 0.4em 0.5em 0.4em;\n",
       "  box-sizing: border-box;\n",
       "  padding-bottom: 0.4em;\n",
       "  background-color: var(--sklearn-color-background);\n",
       "}\n",
       "\n",
       "#sk-container-id-6 div.sk-container {\n",
       "  /* jupyter's `normalize.less` sets `[hidden] { display: none; }`\n",
       "     but bootstrap.min.css set `[hidden] { display: none !important; }`\n",
       "     so we also need the `!important` here to be able to override the\n",
       "     default hidden behavior on the sphinx rendered scikit-learn.org.\n",
       "     See: https://github.com/scikit-learn/scikit-learn/issues/21755 */\n",
       "  display: inline-block !important;\n",
       "  position: relative;\n",
       "}\n",
       "\n",
       "#sk-container-id-6 div.sk-text-repr-fallback {\n",
       "  display: none;\n",
       "}\n",
       "\n",
       "div.sk-parallel-item,\n",
       "div.sk-serial,\n",
       "div.sk-item {\n",
       "  /* draw centered vertical line to link estimators */\n",
       "  background-image: linear-gradient(var(--sklearn-color-text-on-default-background), var(--sklearn-color-text-on-default-background));\n",
       "  background-size: 2px 100%;\n",
       "  background-repeat: no-repeat;\n",
       "  background-position: center center;\n",
       "}\n",
       "\n",
       "/* Parallel-specific style estimator block */\n",
       "\n",
       "#sk-container-id-6 div.sk-parallel-item::after {\n",
       "  content: \"\";\n",
       "  width: 100%;\n",
       "  border-bottom: 2px solid var(--sklearn-color-text-on-default-background);\n",
       "  flex-grow: 1;\n",
       "}\n",
       "\n",
       "#sk-container-id-6 div.sk-parallel {\n",
       "  display: flex;\n",
       "  align-items: stretch;\n",
       "  justify-content: center;\n",
       "  background-color: var(--sklearn-color-background);\n",
       "  position: relative;\n",
       "}\n",
       "\n",
       "#sk-container-id-6 div.sk-parallel-item {\n",
       "  display: flex;\n",
       "  flex-direction: column;\n",
       "}\n",
       "\n",
       "#sk-container-id-6 div.sk-parallel-item:first-child::after {\n",
       "  align-self: flex-end;\n",
       "  width: 50%;\n",
       "}\n",
       "\n",
       "#sk-container-id-6 div.sk-parallel-item:last-child::after {\n",
       "  align-self: flex-start;\n",
       "  width: 50%;\n",
       "}\n",
       "\n",
       "#sk-container-id-6 div.sk-parallel-item:only-child::after {\n",
       "  width: 0;\n",
       "}\n",
       "\n",
       "/* Serial-specific style estimator block */\n",
       "\n",
       "#sk-container-id-6 div.sk-serial {\n",
       "  display: flex;\n",
       "  flex-direction: column;\n",
       "  align-items: center;\n",
       "  background-color: var(--sklearn-color-background);\n",
       "  padding-right: 1em;\n",
       "  padding-left: 1em;\n",
       "}\n",
       "\n",
       "\n",
       "/* Toggleable style: style used for estimator/Pipeline/ColumnTransformer box that is\n",
       "clickable and can be expanded/collapsed.\n",
       "- Pipeline and ColumnTransformer use this feature and define the default style\n",
       "- Estimators will overwrite some part of the style using the `sk-estimator` class\n",
       "*/\n",
       "\n",
       "/* Pipeline and ColumnTransformer style (default) */\n",
       "\n",
       "#sk-container-id-6 div.sk-toggleable {\n",
       "  /* Default theme specific background. It is overwritten whether we have a\n",
       "  specific estimator or a Pipeline/ColumnTransformer */\n",
       "  background-color: var(--sklearn-color-background);\n",
       "}\n",
       "\n",
       "/* Toggleable label */\n",
       "#sk-container-id-6 label.sk-toggleable__label {\n",
       "  cursor: pointer;\n",
       "  display: flex;\n",
       "  width: 100%;\n",
       "  margin-bottom: 0;\n",
       "  padding: 0.5em;\n",
       "  box-sizing: border-box;\n",
       "  text-align: center;\n",
       "  align-items: start;\n",
       "  justify-content: space-between;\n",
       "  gap: 0.5em;\n",
       "}\n",
       "\n",
       "#sk-container-id-6 label.sk-toggleable__label .caption {\n",
       "  font-size: 0.6rem;\n",
       "  font-weight: lighter;\n",
       "  color: var(--sklearn-color-text-muted);\n",
       "}\n",
       "\n",
       "#sk-container-id-6 label.sk-toggleable__label-arrow:before {\n",
       "  /* Arrow on the left of the label */\n",
       "  content: \"▸\";\n",
       "  float: left;\n",
       "  margin-right: 0.25em;\n",
       "  color: var(--sklearn-color-icon);\n",
       "}\n",
       "\n",
       "#sk-container-id-6 label.sk-toggleable__label-arrow:hover:before {\n",
       "  color: var(--sklearn-color-text);\n",
       "}\n",
       "\n",
       "/* Toggleable content - dropdown */\n",
       "\n",
       "#sk-container-id-6 div.sk-toggleable__content {\n",
       "  max-height: 0;\n",
       "  max-width: 0;\n",
       "  overflow: hidden;\n",
       "  text-align: left;\n",
       "  /* unfitted */\n",
       "  background-color: var(--sklearn-color-unfitted-level-0);\n",
       "}\n",
       "\n",
       "#sk-container-id-6 div.sk-toggleable__content.fitted {\n",
       "  /* fitted */\n",
       "  background-color: var(--sklearn-color-fitted-level-0);\n",
       "}\n",
       "\n",
       "#sk-container-id-6 div.sk-toggleable__content pre {\n",
       "  margin: 0.2em;\n",
       "  border-radius: 0.25em;\n",
       "  color: var(--sklearn-color-text);\n",
       "  /* unfitted */\n",
       "  background-color: var(--sklearn-color-unfitted-level-0);\n",
       "}\n",
       "\n",
       "#sk-container-id-6 div.sk-toggleable__content.fitted pre {\n",
       "  /* unfitted */\n",
       "  background-color: var(--sklearn-color-fitted-level-0);\n",
       "}\n",
       "\n",
       "#sk-container-id-6 input.sk-toggleable__control:checked~div.sk-toggleable__content {\n",
       "  /* Expand drop-down */\n",
       "  max-height: 200px;\n",
       "  max-width: 100%;\n",
       "  overflow: auto;\n",
       "}\n",
       "\n",
       "#sk-container-id-6 input.sk-toggleable__control:checked~label.sk-toggleable__label-arrow:before {\n",
       "  content: \"▾\";\n",
       "}\n",
       "\n",
       "/* Pipeline/ColumnTransformer-specific style */\n",
       "\n",
       "#sk-container-id-6 div.sk-label input.sk-toggleable__control:checked~label.sk-toggleable__label {\n",
       "  color: var(--sklearn-color-text);\n",
       "  background-color: var(--sklearn-color-unfitted-level-2);\n",
       "}\n",
       "\n",
       "#sk-container-id-6 div.sk-label.fitted input.sk-toggleable__control:checked~label.sk-toggleable__label {\n",
       "  background-color: var(--sklearn-color-fitted-level-2);\n",
       "}\n",
       "\n",
       "/* Estimator-specific style */\n",
       "\n",
       "/* Colorize estimator box */\n",
       "#sk-container-id-6 div.sk-estimator input.sk-toggleable__control:checked~label.sk-toggleable__label {\n",
       "  /* unfitted */\n",
       "  background-color: var(--sklearn-color-unfitted-level-2);\n",
       "}\n",
       "\n",
       "#sk-container-id-6 div.sk-estimator.fitted input.sk-toggleable__control:checked~label.sk-toggleable__label {\n",
       "  /* fitted */\n",
       "  background-color: var(--sklearn-color-fitted-level-2);\n",
       "}\n",
       "\n",
       "#sk-container-id-6 div.sk-label label.sk-toggleable__label,\n",
       "#sk-container-id-6 div.sk-label label {\n",
       "  /* The background is the default theme color */\n",
       "  color: var(--sklearn-color-text-on-default-background);\n",
       "}\n",
       "\n",
       "/* On hover, darken the color of the background */\n",
       "#sk-container-id-6 div.sk-label:hover label.sk-toggleable__label {\n",
       "  color: var(--sklearn-color-text);\n",
       "  background-color: var(--sklearn-color-unfitted-level-2);\n",
       "}\n",
       "\n",
       "/* Label box, darken color on hover, fitted */\n",
       "#sk-container-id-6 div.sk-label.fitted:hover label.sk-toggleable__label.fitted {\n",
       "  color: var(--sklearn-color-text);\n",
       "  background-color: var(--sklearn-color-fitted-level-2);\n",
       "}\n",
       "\n",
       "/* Estimator label */\n",
       "\n",
       "#sk-container-id-6 div.sk-label label {\n",
       "  font-family: monospace;\n",
       "  font-weight: bold;\n",
       "  display: inline-block;\n",
       "  line-height: 1.2em;\n",
       "}\n",
       "\n",
       "#sk-container-id-6 div.sk-label-container {\n",
       "  text-align: center;\n",
       "}\n",
       "\n",
       "/* Estimator-specific */\n",
       "#sk-container-id-6 div.sk-estimator {\n",
       "  font-family: monospace;\n",
       "  border: 1px dotted var(--sklearn-color-border-box);\n",
       "  border-radius: 0.25em;\n",
       "  box-sizing: border-box;\n",
       "  margin-bottom: 0.5em;\n",
       "  /* unfitted */\n",
       "  background-color: var(--sklearn-color-unfitted-level-0);\n",
       "}\n",
       "\n",
       "#sk-container-id-6 div.sk-estimator.fitted {\n",
       "  /* fitted */\n",
       "  background-color: var(--sklearn-color-fitted-level-0);\n",
       "}\n",
       "\n",
       "/* on hover */\n",
       "#sk-container-id-6 div.sk-estimator:hover {\n",
       "  /* unfitted */\n",
       "  background-color: var(--sklearn-color-unfitted-level-2);\n",
       "}\n",
       "\n",
       "#sk-container-id-6 div.sk-estimator.fitted:hover {\n",
       "  /* fitted */\n",
       "  background-color: var(--sklearn-color-fitted-level-2);\n",
       "}\n",
       "\n",
       "/* Specification for estimator info (e.g. \"i\" and \"?\") */\n",
       "\n",
       "/* Common style for \"i\" and \"?\" */\n",
       "\n",
       ".sk-estimator-doc-link,\n",
       "a:link.sk-estimator-doc-link,\n",
       "a:visited.sk-estimator-doc-link {\n",
       "  float: right;\n",
       "  font-size: smaller;\n",
       "  line-height: 1em;\n",
       "  font-family: monospace;\n",
       "  background-color: var(--sklearn-color-background);\n",
       "  border-radius: 1em;\n",
       "  height: 1em;\n",
       "  width: 1em;\n",
       "  text-decoration: none !important;\n",
       "  margin-left: 0.5em;\n",
       "  text-align: center;\n",
       "  /* unfitted */\n",
       "  border: var(--sklearn-color-unfitted-level-1) 1pt solid;\n",
       "  color: var(--sklearn-color-unfitted-level-1);\n",
       "}\n",
       "\n",
       ".sk-estimator-doc-link.fitted,\n",
       "a:link.sk-estimator-doc-link.fitted,\n",
       "a:visited.sk-estimator-doc-link.fitted {\n",
       "  /* fitted */\n",
       "  border: var(--sklearn-color-fitted-level-1) 1pt solid;\n",
       "  color: var(--sklearn-color-fitted-level-1);\n",
       "}\n",
       "\n",
       "/* On hover */\n",
       "div.sk-estimator:hover .sk-estimator-doc-link:hover,\n",
       ".sk-estimator-doc-link:hover,\n",
       "div.sk-label-container:hover .sk-estimator-doc-link:hover,\n",
       ".sk-estimator-doc-link:hover {\n",
       "  /* unfitted */\n",
       "  background-color: var(--sklearn-color-unfitted-level-3);\n",
       "  color: var(--sklearn-color-background);\n",
       "  text-decoration: none;\n",
       "}\n",
       "\n",
       "div.sk-estimator.fitted:hover .sk-estimator-doc-link.fitted:hover,\n",
       ".sk-estimator-doc-link.fitted:hover,\n",
       "div.sk-label-container:hover .sk-estimator-doc-link.fitted:hover,\n",
       ".sk-estimator-doc-link.fitted:hover {\n",
       "  /* fitted */\n",
       "  background-color: var(--sklearn-color-fitted-level-3);\n",
       "  color: var(--sklearn-color-background);\n",
       "  text-decoration: none;\n",
       "}\n",
       "\n",
       "/* Span, style for the box shown on hovering the info icon */\n",
       ".sk-estimator-doc-link span {\n",
       "  display: none;\n",
       "  z-index: 9999;\n",
       "  position: relative;\n",
       "  font-weight: normal;\n",
       "  right: .2ex;\n",
       "  padding: .5ex;\n",
       "  margin: .5ex;\n",
       "  width: min-content;\n",
       "  min-width: 20ex;\n",
       "  max-width: 50ex;\n",
       "  color: var(--sklearn-color-text);\n",
       "  box-shadow: 2pt 2pt 4pt #999;\n",
       "  /* unfitted */\n",
       "  background: var(--sklearn-color-unfitted-level-0);\n",
       "  border: .5pt solid var(--sklearn-color-unfitted-level-3);\n",
       "}\n",
       "\n",
       ".sk-estimator-doc-link.fitted span {\n",
       "  /* fitted */\n",
       "  background: var(--sklearn-color-fitted-level-0);\n",
       "  border: var(--sklearn-color-fitted-level-3);\n",
       "}\n",
       "\n",
       ".sk-estimator-doc-link:hover span {\n",
       "  display: block;\n",
       "}\n",
       "\n",
       "/* \"?\"-specific style due to the `<a>` HTML tag */\n",
       "\n",
       "#sk-container-id-6 a.estimator_doc_link {\n",
       "  float: right;\n",
       "  font-size: 1rem;\n",
       "  line-height: 1em;\n",
       "  font-family: monospace;\n",
       "  background-color: var(--sklearn-color-background);\n",
       "  border-radius: 1rem;\n",
       "  height: 1rem;\n",
       "  width: 1rem;\n",
       "  text-decoration: none;\n",
       "  /* unfitted */\n",
       "  color: var(--sklearn-color-unfitted-level-1);\n",
       "  border: var(--sklearn-color-unfitted-level-1) 1pt solid;\n",
       "}\n",
       "\n",
       "#sk-container-id-6 a.estimator_doc_link.fitted {\n",
       "  /* fitted */\n",
       "  border: var(--sklearn-color-fitted-level-1) 1pt solid;\n",
       "  color: var(--sklearn-color-fitted-level-1);\n",
       "}\n",
       "\n",
       "/* On hover */\n",
       "#sk-container-id-6 a.estimator_doc_link:hover {\n",
       "  /* unfitted */\n",
       "  background-color: var(--sklearn-color-unfitted-level-3);\n",
       "  color: var(--sklearn-color-background);\n",
       "  text-decoration: none;\n",
       "}\n",
       "\n",
       "#sk-container-id-6 a.estimator_doc_link.fitted:hover {\n",
       "  /* fitted */\n",
       "  background-color: var(--sklearn-color-fitted-level-3);\n",
       "}\n",
       "</style><div id=\"sk-container-id-6\" class=\"sk-top-container\"><div class=\"sk-text-repr-fallback\"><pre>LGBMRegressor(learning_rate=0.16632111599858262, max_depth=17, n_estimators=145)</pre><b>In a Jupyter environment, please rerun this cell to show the HTML representation or trust the notebook. <br />On GitHub, the HTML representation is unable to render, please try loading this page with nbviewer.org.</b></div><div class=\"sk-container\" hidden><div class=\"sk-item\"><div class=\"sk-estimator fitted sk-toggleable\"><input class=\"sk-toggleable__control sk-hidden--visually\" id=\"sk-estimator-id-40\" type=\"checkbox\" checked><label for=\"sk-estimator-id-40\" class=\"sk-toggleable__label fitted sk-toggleable__label-arrow\"><div><div>LGBMRegressor</div></div><div><span class=\"sk-estimator-doc-link fitted\">i<span>Fitted</span></span></div></label><div class=\"sk-toggleable__content fitted\"><pre>LGBMRegressor(learning_rate=0.16632111599858262, max_depth=17, n_estimators=145)</pre></div> </div></div></div></div>"
      ],
      "text/plain": [
       "LGBMRegressor(learning_rate=0.16632111599858262, max_depth=17, n_estimators=145)"
      ]
     },
     "execution_count": 229,
     "metadata": {},
     "output_type": "execute_result"
    }
   ],
   "source": [
    "# train the model on best parameters\n",
    "\n",
    "lgbm = LGBMRegressor(**lgbm_params)\n",
    "\n",
    "lgbm.fit(X_train_trans,y_train_pt.values.ravel())"
   ]
  },
  {
   "cell_type": "code",
   "execution_count": 230,
   "metadata": {
    "executionInfo": {
     "elapsed": 761,
     "status": "ok",
     "timestamp": 1732871404168,
     "user": {
      "displayName": "Himanshu Arora",
      "userId": "03026800847751892488"
     },
     "user_tz": -330
    },
    "id": "PgboKKdfrRJb"
   },
   "outputs": [],
   "source": [
    "# get the predictions\n",
    "y_pred_train = lgbm.predict(X_train_trans)\n",
    "y_pred_test = lgbm.predict(X_test_trans)"
   ]
  },
  {
   "cell_type": "code",
   "execution_count": 231,
   "metadata": {
    "executionInfo": {
     "elapsed": 6,
     "status": "ok",
     "timestamp": 1732871404833,
     "user": {
      "displayName": "Himanshu Arora",
      "userId": "03026800847751892488"
     },
     "user_tz": -330
    },
    "id": "TbyRoXrMrRJb"
   },
   "outputs": [],
   "source": [
    "# get the actual predictions values\n",
    "\n",
    "y_pred_train_org = pt.inverse_transform(y_pred_train.reshape(-1,1))\n",
    "y_pred_test_org = pt.inverse_transform(y_pred_test.reshape(-1,1))"
   ]
  },
  {
   "cell_type": "code",
   "execution_count": 232,
   "metadata": {
    "colab": {
     "base_uri": "https://localhost:8080/"
    },
    "executionInfo": {
     "elapsed": 7,
     "status": "ok",
     "timestamp": 1732871406763,
     "user": {
      "displayName": "Himanshu Arora",
      "userId": "03026800847751892488"
     },
     "user_tz": -330
    },
    "id": "WP7ynLUCrRJc",
    "outputId": "8540c390-cfa0-411f-ec8f-d1ba6321c409"
   },
   "outputs": [
    {
     "name": "stdout",
     "output_type": "stream",
     "text": [
      "The train error is 2.78 minutes\n",
      "The test error is 3.02 minutes\n"
     ]
    }
   ],
   "source": [
    "from sklearn.metrics import mean_absolute_error, r2_score\n",
    "\n",
    "print(f\"The train error is {mean_absolute_error(y_train,y_pred_train_org):.2f} minutes\")\n",
    "print(f\"The test error is {mean_absolute_error(y_test,y_pred_test_org):.2f} minutes\")"
   ]
  },
  {
   "cell_type": "code",
   "execution_count": 233,
   "metadata": {
    "colab": {
     "base_uri": "https://localhost:8080/"
    },
    "executionInfo": {
     "elapsed": 747,
     "status": "ok",
     "timestamp": 1732871410966,
     "user": {
      "displayName": "Himanshu Arora",
      "userId": "03026800847751892488"
     },
     "user_tz": -330
    },
    "id": "ISoCCVh5rRJc",
    "outputId": "ec032495-255f-465e-ec8c-9673b130c430"
   },
   "outputs": [
    {
     "name": "stdout",
     "output_type": "stream",
     "text": [
      "The train r2 score is 0.86\n",
      "The test r2 score is 0.84\n"
     ]
    }
   ],
   "source": [
    "print(f\"The train r2 score is {r2_score(y_train,y_pred_train_org):.2f}\")\n",
    "print(f\"The test r2 score is {r2_score(y_test,y_pred_test_org):.2f}\")"
   ]
  },
  {
   "cell_type": "code",
   "execution_count": 234,
   "metadata": {
    "colab": {
     "base_uri": "https://localhost:8080/",
     "height": 1000
    },
    "executionInfo": {
     "elapsed": 558,
     "status": "ok",
     "timestamp": 1732871415167,
     "user": {
      "displayName": "Himanshu Arora",
      "userId": "03026800847751892488"
     },
     "user_tz": -330
    },
    "id": "bY2Cqy_cZrQQ",
    "outputId": "650bd0cd-ab99-4534-d707-962294567cfc"
   },
   "outputs": [
    {
     "data": {
      "text/html": [
       "<div>\n",
       "<style scoped>\n",
       "    .dataframe tbody tr th:only-of-type {\n",
       "        vertical-align: middle;\n",
       "    }\n",
       "\n",
       "    .dataframe tbody tr th {\n",
       "        vertical-align: top;\n",
       "    }\n",
       "\n",
       "    .dataframe thead th {\n",
       "        text-align: right;\n",
       "    }\n",
       "</style>\n",
       "<table border=\"1\" class=\"dataframe\">\n",
       "  <thead>\n",
       "    <tr style=\"text-align: right;\">\n",
       "      <th></th>\n",
       "      <th>number</th>\n",
       "      <th>value</th>\n",
       "      <th>datetime_start</th>\n",
       "      <th>datetime_complete</th>\n",
       "      <th>duration</th>\n",
       "      <th>params_c_linear</th>\n",
       "      <th>params_c_poly</th>\n",
       "      <th>params_c_rbf</th>\n",
       "      <th>params_degree_poly</th>\n",
       "      <th>params_gamma_rbf</th>\n",
       "      <th>...</th>\n",
       "      <th>params_max_depth_rf</th>\n",
       "      <th>params_max_depth_xgb</th>\n",
       "      <th>params_model</th>\n",
       "      <th>params_n_estimators_gb</th>\n",
       "      <th>params_n_estimators_lgbm</th>\n",
       "      <th>params_n_estimators_rf</th>\n",
       "      <th>params_n_estimators_xgb</th>\n",
       "      <th>params_n_neighbors_knn</th>\n",
       "      <th>params_weights_knn</th>\n",
       "      <th>state</th>\n",
       "    </tr>\n",
       "  </thead>\n",
       "  <tbody>\n",
       "    <tr>\n",
       "      <th>0</th>\n",
       "      <td>0</td>\n",
       "      <td>3.082295</td>\n",
       "      <td>2025-10-13 19:15:31.157252</td>\n",
       "      <td>2025-10-13 19:16:37.194582</td>\n",
       "      <td>0 days 00:01:06.037330</td>\n",
       "      <td>NaN</td>\n",
       "      <td>NaN</td>\n",
       "      <td>NaN</td>\n",
       "      <td>NaN</td>\n",
       "      <td>NaN</td>\n",
       "      <td>...</td>\n",
       "      <td>19.0</td>\n",
       "      <td>NaN</td>\n",
       "      <td>RF</td>\n",
       "      <td>NaN</td>\n",
       "      <td>NaN</td>\n",
       "      <td>111.0</td>\n",
       "      <td>NaN</td>\n",
       "      <td>NaN</td>\n",
       "      <td>NaN</td>\n",
       "      <td>COMPLETE</td>\n",
       "    </tr>\n",
       "    <tr>\n",
       "      <th>1</th>\n",
       "      <td>1</td>\n",
       "      <td>4.191284</td>\n",
       "      <td>2025-10-13 19:15:31.159260</td>\n",
       "      <td>2025-10-13 19:17:41.161184</td>\n",
       "      <td>0 days 00:02:10.001924</td>\n",
       "      <td>NaN</td>\n",
       "      <td>NaN</td>\n",
       "      <td>NaN</td>\n",
       "      <td>NaN</td>\n",
       "      <td>NaN</td>\n",
       "      <td>...</td>\n",
       "      <td>NaN</td>\n",
       "      <td>NaN</td>\n",
       "      <td>KNN</td>\n",
       "      <td>NaN</td>\n",
       "      <td>NaN</td>\n",
       "      <td>NaN</td>\n",
       "      <td>NaN</td>\n",
       "      <td>15.0</td>\n",
       "      <td>distance</td>\n",
       "      <td>COMPLETE</td>\n",
       "    </tr>\n",
       "    <tr>\n",
       "      <th>2</th>\n",
       "      <td>2</td>\n",
       "      <td>3.370516</td>\n",
       "      <td>2025-10-13 19:15:31.160654</td>\n",
       "      <td>2025-10-13 19:17:06.179121</td>\n",
       "      <td>0 days 00:01:35.018467</td>\n",
       "      <td>NaN</td>\n",
       "      <td>NaN</td>\n",
       "      <td>NaN</td>\n",
       "      <td>NaN</td>\n",
       "      <td>NaN</td>\n",
       "      <td>...</td>\n",
       "      <td>NaN</td>\n",
       "      <td>20.0</td>\n",
       "      <td>XGB</td>\n",
       "      <td>NaN</td>\n",
       "      <td>NaN</td>\n",
       "      <td>NaN</td>\n",
       "      <td>142.0</td>\n",
       "      <td>NaN</td>\n",
       "      <td>NaN</td>\n",
       "      <td>COMPLETE</td>\n",
       "    </tr>\n",
       "    <tr>\n",
       "      <th>3</th>\n",
       "      <td>3</td>\n",
       "      <td>4.486655</td>\n",
       "      <td>2025-10-13 19:15:31.161659</td>\n",
       "      <td>2025-10-13 19:17:13.178657</td>\n",
       "      <td>0 days 00:01:42.016998</td>\n",
       "      <td>NaN</td>\n",
       "      <td>NaN</td>\n",
       "      <td>NaN</td>\n",
       "      <td>NaN</td>\n",
       "      <td>NaN</td>\n",
       "      <td>...</td>\n",
       "      <td>NaN</td>\n",
       "      <td>NaN</td>\n",
       "      <td>KNN</td>\n",
       "      <td>NaN</td>\n",
       "      <td>NaN</td>\n",
       "      <td>NaN</td>\n",
       "      <td>NaN</td>\n",
       "      <td>3.0</td>\n",
       "      <td>distance</td>\n",
       "      <td>COMPLETE</td>\n",
       "    </tr>\n",
       "    <tr>\n",
       "      <th>4</th>\n",
       "      <td>4</td>\n",
       "      <td>4.301370</td>\n",
       "      <td>2025-10-13 19:15:31.163655</td>\n",
       "      <td>2025-10-13 19:17:42.194956</td>\n",
       "      <td>0 days 00:02:11.031301</td>\n",
       "      <td>NaN</td>\n",
       "      <td>NaN</td>\n",
       "      <td>NaN</td>\n",
       "      <td>NaN</td>\n",
       "      <td>NaN</td>\n",
       "      <td>...</td>\n",
       "      <td>NaN</td>\n",
       "      <td>NaN</td>\n",
       "      <td>KNN</td>\n",
       "      <td>NaN</td>\n",
       "      <td>NaN</td>\n",
       "      <td>NaN</td>\n",
       "      <td>NaN</td>\n",
       "      <td>23.0</td>\n",
       "      <td>uniform</td>\n",
       "      <td>COMPLETE</td>\n",
       "    </tr>\n",
       "    <tr>\n",
       "      <th>5</th>\n",
       "      <td>5</td>\n",
       "      <td>3.155682</td>\n",
       "      <td>2025-10-13 19:15:31.164654</td>\n",
       "      <td>2025-10-13 19:17:11.176323</td>\n",
       "      <td>0 days 00:01:40.011669</td>\n",
       "      <td>NaN</td>\n",
       "      <td>NaN</td>\n",
       "      <td>NaN</td>\n",
       "      <td>NaN</td>\n",
       "      <td>NaN</td>\n",
       "      <td>...</td>\n",
       "      <td>11.0</td>\n",
       "      <td>NaN</td>\n",
       "      <td>RF</td>\n",
       "      <td>NaN</td>\n",
       "      <td>NaN</td>\n",
       "      <td>54.0</td>\n",
       "      <td>NaN</td>\n",
       "      <td>NaN</td>\n",
       "      <td>NaN</td>\n",
       "      <td>COMPLETE</td>\n",
       "    </tr>\n",
       "    <tr>\n",
       "      <th>6</th>\n",
       "      <td>6</td>\n",
       "      <td>4.675479</td>\n",
       "      <td>2025-10-13 19:15:31.166655</td>\n",
       "      <td>2025-10-13 19:18:49.904552</td>\n",
       "      <td>0 days 00:03:18.737897</td>\n",
       "      <td>1.652783</td>\n",
       "      <td>NaN</td>\n",
       "      <td>NaN</td>\n",
       "      <td>NaN</td>\n",
       "      <td>NaN</td>\n",
       "      <td>...</td>\n",
       "      <td>NaN</td>\n",
       "      <td>NaN</td>\n",
       "      <td>SVM</td>\n",
       "      <td>NaN</td>\n",
       "      <td>NaN</td>\n",
       "      <td>NaN</td>\n",
       "      <td>NaN</td>\n",
       "      <td>NaN</td>\n",
       "      <td>NaN</td>\n",
       "      <td>COMPLETE</td>\n",
       "    </tr>\n",
       "    <tr>\n",
       "      <th>7</th>\n",
       "      <td>7</td>\n",
       "      <td>3.251474</td>\n",
       "      <td>2025-10-13 19:15:31.167500</td>\n",
       "      <td>2025-10-13 19:17:17.221198</td>\n",
       "      <td>0 days 00:01:46.053698</td>\n",
       "      <td>NaN</td>\n",
       "      <td>NaN</td>\n",
       "      <td>NaN</td>\n",
       "      <td>NaN</td>\n",
       "      <td>NaN</td>\n",
       "      <td>...</td>\n",
       "      <td>NaN</td>\n",
       "      <td>NaN</td>\n",
       "      <td>GB</td>\n",
       "      <td>37.0</td>\n",
       "      <td>NaN</td>\n",
       "      <td>NaN</td>\n",
       "      <td>NaN</td>\n",
       "      <td>NaN</td>\n",
       "      <td>NaN</td>\n",
       "      <td>COMPLETE</td>\n",
       "    </tr>\n",
       "    <tr>\n",
       "      <th>8</th>\n",
       "      <td>8</td>\n",
       "      <td>3.062389</td>\n",
       "      <td>2025-10-13 19:15:31.167500</td>\n",
       "      <td>2025-10-13 19:17:40.164898</td>\n",
       "      <td>0 days 00:02:08.997398</td>\n",
       "      <td>NaN</td>\n",
       "      <td>NaN</td>\n",
       "      <td>NaN</td>\n",
       "      <td>NaN</td>\n",
       "      <td>NaN</td>\n",
       "      <td>...</td>\n",
       "      <td>NaN</td>\n",
       "      <td>NaN</td>\n",
       "      <td>LGBM</td>\n",
       "      <td>NaN</td>\n",
       "      <td>155.0</td>\n",
       "      <td>NaN</td>\n",
       "      <td>NaN</td>\n",
       "      <td>NaN</td>\n",
       "      <td>NaN</td>\n",
       "      <td>COMPLETE</td>\n",
       "    </tr>\n",
       "    <tr>\n",
       "      <th>9</th>\n",
       "      <td>9</td>\n",
       "      <td>3.309223</td>\n",
       "      <td>2025-10-13 19:15:31.167500</td>\n",
       "      <td>2025-10-13 19:17:09.166721</td>\n",
       "      <td>0 days 00:01:37.999221</td>\n",
       "      <td>NaN</td>\n",
       "      <td>NaN</td>\n",
       "      <td>NaN</td>\n",
       "      <td>NaN</td>\n",
       "      <td>NaN</td>\n",
       "      <td>...</td>\n",
       "      <td>NaN</td>\n",
       "      <td>14.0</td>\n",
       "      <td>XGB</td>\n",
       "      <td>NaN</td>\n",
       "      <td>NaN</td>\n",
       "      <td>NaN</td>\n",
       "      <td>155.0</td>\n",
       "      <td>NaN</td>\n",
       "      <td>NaN</td>\n",
       "      <td>COMPLETE</td>\n",
       "    </tr>\n",
       "    <tr>\n",
       "      <th>10</th>\n",
       "      <td>10</td>\n",
       "      <td>3.173621</td>\n",
       "      <td>2025-10-13 19:15:31.167500</td>\n",
       "      <td>2025-10-13 19:17:53.298806</td>\n",
       "      <td>0 days 00:02:22.131306</td>\n",
       "      <td>NaN</td>\n",
       "      <td>NaN</td>\n",
       "      <td>NaN</td>\n",
       "      <td>NaN</td>\n",
       "      <td>NaN</td>\n",
       "      <td>...</td>\n",
       "      <td>NaN</td>\n",
       "      <td>11.0</td>\n",
       "      <td>XGB</td>\n",
       "      <td>NaN</td>\n",
       "      <td>NaN</td>\n",
       "      <td>NaN</td>\n",
       "      <td>102.0</td>\n",
       "      <td>NaN</td>\n",
       "      <td>NaN</td>\n",
       "      <td>COMPLETE</td>\n",
       "    </tr>\n",
       "    <tr>\n",
       "      <th>11</th>\n",
       "      <td>11</td>\n",
       "      <td>3.050649</td>\n",
       "      <td>2025-10-13 19:15:31.174505</td>\n",
       "      <td>2025-10-13 19:16:53.165574</td>\n",
       "      <td>0 days 00:01:21.991069</td>\n",
       "      <td>NaN</td>\n",
       "      <td>NaN</td>\n",
       "      <td>NaN</td>\n",
       "      <td>NaN</td>\n",
       "      <td>NaN</td>\n",
       "      <td>...</td>\n",
       "      <td>NaN</td>\n",
       "      <td>NaN</td>\n",
       "      <td>LGBM</td>\n",
       "      <td>NaN</td>\n",
       "      <td>192.0</td>\n",
       "      <td>NaN</td>\n",
       "      <td>NaN</td>\n",
       "      <td>NaN</td>\n",
       "      <td>NaN</td>\n",
       "      <td>COMPLETE</td>\n",
       "    </tr>\n",
       "    <tr>\n",
       "      <th>12</th>\n",
       "      <td>12</td>\n",
       "      <td>3.054026</td>\n",
       "      <td>2025-10-13 19:15:31.176180</td>\n",
       "      <td>2025-10-13 19:16:54.218608</td>\n",
       "      <td>0 days 00:01:23.042428</td>\n",
       "      <td>NaN</td>\n",
       "      <td>NaN</td>\n",
       "      <td>NaN</td>\n",
       "      <td>NaN</td>\n",
       "      <td>NaN</td>\n",
       "      <td>...</td>\n",
       "      <td>NaN</td>\n",
       "      <td>NaN</td>\n",
       "      <td>LGBM</td>\n",
       "      <td>NaN</td>\n",
       "      <td>82.0</td>\n",
       "      <td>NaN</td>\n",
       "      <td>NaN</td>\n",
       "      <td>NaN</td>\n",
       "      <td>NaN</td>\n",
       "      <td>COMPLETE</td>\n",
       "    </tr>\n",
       "    <tr>\n",
       "      <th>13</th>\n",
       "      <td>13</td>\n",
       "      <td>3.082401</td>\n",
       "      <td>2025-10-13 19:15:31.177179</td>\n",
       "      <td>2025-10-13 19:16:49.215031</td>\n",
       "      <td>0 days 00:01:18.037852</td>\n",
       "      <td>NaN</td>\n",
       "      <td>NaN</td>\n",
       "      <td>NaN</td>\n",
       "      <td>NaN</td>\n",
       "      <td>NaN</td>\n",
       "      <td>...</td>\n",
       "      <td>20.0</td>\n",
       "      <td>NaN</td>\n",
       "      <td>RF</td>\n",
       "      <td>NaN</td>\n",
       "      <td>NaN</td>\n",
       "      <td>149.0</td>\n",
       "      <td>NaN</td>\n",
       "      <td>NaN</td>\n",
       "      <td>NaN</td>\n",
       "      <td>COMPLETE</td>\n",
       "    </tr>\n",
       "    <tr>\n",
       "      <th>14</th>\n",
       "      <td>14</td>\n",
       "      <td>3.052871</td>\n",
       "      <td>2025-10-13 19:15:31.178179</td>\n",
       "      <td>2025-10-13 19:17:34.170077</td>\n",
       "      <td>0 days 00:02:02.991898</td>\n",
       "      <td>NaN</td>\n",
       "      <td>NaN</td>\n",
       "      <td>NaN</td>\n",
       "      <td>NaN</td>\n",
       "      <td>NaN</td>\n",
       "      <td>...</td>\n",
       "      <td>NaN</td>\n",
       "      <td>6.0</td>\n",
       "      <td>XGB</td>\n",
       "      <td>NaN</td>\n",
       "      <td>NaN</td>\n",
       "      <td>NaN</td>\n",
       "      <td>131.0</td>\n",
       "      <td>NaN</td>\n",
       "      <td>NaN</td>\n",
       "      <td>COMPLETE</td>\n",
       "    </tr>\n",
       "    <tr>\n",
       "      <th>15</th>\n",
       "      <td>15</td>\n",
       "      <td>3.056064</td>\n",
       "      <td>2025-10-13 19:15:31.180183</td>\n",
       "      <td>2025-10-13 19:16:45.265631</td>\n",
       "      <td>0 days 00:01:14.085448</td>\n",
       "      <td>NaN</td>\n",
       "      <td>NaN</td>\n",
       "      <td>NaN</td>\n",
       "      <td>NaN</td>\n",
       "      <td>NaN</td>\n",
       "      <td>...</td>\n",
       "      <td>13.0</td>\n",
       "      <td>NaN</td>\n",
       "      <td>RF</td>\n",
       "      <td>NaN</td>\n",
       "      <td>NaN</td>\n",
       "      <td>129.0</td>\n",
       "      <td>NaN</td>\n",
       "      <td>NaN</td>\n",
       "      <td>NaN</td>\n",
       "      <td>COMPLETE</td>\n",
       "    </tr>\n",
       "    <tr>\n",
       "      <th>16</th>\n",
       "      <td>16</td>\n",
       "      <td>3.092852</td>\n",
       "      <td>2025-10-13 19:16:37.194582</td>\n",
       "      <td>2025-10-13 19:17:54.202130</td>\n",
       "      <td>0 days 00:01:17.007548</td>\n",
       "      <td>NaN</td>\n",
       "      <td>NaN</td>\n",
       "      <td>NaN</td>\n",
       "      <td>NaN</td>\n",
       "      <td>NaN</td>\n",
       "      <td>...</td>\n",
       "      <td>NaN</td>\n",
       "      <td>NaN</td>\n",
       "      <td>LGBM</td>\n",
       "      <td>NaN</td>\n",
       "      <td>45.0</td>\n",
       "      <td>NaN</td>\n",
       "      <td>NaN</td>\n",
       "      <td>NaN</td>\n",
       "      <td>NaN</td>\n",
       "      <td>COMPLETE</td>\n",
       "    </tr>\n",
       "    <tr>\n",
       "      <th>17</th>\n",
       "      <td>17</td>\n",
       "      <td>3.019369</td>\n",
       "      <td>2025-10-13 19:16:45.265631</td>\n",
       "      <td>2025-10-13 19:18:04.334505</td>\n",
       "      <td>0 days 00:01:19.068874</td>\n",
       "      <td>NaN</td>\n",
       "      <td>NaN</td>\n",
       "      <td>NaN</td>\n",
       "      <td>NaN</td>\n",
       "      <td>NaN</td>\n",
       "      <td>...</td>\n",
       "      <td>NaN</td>\n",
       "      <td>NaN</td>\n",
       "      <td>LGBM</td>\n",
       "      <td>NaN</td>\n",
       "      <td>171.0</td>\n",
       "      <td>NaN</td>\n",
       "      <td>NaN</td>\n",
       "      <td>NaN</td>\n",
       "      <td>NaN</td>\n",
       "      <td>COMPLETE</td>\n",
       "    </tr>\n",
       "    <tr>\n",
       "      <th>18</th>\n",
       "      <td>18</td>\n",
       "      <td>3.187836</td>\n",
       "      <td>2025-10-13 19:16:49.215031</td>\n",
       "      <td>2025-10-13 19:18:08.191873</td>\n",
       "      <td>0 days 00:01:18.976842</td>\n",
       "      <td>NaN</td>\n",
       "      <td>NaN</td>\n",
       "      <td>NaN</td>\n",
       "      <td>NaN</td>\n",
       "      <td>NaN</td>\n",
       "      <td>...</td>\n",
       "      <td>NaN</td>\n",
       "      <td>10.0</td>\n",
       "      <td>XGB</td>\n",
       "      <td>NaN</td>\n",
       "      <td>NaN</td>\n",
       "      <td>NaN</td>\n",
       "      <td>129.0</td>\n",
       "      <td>NaN</td>\n",
       "      <td>NaN</td>\n",
       "      <td>COMPLETE</td>\n",
       "    </tr>\n",
       "    <tr>\n",
       "      <th>19</th>\n",
       "      <td>19</td>\n",
       "      <td>4.675457</td>\n",
       "      <td>2025-10-13 19:16:53.181343</td>\n",
       "      <td>2025-10-13 19:27:33.532016</td>\n",
       "      <td>0 days 00:10:40.350673</td>\n",
       "      <td>9.640675</td>\n",
       "      <td>NaN</td>\n",
       "      <td>NaN</td>\n",
       "      <td>NaN</td>\n",
       "      <td>NaN</td>\n",
       "      <td>...</td>\n",
       "      <td>NaN</td>\n",
       "      <td>NaN</td>\n",
       "      <td>SVM</td>\n",
       "      <td>NaN</td>\n",
       "      <td>NaN</td>\n",
       "      <td>NaN</td>\n",
       "      <td>NaN</td>\n",
       "      <td>NaN</td>\n",
       "      <td>NaN</td>\n",
       "      <td>COMPLETE</td>\n",
       "    </tr>\n",
       "    <tr>\n",
       "      <th>20</th>\n",
       "      <td>20</td>\n",
       "      <td>4.675489</td>\n",
       "      <td>2025-10-13 19:16:54.218608</td>\n",
       "      <td>2025-10-13 19:27:53.217460</td>\n",
       "      <td>0 days 00:10:58.998852</td>\n",
       "      <td>8.704919</td>\n",
       "      <td>NaN</td>\n",
       "      <td>NaN</td>\n",
       "      <td>NaN</td>\n",
       "      <td>NaN</td>\n",
       "      <td>...</td>\n",
       "      <td>NaN</td>\n",
       "      <td>NaN</td>\n",
       "      <td>SVM</td>\n",
       "      <td>NaN</td>\n",
       "      <td>NaN</td>\n",
       "      <td>NaN</td>\n",
       "      <td>NaN</td>\n",
       "      <td>NaN</td>\n",
       "      <td>NaN</td>\n",
       "      <td>COMPLETE</td>\n",
       "    </tr>\n",
       "    <tr>\n",
       "      <th>21</th>\n",
       "      <td>21</td>\n",
       "      <td>3.464569</td>\n",
       "      <td>2025-10-13 19:17:06.179121</td>\n",
       "      <td>2025-10-13 19:18:19.363126</td>\n",
       "      <td>0 days 00:01:13.184005</td>\n",
       "      <td>NaN</td>\n",
       "      <td>NaN</td>\n",
       "      <td>NaN</td>\n",
       "      <td>NaN</td>\n",
       "      <td>NaN</td>\n",
       "      <td>...</td>\n",
       "      <td>NaN</td>\n",
       "      <td>NaN</td>\n",
       "      <td>GB</td>\n",
       "      <td>167.0</td>\n",
       "      <td>NaN</td>\n",
       "      <td>NaN</td>\n",
       "      <td>NaN</td>\n",
       "      <td>NaN</td>\n",
       "      <td>NaN</td>\n",
       "      <td>COMPLETE</td>\n",
       "    </tr>\n",
       "    <tr>\n",
       "      <th>22</th>\n",
       "      <td>22</td>\n",
       "      <td>3.662532</td>\n",
       "      <td>2025-10-13 19:17:09.181928</td>\n",
       "      <td>2025-10-13 19:28:48.342720</td>\n",
       "      <td>0 days 00:11:39.160792</td>\n",
       "      <td>NaN</td>\n",
       "      <td>1.949133</td>\n",
       "      <td>NaN</td>\n",
       "      <td>4.0</td>\n",
       "      <td>NaN</td>\n",
       "      <td>...</td>\n",
       "      <td>NaN</td>\n",
       "      <td>NaN</td>\n",
       "      <td>SVM</td>\n",
       "      <td>NaN</td>\n",
       "      <td>NaN</td>\n",
       "      <td>NaN</td>\n",
       "      <td>NaN</td>\n",
       "      <td>NaN</td>\n",
       "      <td>NaN</td>\n",
       "      <td>COMPLETE</td>\n",
       "    </tr>\n",
       "    <tr>\n",
       "      <th>23</th>\n",
       "      <td>23</td>\n",
       "      <td>3.731374</td>\n",
       "      <td>2025-10-13 19:17:11.178510</td>\n",
       "      <td>2025-10-13 19:26:26.709425</td>\n",
       "      <td>0 days 00:09:15.530915</td>\n",
       "      <td>NaN</td>\n",
       "      <td>6.604369</td>\n",
       "      <td>NaN</td>\n",
       "      <td>3.0</td>\n",
       "      <td>NaN</td>\n",
       "      <td>...</td>\n",
       "      <td>NaN</td>\n",
       "      <td>NaN</td>\n",
       "      <td>SVM</td>\n",
       "      <td>NaN</td>\n",
       "      <td>NaN</td>\n",
       "      <td>NaN</td>\n",
       "      <td>NaN</td>\n",
       "      <td>NaN</td>\n",
       "      <td>NaN</td>\n",
       "      <td>COMPLETE</td>\n",
       "    </tr>\n",
       "    <tr>\n",
       "      <th>24</th>\n",
       "      <td>24</td>\n",
       "      <td>3.659149</td>\n",
       "      <td>2025-10-13 19:17:13.181005</td>\n",
       "      <td>2025-10-13 19:18:12.335430</td>\n",
       "      <td>0 days 00:00:59.154425</td>\n",
       "      <td>NaN</td>\n",
       "      <td>NaN</td>\n",
       "      <td>NaN</td>\n",
       "      <td>NaN</td>\n",
       "      <td>NaN</td>\n",
       "      <td>...</td>\n",
       "      <td>NaN</td>\n",
       "      <td>NaN</td>\n",
       "      <td>LGBM</td>\n",
       "      <td>NaN</td>\n",
       "      <td>193.0</td>\n",
       "      <td>NaN</td>\n",
       "      <td>NaN</td>\n",
       "      <td>NaN</td>\n",
       "      <td>NaN</td>\n",
       "      <td>COMPLETE</td>\n",
       "    </tr>\n",
       "    <tr>\n",
       "      <th>25</th>\n",
       "      <td>25</td>\n",
       "      <td>3.190926</td>\n",
       "      <td>2025-10-13 19:17:17.221198</td>\n",
       "      <td>2025-10-13 19:18:11.216237</td>\n",
       "      <td>0 days 00:00:53.995039</td>\n",
       "      <td>NaN</td>\n",
       "      <td>NaN</td>\n",
       "      <td>NaN</td>\n",
       "      <td>NaN</td>\n",
       "      <td>NaN</td>\n",
       "      <td>...</td>\n",
       "      <td>NaN</td>\n",
       "      <td>NaN</td>\n",
       "      <td>LGBM</td>\n",
       "      <td>NaN</td>\n",
       "      <td>193.0</td>\n",
       "      <td>NaN</td>\n",
       "      <td>NaN</td>\n",
       "      <td>NaN</td>\n",
       "      <td>NaN</td>\n",
       "      <td>COMPLETE</td>\n",
       "    </tr>\n",
       "    <tr>\n",
       "      <th>26</th>\n",
       "      <td>26</td>\n",
       "      <td>3.644612</td>\n",
       "      <td>2025-10-13 19:17:34.183101</td>\n",
       "      <td>2025-10-13 20:17:07.114411</td>\n",
       "      <td>0 days 00:59:32.931310</td>\n",
       "      <td>NaN</td>\n",
       "      <td>8.113147</td>\n",
       "      <td>NaN</td>\n",
       "      <td>4.0</td>\n",
       "      <td>NaN</td>\n",
       "      <td>...</td>\n",
       "      <td>NaN</td>\n",
       "      <td>NaN</td>\n",
       "      <td>SVM</td>\n",
       "      <td>NaN</td>\n",
       "      <td>NaN</td>\n",
       "      <td>NaN</td>\n",
       "      <td>NaN</td>\n",
       "      <td>NaN</td>\n",
       "      <td>NaN</td>\n",
       "      <td>COMPLETE</td>\n",
       "    </tr>\n",
       "    <tr>\n",
       "      <th>27</th>\n",
       "      <td>27</td>\n",
       "      <td>4.674964</td>\n",
       "      <td>2025-10-13 19:17:40.180773</td>\n",
       "      <td>2025-10-13 19:19:54.764581</td>\n",
       "      <td>0 days 00:02:14.583808</td>\n",
       "      <td>0.156586</td>\n",
       "      <td>NaN</td>\n",
       "      <td>NaN</td>\n",
       "      <td>NaN</td>\n",
       "      <td>NaN</td>\n",
       "      <td>...</td>\n",
       "      <td>NaN</td>\n",
       "      <td>NaN</td>\n",
       "      <td>SVM</td>\n",
       "      <td>NaN</td>\n",
       "      <td>NaN</td>\n",
       "      <td>NaN</td>\n",
       "      <td>NaN</td>\n",
       "      <td>NaN</td>\n",
       "      <td>NaN</td>\n",
       "      <td>COMPLETE</td>\n",
       "    </tr>\n",
       "    <tr>\n",
       "      <th>28</th>\n",
       "      <td>28</td>\n",
       "      <td>6.387627</td>\n",
       "      <td>2025-10-13 19:17:41.180490</td>\n",
       "      <td>2025-10-13 19:27:56.264428</td>\n",
       "      <td>0 days 00:10:15.083938</td>\n",
       "      <td>NaN</td>\n",
       "      <td>NaN</td>\n",
       "      <td>25.09907</td>\n",
       "      <td>NaN</td>\n",
       "      <td>5.7496</td>\n",
       "      <td>...</td>\n",
       "      <td>NaN</td>\n",
       "      <td>NaN</td>\n",
       "      <td>SVM</td>\n",
       "      <td>NaN</td>\n",
       "      <td>NaN</td>\n",
       "      <td>NaN</td>\n",
       "      <td>NaN</td>\n",
       "      <td>NaN</td>\n",
       "      <td>NaN</td>\n",
       "      <td>COMPLETE</td>\n",
       "    </tr>\n",
       "    <tr>\n",
       "      <th>29</th>\n",
       "      <td>29</td>\n",
       "      <td>3.984574</td>\n",
       "      <td>2025-10-13 19:17:42.196968</td>\n",
       "      <td>2025-10-13 19:20:24.793519</td>\n",
       "      <td>0 days 00:02:42.596551</td>\n",
       "      <td>NaN</td>\n",
       "      <td>1.603034</td>\n",
       "      <td>NaN</td>\n",
       "      <td>2.0</td>\n",
       "      <td>NaN</td>\n",
       "      <td>...</td>\n",
       "      <td>NaN</td>\n",
       "      <td>NaN</td>\n",
       "      <td>SVM</td>\n",
       "      <td>NaN</td>\n",
       "      <td>NaN</td>\n",
       "      <td>NaN</td>\n",
       "      <td>NaN</td>\n",
       "      <td>NaN</td>\n",
       "      <td>NaN</td>\n",
       "      <td>COMPLETE</td>\n",
       "    </tr>\n",
       "  </tbody>\n",
       "</table>\n",
       "<p>30 rows × 26 columns</p>\n",
       "</div>"
      ],
      "text/plain": [
       "    number     value             datetime_start          datetime_complete  \\\n",
       "0        0  3.082295 2025-10-13 19:15:31.157252 2025-10-13 19:16:37.194582   \n",
       "1        1  4.191284 2025-10-13 19:15:31.159260 2025-10-13 19:17:41.161184   \n",
       "2        2  3.370516 2025-10-13 19:15:31.160654 2025-10-13 19:17:06.179121   \n",
       "3        3  4.486655 2025-10-13 19:15:31.161659 2025-10-13 19:17:13.178657   \n",
       "4        4  4.301370 2025-10-13 19:15:31.163655 2025-10-13 19:17:42.194956   \n",
       "5        5  3.155682 2025-10-13 19:15:31.164654 2025-10-13 19:17:11.176323   \n",
       "6        6  4.675479 2025-10-13 19:15:31.166655 2025-10-13 19:18:49.904552   \n",
       "7        7  3.251474 2025-10-13 19:15:31.167500 2025-10-13 19:17:17.221198   \n",
       "8        8  3.062389 2025-10-13 19:15:31.167500 2025-10-13 19:17:40.164898   \n",
       "9        9  3.309223 2025-10-13 19:15:31.167500 2025-10-13 19:17:09.166721   \n",
       "10      10  3.173621 2025-10-13 19:15:31.167500 2025-10-13 19:17:53.298806   \n",
       "11      11  3.050649 2025-10-13 19:15:31.174505 2025-10-13 19:16:53.165574   \n",
       "12      12  3.054026 2025-10-13 19:15:31.176180 2025-10-13 19:16:54.218608   \n",
       "13      13  3.082401 2025-10-13 19:15:31.177179 2025-10-13 19:16:49.215031   \n",
       "14      14  3.052871 2025-10-13 19:15:31.178179 2025-10-13 19:17:34.170077   \n",
       "15      15  3.056064 2025-10-13 19:15:31.180183 2025-10-13 19:16:45.265631   \n",
       "16      16  3.092852 2025-10-13 19:16:37.194582 2025-10-13 19:17:54.202130   \n",
       "17      17  3.019369 2025-10-13 19:16:45.265631 2025-10-13 19:18:04.334505   \n",
       "18      18  3.187836 2025-10-13 19:16:49.215031 2025-10-13 19:18:08.191873   \n",
       "19      19  4.675457 2025-10-13 19:16:53.181343 2025-10-13 19:27:33.532016   \n",
       "20      20  4.675489 2025-10-13 19:16:54.218608 2025-10-13 19:27:53.217460   \n",
       "21      21  3.464569 2025-10-13 19:17:06.179121 2025-10-13 19:18:19.363126   \n",
       "22      22  3.662532 2025-10-13 19:17:09.181928 2025-10-13 19:28:48.342720   \n",
       "23      23  3.731374 2025-10-13 19:17:11.178510 2025-10-13 19:26:26.709425   \n",
       "24      24  3.659149 2025-10-13 19:17:13.181005 2025-10-13 19:18:12.335430   \n",
       "25      25  3.190926 2025-10-13 19:17:17.221198 2025-10-13 19:18:11.216237   \n",
       "26      26  3.644612 2025-10-13 19:17:34.183101 2025-10-13 20:17:07.114411   \n",
       "27      27  4.674964 2025-10-13 19:17:40.180773 2025-10-13 19:19:54.764581   \n",
       "28      28  6.387627 2025-10-13 19:17:41.180490 2025-10-13 19:27:56.264428   \n",
       "29      29  3.984574 2025-10-13 19:17:42.196968 2025-10-13 19:20:24.793519   \n",
       "\n",
       "                 duration  params_c_linear  params_c_poly  params_c_rbf  \\\n",
       "0  0 days 00:01:06.037330              NaN            NaN           NaN   \n",
       "1  0 days 00:02:10.001924              NaN            NaN           NaN   \n",
       "2  0 days 00:01:35.018467              NaN            NaN           NaN   \n",
       "3  0 days 00:01:42.016998              NaN            NaN           NaN   \n",
       "4  0 days 00:02:11.031301              NaN            NaN           NaN   \n",
       "5  0 days 00:01:40.011669              NaN            NaN           NaN   \n",
       "6  0 days 00:03:18.737897         1.652783            NaN           NaN   \n",
       "7  0 days 00:01:46.053698              NaN            NaN           NaN   \n",
       "8  0 days 00:02:08.997398              NaN            NaN           NaN   \n",
       "9  0 days 00:01:37.999221              NaN            NaN           NaN   \n",
       "10 0 days 00:02:22.131306              NaN            NaN           NaN   \n",
       "11 0 days 00:01:21.991069              NaN            NaN           NaN   \n",
       "12 0 days 00:01:23.042428              NaN            NaN           NaN   \n",
       "13 0 days 00:01:18.037852              NaN            NaN           NaN   \n",
       "14 0 days 00:02:02.991898              NaN            NaN           NaN   \n",
       "15 0 days 00:01:14.085448              NaN            NaN           NaN   \n",
       "16 0 days 00:01:17.007548              NaN            NaN           NaN   \n",
       "17 0 days 00:01:19.068874              NaN            NaN           NaN   \n",
       "18 0 days 00:01:18.976842              NaN            NaN           NaN   \n",
       "19 0 days 00:10:40.350673         9.640675            NaN           NaN   \n",
       "20 0 days 00:10:58.998852         8.704919            NaN           NaN   \n",
       "21 0 days 00:01:13.184005              NaN            NaN           NaN   \n",
       "22 0 days 00:11:39.160792              NaN       1.949133           NaN   \n",
       "23 0 days 00:09:15.530915              NaN       6.604369           NaN   \n",
       "24 0 days 00:00:59.154425              NaN            NaN           NaN   \n",
       "25 0 days 00:00:53.995039              NaN            NaN           NaN   \n",
       "26 0 days 00:59:32.931310              NaN       8.113147           NaN   \n",
       "27 0 days 00:02:14.583808         0.156586            NaN           NaN   \n",
       "28 0 days 00:10:15.083938              NaN            NaN      25.09907   \n",
       "29 0 days 00:02:42.596551              NaN       1.603034           NaN   \n",
       "\n",
       "    params_degree_poly  params_gamma_rbf  ... params_max_depth_rf  \\\n",
       "0                  NaN               NaN  ...                19.0   \n",
       "1                  NaN               NaN  ...                 NaN   \n",
       "2                  NaN               NaN  ...                 NaN   \n",
       "3                  NaN               NaN  ...                 NaN   \n",
       "4                  NaN               NaN  ...                 NaN   \n",
       "5                  NaN               NaN  ...                11.0   \n",
       "6                  NaN               NaN  ...                 NaN   \n",
       "7                  NaN               NaN  ...                 NaN   \n",
       "8                  NaN               NaN  ...                 NaN   \n",
       "9                  NaN               NaN  ...                 NaN   \n",
       "10                 NaN               NaN  ...                 NaN   \n",
       "11                 NaN               NaN  ...                 NaN   \n",
       "12                 NaN               NaN  ...                 NaN   \n",
       "13                 NaN               NaN  ...                20.0   \n",
       "14                 NaN               NaN  ...                 NaN   \n",
       "15                 NaN               NaN  ...                13.0   \n",
       "16                 NaN               NaN  ...                 NaN   \n",
       "17                 NaN               NaN  ...                 NaN   \n",
       "18                 NaN               NaN  ...                 NaN   \n",
       "19                 NaN               NaN  ...                 NaN   \n",
       "20                 NaN               NaN  ...                 NaN   \n",
       "21                 NaN               NaN  ...                 NaN   \n",
       "22                 4.0               NaN  ...                 NaN   \n",
       "23                 3.0               NaN  ...                 NaN   \n",
       "24                 NaN               NaN  ...                 NaN   \n",
       "25                 NaN               NaN  ...                 NaN   \n",
       "26                 4.0               NaN  ...                 NaN   \n",
       "27                 NaN               NaN  ...                 NaN   \n",
       "28                 NaN            5.7496  ...                 NaN   \n",
       "29                 2.0               NaN  ...                 NaN   \n",
       "\n",
       "    params_max_depth_xgb  params_model  params_n_estimators_gb  \\\n",
       "0                    NaN            RF                     NaN   \n",
       "1                    NaN           KNN                     NaN   \n",
       "2                   20.0           XGB                     NaN   \n",
       "3                    NaN           KNN                     NaN   \n",
       "4                    NaN           KNN                     NaN   \n",
       "5                    NaN            RF                     NaN   \n",
       "6                    NaN           SVM                     NaN   \n",
       "7                    NaN            GB                    37.0   \n",
       "8                    NaN          LGBM                     NaN   \n",
       "9                   14.0           XGB                     NaN   \n",
       "10                  11.0           XGB                     NaN   \n",
       "11                   NaN          LGBM                     NaN   \n",
       "12                   NaN          LGBM                     NaN   \n",
       "13                   NaN            RF                     NaN   \n",
       "14                   6.0           XGB                     NaN   \n",
       "15                   NaN            RF                     NaN   \n",
       "16                   NaN          LGBM                     NaN   \n",
       "17                   NaN          LGBM                     NaN   \n",
       "18                  10.0           XGB                     NaN   \n",
       "19                   NaN           SVM                     NaN   \n",
       "20                   NaN           SVM                     NaN   \n",
       "21                   NaN            GB                   167.0   \n",
       "22                   NaN           SVM                     NaN   \n",
       "23                   NaN           SVM                     NaN   \n",
       "24                   NaN          LGBM                     NaN   \n",
       "25                   NaN          LGBM                     NaN   \n",
       "26                   NaN           SVM                     NaN   \n",
       "27                   NaN           SVM                     NaN   \n",
       "28                   NaN           SVM                     NaN   \n",
       "29                   NaN           SVM                     NaN   \n",
       "\n",
       "    params_n_estimators_lgbm  params_n_estimators_rf  params_n_estimators_xgb  \\\n",
       "0                        NaN                   111.0                      NaN   \n",
       "1                        NaN                     NaN                      NaN   \n",
       "2                        NaN                     NaN                    142.0   \n",
       "3                        NaN                     NaN                      NaN   \n",
       "4                        NaN                     NaN                      NaN   \n",
       "5                        NaN                    54.0                      NaN   \n",
       "6                        NaN                     NaN                      NaN   \n",
       "7                        NaN                     NaN                      NaN   \n",
       "8                      155.0                     NaN                      NaN   \n",
       "9                        NaN                     NaN                    155.0   \n",
       "10                       NaN                     NaN                    102.0   \n",
       "11                     192.0                     NaN                      NaN   \n",
       "12                      82.0                     NaN                      NaN   \n",
       "13                       NaN                   149.0                      NaN   \n",
       "14                       NaN                     NaN                    131.0   \n",
       "15                       NaN                   129.0                      NaN   \n",
       "16                      45.0                     NaN                      NaN   \n",
       "17                     171.0                     NaN                      NaN   \n",
       "18                       NaN                     NaN                    129.0   \n",
       "19                       NaN                     NaN                      NaN   \n",
       "20                       NaN                     NaN                      NaN   \n",
       "21                       NaN                     NaN                      NaN   \n",
       "22                       NaN                     NaN                      NaN   \n",
       "23                       NaN                     NaN                      NaN   \n",
       "24                     193.0                     NaN                      NaN   \n",
       "25                     193.0                     NaN                      NaN   \n",
       "26                       NaN                     NaN                      NaN   \n",
       "27                       NaN                     NaN                      NaN   \n",
       "28                       NaN                     NaN                      NaN   \n",
       "29                       NaN                     NaN                      NaN   \n",
       "\n",
       "    params_n_neighbors_knn params_weights_knn     state  \n",
       "0                      NaN                NaN  COMPLETE  \n",
       "1                     15.0           distance  COMPLETE  \n",
       "2                      NaN                NaN  COMPLETE  \n",
       "3                      3.0           distance  COMPLETE  \n",
       "4                     23.0            uniform  COMPLETE  \n",
       "5                      NaN                NaN  COMPLETE  \n",
       "6                      NaN                NaN  COMPLETE  \n",
       "7                      NaN                NaN  COMPLETE  \n",
       "8                      NaN                NaN  COMPLETE  \n",
       "9                      NaN                NaN  COMPLETE  \n",
       "10                     NaN                NaN  COMPLETE  \n",
       "11                     NaN                NaN  COMPLETE  \n",
       "12                     NaN                NaN  COMPLETE  \n",
       "13                     NaN                NaN  COMPLETE  \n",
       "14                     NaN                NaN  COMPLETE  \n",
       "15                     NaN                NaN  COMPLETE  \n",
       "16                     NaN                NaN  COMPLETE  \n",
       "17                     NaN                NaN  COMPLETE  \n",
       "18                     NaN                NaN  COMPLETE  \n",
       "19                     NaN                NaN  COMPLETE  \n",
       "20                     NaN                NaN  COMPLETE  \n",
       "21                     NaN                NaN  COMPLETE  \n",
       "22                     NaN                NaN  COMPLETE  \n",
       "23                     NaN                NaN  COMPLETE  \n",
       "24                     NaN                NaN  COMPLETE  \n",
       "25                     NaN                NaN  COMPLETE  \n",
       "26                     NaN                NaN  COMPLETE  \n",
       "27                     NaN                NaN  COMPLETE  \n",
       "28                     NaN                NaN  COMPLETE  \n",
       "29                     NaN                NaN  COMPLETE  \n",
       "\n",
       "[30 rows x 26 columns]"
      ]
     },
     "execution_count": 234,
     "metadata": {},
     "output_type": "execute_result"
    }
   ],
   "source": [
    "# dataframe of results\n",
    "\n",
    "study.trials_dataframe()"
   ]
  },
  {
   "cell_type": "code",
   "execution_count": 235,
   "metadata": {
    "colab": {
     "base_uri": "https://localhost:8080/",
     "height": 304
    },
    "executionInfo": {
     "elapsed": 492,
     "status": "ok",
     "timestamp": 1732871419654,
     "user": {
      "displayName": "Himanshu Arora",
      "userId": "03026800847751892488"
     },
     "user_tz": -330
    },
    "id": "aGVSVjrVjtPd",
    "outputId": "f9af40c4-3d9a-4daf-a2ae-c7f2a6f7b623"
   },
   "outputs": [
    {
     "data": {
      "text/plain": [
       "params_model\n",
       "SVM     9\n",
       "LGBM    7\n",
       "XGB     5\n",
       "RF      4\n",
       "KNN     3\n",
       "GB      2\n",
       "Name: count, dtype: int64"
      ]
     },
     "execution_count": 235,
     "metadata": {},
     "output_type": "execute_result"
    }
   ],
   "source": [
    "# model frequency\n",
    "\n",
    "study.trials_dataframe()['params_model'].value_counts()"
   ]
  },
  {
   "cell_type": "code",
   "execution_count": 236,
   "metadata": {
    "colab": {
     "base_uri": "https://localhost:8080/",
     "height": 304
    },
    "executionInfo": {
     "elapsed": 1006,
     "status": "ok",
     "timestamp": 1732871425817,
     "user": {
      "displayName": "Himanshu Arora",
      "userId": "03026800847751892488"
     },
     "user_tz": -330
    },
    "id": "KPRu7okBjc55",
    "outputId": "bfcd6c9e-e538-41a0-f1de-54a2c9aec8e0"
   },
   "outputs": [
    {
     "data": {
      "text/plain": [
       "params_model\n",
       "RF      3.094110\n",
       "LGBM    3.161337\n",
       "XGB     3.218813\n",
       "GB      3.358021\n",
       "KNN     4.326436\n",
       "SVM     4.456901\n",
       "Name: value, dtype: float64"
      ]
     },
     "execution_count": 236,
     "metadata": {},
     "output_type": "execute_result"
    }
   ],
   "source": [
    "# avg scores for all tested models\n",
    "\n",
    "study.trials_dataframe().groupby(\"params_model\")['value'].mean().sort_values()"
   ]
  },
  {
   "cell_type": "code",
   "execution_count": 237,
   "metadata": {
    "executionInfo": {
     "elapsed": 739,
     "status": "ok",
     "timestamp": 1732871431180,
     "user": {
      "displayName": "Himanshu Arora",
      "userId": "03026800847751892488"
     },
     "user_tz": -330
    },
    "id": "koJGzQrTzHiI"
   },
   "outputs": [],
   "source": [
    "from sklearn.compose import TransformedTargetRegressor\n",
    "\n",
    "model = TransformedTargetRegressor(regressor=lgbm,\n",
    "                                    transformer=pt)"
   ]
  },
  {
   "cell_type": "code",
   "execution_count": 238,
   "metadata": {
    "colab": {
     "base_uri": "https://localhost:8080/"
    },
    "executionInfo": {
     "elapsed": 10168,
     "status": "ok",
     "timestamp": 1732871444275,
     "user": {
      "displayName": "Himanshu Arora",
      "userId": "03026800847751892488"
     },
     "user_tz": -330
    },
    "id": "VJHdqxQyq_sG",
    "outputId": "dc339481-c4f6-418d-b043-304a4a47599a"
   },
   "outputs": [
    {
     "data": {
      "text/plain": [
       "array([-3.06435673, -3.04327813, -3.0700516 , -3.06852842, -3.05699881])"
      ]
     },
     "execution_count": 238,
     "metadata": {},
     "output_type": "execute_result"
    }
   ],
   "source": [
    "from sklearn.model_selection import cross_val_score\n",
    "\n",
    "scores = cross_val_score(model,\n",
    "                         X_train_trans,\n",
    "                         y_train,\n",
    "                         scoring=\"neg_mean_absolute_error\",\n",
    "                         cv=5,n_jobs=-1)\n",
    "\n",
    "scores"
   ]
  },
  {
   "cell_type": "code",
   "execution_count": 239,
   "metadata": {
    "colab": {
     "base_uri": "https://localhost:8080/"
    },
    "executionInfo": {
     "elapsed": 14,
     "status": "ok",
     "timestamp": 1732871444277,
     "user": {
      "displayName": "Himanshu Arora",
      "userId": "03026800847751892488"
     },
     "user_tz": -330
    },
    "id": "wjN_ItGuuwoY",
    "outputId": "3059bbad-c969-4934-9280-85f5914e6b16"
   },
   "outputs": [
    {
     "data": {
      "text/plain": [
       "3.060642738151514"
      ]
     },
     "execution_count": 239,
     "metadata": {},
     "output_type": "execute_result"
    }
   ],
   "source": [
    "# mean score\n",
    "\n",
    "- scores.mean()"
   ]
  },
  {
   "cell_type": "code",
   "execution_count": 240,
   "metadata": {
    "colab": {
     "base_uri": "https://localhost:8080/",
     "height": 542
    },
    "executionInfo": {
     "elapsed": 1669,
     "status": "ok",
     "timestamp": 1732871445937,
     "user": {
      "displayName": "Himanshu Arora",
      "userId": "03026800847751892488"
     },
     "user_tz": -330
    },
    "id": "XGuyq81b7GI4",
    "outputId": "edb729f4-bf29-41ad-d721-2c617015007b"
   },
   "outputs": [
    {
     "data": {
      "application/vnd.plotly.v1+json": {
       "config": {
        "plotlyServerURL": "https://plot.ly"
       },
       "data": [
        {
         "mode": "markers",
         "name": "Objective Value",
         "type": "scatter",
         "x": [
          0,
          1,
          2,
          3,
          4,
          5,
          6,
          7,
          8,
          9,
          10,
          11,
          12,
          13,
          14,
          15,
          16,
          17,
          18,
          19,
          20,
          21,
          22,
          23,
          24,
          25,
          26,
          27,
          28,
          29
         ],
         "y": [
          3.0822947934494014,
          4.1912840326304766,
          3.370516061782837,
          4.4866550431216154,
          4.301369810858632,
          3.155681907097205,
          4.675478647903702,
          3.251474119919988,
          3.0623889747309256,
          3.30922269821167,
          3.1736207008361816,
          3.0506485992857546,
          3.054026157026841,
          3.0824013861044848,
          3.052870988845825,
          3.0560635934291818,
          3.09285187432888,
          3.019368726542813,
          3.187835693359375,
          4.67545711454315,
          4.67548910393728,
          3.4645688417926803,
          3.662532422227425,
          3.731374421252384,
          3.659148720575634,
          3.190925704182508,
          3.644612315775363,
          4.674963961406018,
          6.387626610733152,
          3.9845739664569835
         ]
        },
        {
         "mode": "lines",
         "name": "Best Value",
         "type": "scatter",
         "x": [
          0,
          1,
          2,
          3,
          4,
          5,
          6,
          7,
          8,
          9,
          10,
          11,
          12,
          13,
          14,
          15,
          16,
          17,
          18,
          19,
          20,
          21,
          22,
          23,
          24,
          25,
          26,
          27,
          28,
          29
         ],
         "y": [
          3.0822947934494014,
          3.0822947934494014,
          3.0822947934494014,
          3.0822947934494014,
          3.0822947934494014,
          3.0822947934494014,
          3.0822947934494014,
          3.0822947934494014,
          3.0623889747309256,
          3.0623889747309256,
          3.0623889747309256,
          3.0506485992857546,
          3.0506485992857546,
          3.0506485992857546,
          3.0506485992857546,
          3.0506485992857546,
          3.0506485992857546,
          3.019368726542813,
          3.019368726542813,
          3.019368726542813,
          3.019368726542813,
          3.019368726542813,
          3.019368726542813,
          3.019368726542813,
          3.019368726542813,
          3.019368726542813,
          3.019368726542813,
          3.019368726542813,
          3.019368726542813,
          3.019368726542813
         ]
        },
        {
         "marker": {
          "color": "#cccccc"
         },
         "mode": "markers",
         "name": "Infeasible Trial",
         "showlegend": false,
         "type": "scatter",
         "x": [],
         "y": []
        }
       ],
       "layout": {
        "autosize": true,
        "template": {
         "data": {
          "bar": [
           {
            "error_x": {
             "color": "#2a3f5f"
            },
            "error_y": {
             "color": "#2a3f5f"
            },
            "marker": {
             "line": {
              "color": "#E5ECF6",
              "width": 0.5
             },
             "pattern": {
              "fillmode": "overlay",
              "size": 10,
              "solidity": 0.2
             }
            },
            "type": "bar"
           }
          ],
          "barpolar": [
           {
            "marker": {
             "line": {
              "color": "#E5ECF6",
              "width": 0.5
             },
             "pattern": {
              "fillmode": "overlay",
              "size": 10,
              "solidity": 0.2
             }
            },
            "type": "barpolar"
           }
          ],
          "carpet": [
           {
            "aaxis": {
             "endlinecolor": "#2a3f5f",
             "gridcolor": "white",
             "linecolor": "white",
             "minorgridcolor": "white",
             "startlinecolor": "#2a3f5f"
            },
            "baxis": {
             "endlinecolor": "#2a3f5f",
             "gridcolor": "white",
             "linecolor": "white",
             "minorgridcolor": "white",
             "startlinecolor": "#2a3f5f"
            },
            "type": "carpet"
           }
          ],
          "choropleth": [
           {
            "colorbar": {
             "outlinewidth": 0,
             "ticks": ""
            },
            "type": "choropleth"
           }
          ],
          "contour": [
           {
            "colorbar": {
             "outlinewidth": 0,
             "ticks": ""
            },
            "colorscale": [
             [
              0,
              "#0d0887"
             ],
             [
              0.1111111111111111,
              "#46039f"
             ],
             [
              0.2222222222222222,
              "#7201a8"
             ],
             [
              0.3333333333333333,
              "#9c179e"
             ],
             [
              0.4444444444444444,
              "#bd3786"
             ],
             [
              0.5555555555555556,
              "#d8576b"
             ],
             [
              0.6666666666666666,
              "#ed7953"
             ],
             [
              0.7777777777777778,
              "#fb9f3a"
             ],
             [
              0.8888888888888888,
              "#fdca26"
             ],
             [
              1,
              "#f0f921"
             ]
            ],
            "type": "contour"
           }
          ],
          "contourcarpet": [
           {
            "colorbar": {
             "outlinewidth": 0,
             "ticks": ""
            },
            "type": "contourcarpet"
           }
          ],
          "heatmap": [
           {
            "colorbar": {
             "outlinewidth": 0,
             "ticks": ""
            },
            "colorscale": [
             [
              0,
              "#0d0887"
             ],
             [
              0.1111111111111111,
              "#46039f"
             ],
             [
              0.2222222222222222,
              "#7201a8"
             ],
             [
              0.3333333333333333,
              "#9c179e"
             ],
             [
              0.4444444444444444,
              "#bd3786"
             ],
             [
              0.5555555555555556,
              "#d8576b"
             ],
             [
              0.6666666666666666,
              "#ed7953"
             ],
             [
              0.7777777777777778,
              "#fb9f3a"
             ],
             [
              0.8888888888888888,
              "#fdca26"
             ],
             [
              1,
              "#f0f921"
             ]
            ],
            "type": "heatmap"
           }
          ],
          "heatmapgl": [
           {
            "colorbar": {
             "outlinewidth": 0,
             "ticks": ""
            },
            "colorscale": [
             [
              0,
              "#0d0887"
             ],
             [
              0.1111111111111111,
              "#46039f"
             ],
             [
              0.2222222222222222,
              "#7201a8"
             ],
             [
              0.3333333333333333,
              "#9c179e"
             ],
             [
              0.4444444444444444,
              "#bd3786"
             ],
             [
              0.5555555555555556,
              "#d8576b"
             ],
             [
              0.6666666666666666,
              "#ed7953"
             ],
             [
              0.7777777777777778,
              "#fb9f3a"
             ],
             [
              0.8888888888888888,
              "#fdca26"
             ],
             [
              1,
              "#f0f921"
             ]
            ],
            "type": "heatmapgl"
           }
          ],
          "histogram": [
           {
            "marker": {
             "pattern": {
              "fillmode": "overlay",
              "size": 10,
              "solidity": 0.2
             }
            },
            "type": "histogram"
           }
          ],
          "histogram2d": [
           {
            "colorbar": {
             "outlinewidth": 0,
             "ticks": ""
            },
            "colorscale": [
             [
              0,
              "#0d0887"
             ],
             [
              0.1111111111111111,
              "#46039f"
             ],
             [
              0.2222222222222222,
              "#7201a8"
             ],
             [
              0.3333333333333333,
              "#9c179e"
             ],
             [
              0.4444444444444444,
              "#bd3786"
             ],
             [
              0.5555555555555556,
              "#d8576b"
             ],
             [
              0.6666666666666666,
              "#ed7953"
             ],
             [
              0.7777777777777778,
              "#fb9f3a"
             ],
             [
              0.8888888888888888,
              "#fdca26"
             ],
             [
              1,
              "#f0f921"
             ]
            ],
            "type": "histogram2d"
           }
          ],
          "histogram2dcontour": [
           {
            "colorbar": {
             "outlinewidth": 0,
             "ticks": ""
            },
            "colorscale": [
             [
              0,
              "#0d0887"
             ],
             [
              0.1111111111111111,
              "#46039f"
             ],
             [
              0.2222222222222222,
              "#7201a8"
             ],
             [
              0.3333333333333333,
              "#9c179e"
             ],
             [
              0.4444444444444444,
              "#bd3786"
             ],
             [
              0.5555555555555556,
              "#d8576b"
             ],
             [
              0.6666666666666666,
              "#ed7953"
             ],
             [
              0.7777777777777778,
              "#fb9f3a"
             ],
             [
              0.8888888888888888,
              "#fdca26"
             ],
             [
              1,
              "#f0f921"
             ]
            ],
            "type": "histogram2dcontour"
           }
          ],
          "mesh3d": [
           {
            "colorbar": {
             "outlinewidth": 0,
             "ticks": ""
            },
            "type": "mesh3d"
           }
          ],
          "parcoords": [
           {
            "line": {
             "colorbar": {
              "outlinewidth": 0,
              "ticks": ""
             }
            },
            "type": "parcoords"
           }
          ],
          "pie": [
           {
            "automargin": true,
            "type": "pie"
           }
          ],
          "scatter": [
           {
            "fillpattern": {
             "fillmode": "overlay",
             "size": 10,
             "solidity": 0.2
            },
            "type": "scatter"
           }
          ],
          "scatter3d": [
           {
            "line": {
             "colorbar": {
              "outlinewidth": 0,
              "ticks": ""
             }
            },
            "marker": {
             "colorbar": {
              "outlinewidth": 0,
              "ticks": ""
             }
            },
            "type": "scatter3d"
           }
          ],
          "scattercarpet": [
           {
            "marker": {
             "colorbar": {
              "outlinewidth": 0,
              "ticks": ""
             }
            },
            "type": "scattercarpet"
           }
          ],
          "scattergeo": [
           {
            "marker": {
             "colorbar": {
              "outlinewidth": 0,
              "ticks": ""
             }
            },
            "type": "scattergeo"
           }
          ],
          "scattergl": [
           {
            "marker": {
             "colorbar": {
              "outlinewidth": 0,
              "ticks": ""
             }
            },
            "type": "scattergl"
           }
          ],
          "scattermapbox": [
           {
            "marker": {
             "colorbar": {
              "outlinewidth": 0,
              "ticks": ""
             }
            },
            "type": "scattermapbox"
           }
          ],
          "scatterpolar": [
           {
            "marker": {
             "colorbar": {
              "outlinewidth": 0,
              "ticks": ""
             }
            },
            "type": "scatterpolar"
           }
          ],
          "scatterpolargl": [
           {
            "marker": {
             "colorbar": {
              "outlinewidth": 0,
              "ticks": ""
             }
            },
            "type": "scatterpolargl"
           }
          ],
          "scatterternary": [
           {
            "marker": {
             "colorbar": {
              "outlinewidth": 0,
              "ticks": ""
             }
            },
            "type": "scatterternary"
           }
          ],
          "surface": [
           {
            "colorbar": {
             "outlinewidth": 0,
             "ticks": ""
            },
            "colorscale": [
             [
              0,
              "#0d0887"
             ],
             [
              0.1111111111111111,
              "#46039f"
             ],
             [
              0.2222222222222222,
              "#7201a8"
             ],
             [
              0.3333333333333333,
              "#9c179e"
             ],
             [
              0.4444444444444444,
              "#bd3786"
             ],
             [
              0.5555555555555556,
              "#d8576b"
             ],
             [
              0.6666666666666666,
              "#ed7953"
             ],
             [
              0.7777777777777778,
              "#fb9f3a"
             ],
             [
              0.8888888888888888,
              "#fdca26"
             ],
             [
              1,
              "#f0f921"
             ]
            ],
            "type": "surface"
           }
          ],
          "table": [
           {
            "cells": {
             "fill": {
              "color": "#EBF0F8"
             },
             "line": {
              "color": "white"
             }
            },
            "header": {
             "fill": {
              "color": "#C8D4E3"
             },
             "line": {
              "color": "white"
             }
            },
            "type": "table"
           }
          ]
         },
         "layout": {
          "annotationdefaults": {
           "arrowcolor": "#2a3f5f",
           "arrowhead": 0,
           "arrowwidth": 1
          },
          "autotypenumbers": "strict",
          "coloraxis": {
           "colorbar": {
            "outlinewidth": 0,
            "ticks": ""
           }
          },
          "colorscale": {
           "diverging": [
            [
             0,
             "#8e0152"
            ],
            [
             0.1,
             "#c51b7d"
            ],
            [
             0.2,
             "#de77ae"
            ],
            [
             0.3,
             "#f1b6da"
            ],
            [
             0.4,
             "#fde0ef"
            ],
            [
             0.5,
             "#f7f7f7"
            ],
            [
             0.6,
             "#e6f5d0"
            ],
            [
             0.7,
             "#b8e186"
            ],
            [
             0.8,
             "#7fbc41"
            ],
            [
             0.9,
             "#4d9221"
            ],
            [
             1,
             "#276419"
            ]
           ],
           "sequential": [
            [
             0,
             "#0d0887"
            ],
            [
             0.1111111111111111,
             "#46039f"
            ],
            [
             0.2222222222222222,
             "#7201a8"
            ],
            [
             0.3333333333333333,
             "#9c179e"
            ],
            [
             0.4444444444444444,
             "#bd3786"
            ],
            [
             0.5555555555555556,
             "#d8576b"
            ],
            [
             0.6666666666666666,
             "#ed7953"
            ],
            [
             0.7777777777777778,
             "#fb9f3a"
            ],
            [
             0.8888888888888888,
             "#fdca26"
            ],
            [
             1,
             "#f0f921"
            ]
           ],
           "sequentialminus": [
            [
             0,
             "#0d0887"
            ],
            [
             0.1111111111111111,
             "#46039f"
            ],
            [
             0.2222222222222222,
             "#7201a8"
            ],
            [
             0.3333333333333333,
             "#9c179e"
            ],
            [
             0.4444444444444444,
             "#bd3786"
            ],
            [
             0.5555555555555556,
             "#d8576b"
            ],
            [
             0.6666666666666666,
             "#ed7953"
            ],
            [
             0.7777777777777778,
             "#fb9f3a"
            ],
            [
             0.8888888888888888,
             "#fdca26"
            ],
            [
             1,
             "#f0f921"
            ]
           ]
          },
          "colorway": [
           "#636efa",
           "#EF553B",
           "#00cc96",
           "#ab63fa",
           "#FFA15A",
           "#19d3f3",
           "#FF6692",
           "#B6E880",
           "#FF97FF",
           "#FECB52"
          ],
          "font": {
           "color": "#2a3f5f"
          },
          "geo": {
           "bgcolor": "white",
           "lakecolor": "white",
           "landcolor": "#E5ECF6",
           "showlakes": true,
           "showland": true,
           "subunitcolor": "white"
          },
          "hoverlabel": {
           "align": "left"
          },
          "hovermode": "closest",
          "mapbox": {
           "style": "light"
          },
          "paper_bgcolor": "white",
          "plot_bgcolor": "#E5ECF6",
          "polar": {
           "angularaxis": {
            "gridcolor": "white",
            "linecolor": "white",
            "ticks": ""
           },
           "bgcolor": "#E5ECF6",
           "radialaxis": {
            "gridcolor": "white",
            "linecolor": "white",
            "ticks": ""
           }
          },
          "scene": {
           "xaxis": {
            "backgroundcolor": "#E5ECF6",
            "gridcolor": "white",
            "gridwidth": 2,
            "linecolor": "white",
            "showbackground": true,
            "ticks": "",
            "zerolinecolor": "white"
           },
           "yaxis": {
            "backgroundcolor": "#E5ECF6",
            "gridcolor": "white",
            "gridwidth": 2,
            "linecolor": "white",
            "showbackground": true,
            "ticks": "",
            "zerolinecolor": "white"
           },
           "zaxis": {
            "backgroundcolor": "#E5ECF6",
            "gridcolor": "white",
            "gridwidth": 2,
            "linecolor": "white",
            "showbackground": true,
            "ticks": "",
            "zerolinecolor": "white"
           }
          },
          "shapedefaults": {
           "line": {
            "color": "#2a3f5f"
           }
          },
          "ternary": {
           "aaxis": {
            "gridcolor": "white",
            "linecolor": "white",
            "ticks": ""
           },
           "baxis": {
            "gridcolor": "white",
            "linecolor": "white",
            "ticks": ""
           },
           "bgcolor": "#E5ECF6",
           "caxis": {
            "gridcolor": "white",
            "linecolor": "white",
            "ticks": ""
           }
          },
          "title": {
           "x": 0.05
          },
          "xaxis": {
           "automargin": true,
           "gridcolor": "white",
           "linecolor": "white",
           "ticks": "",
           "title": {
            "standoff": 15
           },
           "zerolinecolor": "white",
           "zerolinewidth": 2
          },
          "yaxis": {
           "automargin": true,
           "gridcolor": "white",
           "linecolor": "white",
           "ticks": "",
           "title": {
            "standoff": 15
           },
           "zerolinecolor": "white",
           "zerolinewidth": 2
          }
         }
        },
        "title": {
         "text": "Optimization History Plot"
        },
        "xaxis": {
         "autorange": true,
         "range": [
          -1.7696850393700787,
          30.769685039370078
         ],
         "title": {
          "text": "Trial"
         },
         "type": "linear"
        },
        "yaxis": {
         "autorange": true,
         "range": [
          2.7414056972649696,
          6.665589640010996
         ],
         "title": {
          "text": "Objective Value"
         },
         "type": "linear"
        }
       }
      },
      "image/png": "[encoded data removed]",
      "text/html": [
       "<div>                            <div id=\"9a49c650-a8fa-4c7c-b3da-f7b5a69b38b7\" class=\"plotly-graph-div\" style=\"height:525px; width:100%;\"></div>            <script type=\"text/javascript\">                require([\"plotly\"], function(Plotly) {                    window.PLOTLYENV=window.PLOTLYENV || {};                                    if (document.getElementById(\"9a49c650-a8fa-4c7c-b3da-f7b5a69b38b7\")) {                    Plotly.newPlot(                        \"9a49c650-a8fa-4c7c-b3da-f7b5a69b38b7\",                        [{\"mode\":\"markers\",\"name\":\"Objective Value\",\"x\":[0,1,2,3,4,5,6,7,8,9,10,11,12,13,14,15,16,17,18,19,20,21,22,23,24,25,26,27,28,29],\"y\":[3.0822947934494014,4.1912840326304766,3.370516061782837,4.4866550431216154,4.301369810858632,3.155681907097205,4.675478647903702,3.251474119919988,3.0623889747309256,3.30922269821167,3.1736207008361816,3.0506485992857546,3.054026157026841,3.0824013861044848,3.052870988845825,3.0560635934291818,3.09285187432888,3.019368726542813,3.187835693359375,4.67545711454315,4.67548910393728,3.4645688417926803,3.662532422227425,3.731374421252384,3.659148720575634,3.190925704182508,3.644612315775363,4.674963961406018,6.387626610733152,3.9845739664569835],\"type\":\"scatter\"},{\"mode\":\"lines\",\"name\":\"Best Value\",\"x\":[0,1,2,3,4,5,6,7,8,9,10,11,12,13,14,15,16,17,18,19,20,21,22,23,24,25,26,27,28,29],\"y\":[3.0822947934494014,3.0822947934494014,3.0822947934494014,3.0822947934494014,3.0822947934494014,3.0822947934494014,3.0822947934494014,3.0822947934494014,3.0623889747309256,3.0623889747309256,3.0623889747309256,3.0506485992857546,3.0506485992857546,3.0506485992857546,3.0506485992857546,3.0506485992857546,3.0506485992857546,3.019368726542813,3.019368726542813,3.019368726542813,3.019368726542813,3.019368726542813,3.019368726542813,3.019368726542813,3.019368726542813,3.019368726542813,3.019368726542813,3.019368726542813,3.019368726542813,3.019368726542813],\"type\":\"scatter\"},{\"marker\":{\"color\":\"#cccccc\"},\"mode\":\"markers\",\"name\":\"Infeasible Trial\",\"showlegend\":false,\"x\":[],\"y\":[],\"type\":\"scatter\"}],                        {\"title\":{\"text\":\"Optimization History Plot\"},\"xaxis\":{\"title\":{\"text\":\"Trial\"}},\"yaxis\":{\"title\":{\"text\":\"Objective Value\"}},\"template\":{\"data\":{\"histogram2dcontour\":[{\"type\":\"histogram2dcontour\",\"colorbar\":{\"outlinewidth\":0,\"ticks\":\"\"},\"colorscale\":[[0.0,\"#0d0887\"],[0.1111111111111111,\"#46039f\"],[0.2222222222222222,\"#7201a8\"],[0.3333333333333333,\"#9c179e\"],[0.4444444444444444,\"#bd3786\"],[0.5555555555555556,\"#d8576b\"],[0.6666666666666666,\"#ed7953\"],[0.7777777777777778,\"#fb9f3a\"],[0.8888888888888888,\"#fdca26\"],[1.0,\"#f0f921\"]]}],\"choropleth\":[{\"type\":\"choropleth\",\"colorbar\":{\"outlinewidth\":0,\"ticks\":\"\"}}],\"histogram2d\":[{\"type\":\"histogram2d\",\"colorbar\":{\"outlinewidth\":0,\"ticks\":\"\"},\"colorscale\":[[0.0,\"#0d0887\"],[0.1111111111111111,\"#46039f\"],[0.2222222222222222,\"#7201a8\"],[0.3333333333333333,\"#9c179e\"],[0.4444444444444444,\"#bd3786\"],[0.5555555555555556,\"#d8576b\"],[0.6666666666666666,\"#ed7953\"],[0.7777777777777778,\"#fb9f3a\"],[0.8888888888888888,\"#fdca26\"],[1.0,\"#f0f921\"]]}],\"heatmap\":[{\"type\":\"heatmap\",\"colorbar\":{\"outlinewidth\":0,\"ticks\":\"\"},\"colorscale\":[[0.0,\"#0d0887\"],[0.1111111111111111,\"#46039f\"],[0.2222222222222222,\"#7201a8\"],[0.3333333333333333,\"#9c179e\"],[0.4444444444444444,\"#bd3786\"],[0.5555555555555556,\"#d8576b\"],[0.6666666666666666,\"#ed7953\"],[0.7777777777777778,\"#fb9f3a\"],[0.8888888888888888,\"#fdca26\"],[1.0,\"#f0f921\"]]}],\"heatmapgl\":[{\"type\":\"heatmapgl\",\"colorbar\":{\"outlinewidth\":0,\"ticks\":\"\"},\"colorscale\":[[0.0,\"#0d0887\"],[0.1111111111111111,\"#46039f\"],[0.2222222222222222,\"#7201a8\"],[0.3333333333333333,\"#9c179e\"],[0.4444444444444444,\"#bd3786\"],[0.5555555555555556,\"#d8576b\"],[0.6666666666666666,\"#ed7953\"],[0.7777777777777778,\"#fb9f3a\"],[0.8888888888888888,\"#fdca26\"],[1.0,\"#f0f921\"]]}],\"contourcarpet\":[{\"type\":\"contourcarpet\",\"colorbar\":{\"outlinewidth\":0,\"ticks\":\"\"}}],\"contour\":[{\"type\":\"contour\",\"colorbar\":{\"outlinewidth\":0,\"ticks\":\"\"},\"colorscale\":[[0.0,\"#0d0887\"],[0.1111111111111111,\"#46039f\"],[0.2222222222222222,\"#7201a8\"],[0.3333333333333333,\"#9c179e\"],[0.4444444444444444,\"#bd3786\"],[0.5555555555555556,\"#d8576b\"],[0.6666666666666666,\"#ed7953\"],[0.7777777777777778,\"#fb9f3a\"],[0.8888888888888888,\"#fdca26\"],[1.0,\"#f0f921\"]]}],\"surface\":[{\"type\":\"surface\",\"colorbar\":{\"outlinewidth\":0,\"ticks\":\"\"},\"colorscale\":[[0.0,\"#0d0887\"],[0.1111111111111111,\"#46039f\"],[0.2222222222222222,\"#7201a8\"],[0.3333333333333333,\"#9c179e\"],[0.4444444444444444,\"#bd3786\"],[0.5555555555555556,\"#d8576b\"],[0.6666666666666666,\"#ed7953\"],[0.7777777777777778,\"#fb9f3a\"],[0.8888888888888888,\"#fdca26\"],[1.0,\"#f0f921\"]]}],\"mesh3d\":[{\"type\":\"mesh3d\",\"colorbar\":{\"outlinewidth\":0,\"ticks\":\"\"}}],\"scatter\":[{\"fillpattern\":{\"fillmode\":\"overlay\",\"size\":10,\"solidity\":0.2},\"type\":\"scatter\"}],\"parcoords\":[{\"type\":\"parcoords\",\"line\":{\"colorbar\":{\"outlinewidth\":0,\"ticks\":\"\"}}}],\"scatterpolargl\":[{\"type\":\"scatterpolargl\",\"marker\":{\"colorbar\":{\"outlinewidth\":0,\"ticks\":\"\"}}}],\"bar\":[{\"error_x\":{\"color\":\"#2a3f5f\"},\"error_y\":{\"color\":\"#2a3f5f\"},\"marker\":{\"line\":{\"color\":\"#E5ECF6\",\"width\":0.5},\"pattern\":{\"fillmode\":\"overlay\",\"size\":10,\"solidity\":0.2}},\"type\":\"bar\"}],\"scattergeo\":[{\"type\":\"scattergeo\",\"marker\":{\"colorbar\":{\"outlinewidth\":0,\"ticks\":\"\"}}}],\"scatterpolar\":[{\"type\":\"scatterpolar\",\"marker\":{\"colorbar\":{\"outlinewidth\":0,\"ticks\":\"\"}}}],\"histogram\":[{\"marker\":{\"pattern\":{\"fillmode\":\"overlay\",\"size\":10,\"solidity\":0.2}},\"type\":\"histogram\"}],\"scattergl\":[{\"type\":\"scattergl\",\"marker\":{\"colorbar\":{\"outlinewidth\":0,\"ticks\":\"\"}}}],\"scatter3d\":[{\"type\":\"scatter3d\",\"line\":{\"colorbar\":{\"outlinewidth\":0,\"ticks\":\"\"}},\"marker\":{\"colorbar\":{\"outlinewidth\":0,\"ticks\":\"\"}}}],\"scattermapbox\":[{\"type\":\"scattermapbox\",\"marker\":{\"colorbar\":{\"outlinewidth\":0,\"ticks\":\"\"}}}],\"scatterternary\":[{\"type\":\"scatterternary\",\"marker\":{\"colorbar\":{\"outlinewidth\":0,\"ticks\":\"\"}}}],\"scattercarpet\":[{\"type\":\"scattercarpet\",\"marker\":{\"colorbar\":{\"outlinewidth\":0,\"ticks\":\"\"}}}],\"carpet\":[{\"aaxis\":{\"endlinecolor\":\"#2a3f5f\",\"gridcolor\":\"white\",\"linecolor\":\"white\",\"minorgridcolor\":\"white\",\"startlinecolor\":\"#2a3f5f\"},\"baxis\":{\"endlinecolor\":\"#2a3f5f\",\"gridcolor\":\"white\",\"linecolor\":\"white\",\"minorgridcolor\":\"white\",\"startlinecolor\":\"#2a3f5f\"},\"type\":\"carpet\"}],\"table\":[{\"cells\":{\"fill\":{\"color\":\"#EBF0F8\"},\"line\":{\"color\":\"white\"}},\"header\":{\"fill\":{\"color\":\"#C8D4E3\"},\"line\":{\"color\":\"white\"}},\"type\":\"table\"}],\"barpolar\":[{\"marker\":{\"line\":{\"color\":\"#E5ECF6\",\"width\":0.5},\"pattern\":{\"fillmode\":\"overlay\",\"size\":10,\"solidity\":0.2}},\"type\":\"barpolar\"}],\"pie\":[{\"automargin\":true,\"type\":\"pie\"}]},\"layout\":{\"autotypenumbers\":\"strict\",\"colorway\":[\"#636efa\",\"#EF553B\",\"#00cc96\",\"#ab63fa\",\"#FFA15A\",\"#19d3f3\",\"#FF6692\",\"#B6E880\",\"#FF97FF\",\"#FECB52\"],\"font\":{\"color\":\"#2a3f5f\"},\"hovermode\":\"closest\",\"hoverlabel\":{\"align\":\"left\"},\"paper_bgcolor\":\"white\",\"plot_bgcolor\":\"#E5ECF6\",\"polar\":{\"bgcolor\":\"#E5ECF6\",\"angularaxis\":{\"gridcolor\":\"white\",\"linecolor\":\"white\",\"ticks\":\"\"},\"radialaxis\":{\"gridcolor\":\"white\",\"linecolor\":\"white\",\"ticks\":\"\"}},\"ternary\":{\"bgcolor\":\"#E5ECF6\",\"aaxis\":{\"gridcolor\":\"white\",\"linecolor\":\"white\",\"ticks\":\"\"},\"baxis\":{\"gridcolor\":\"white\",\"linecolor\":\"white\",\"ticks\":\"\"},\"caxis\":{\"gridcolor\":\"white\",\"linecolor\":\"white\",\"ticks\":\"\"}},\"coloraxis\":{\"colorbar\":{\"outlinewidth\":0,\"ticks\":\"\"}},\"colorscale\":{\"sequential\":[[0.0,\"#0d0887\"],[0.1111111111111111,\"#46039f\"],[0.2222222222222222,\"#7201a8\"],[0.3333333333333333,\"#9c179e\"],[0.4444444444444444,\"#bd3786\"],[0.5555555555555556,\"#d8576b\"],[0.6666666666666666,\"#ed7953\"],[0.7777777777777778,\"#fb9f3a\"],[0.8888888888888888,\"#fdca26\"],[1.0,\"#f0f921\"]],\"sequentialminus\":[[0.0,\"#0d0887\"],[0.1111111111111111,\"#46039f\"],[0.2222222222222222,\"#7201a8\"],[0.3333333333333333,\"#9c179e\"],[0.4444444444444444,\"#bd3786\"],[0.5555555555555556,\"#d8576b\"],[0.6666666666666666,\"#ed7953\"],[0.7777777777777778,\"#fb9f3a\"],[0.8888888888888888,\"#fdca26\"],[1.0,\"#f0f921\"]],\"diverging\":[[0,\"#8e0152\"],[0.1,\"#c51b7d\"],[0.2,\"#de77ae\"],[0.3,\"#f1b6da\"],[0.4,\"#fde0ef\"],[0.5,\"#f7f7f7\"],[0.6,\"#e6f5d0\"],[0.7,\"#b8e186\"],[0.8,\"#7fbc41\"],[0.9,\"#4d9221\"],[1,\"#276419\"]]},\"xaxis\":{\"gridcolor\":\"white\",\"linecolor\":\"white\",\"ticks\":\"\",\"title\":{\"standoff\":15},\"zerolinecolor\":\"white\",\"automargin\":true,\"zerolinewidth\":2},\"yaxis\":{\"gridcolor\":\"white\",\"linecolor\":\"white\",\"ticks\":\"\",\"title\":{\"standoff\":15},\"zerolinecolor\":\"white\",\"automargin\":true,\"zerolinewidth\":2},\"scene\":{\"xaxis\":{\"backgroundcolor\":\"#E5ECF6\",\"gridcolor\":\"white\",\"linecolor\":\"white\",\"showbackground\":true,\"ticks\":\"\",\"zerolinecolor\":\"white\",\"gridwidth\":2},\"yaxis\":{\"backgroundcolor\":\"#E5ECF6\",\"gridcolor\":\"white\",\"linecolor\":\"white\",\"showbackground\":true,\"ticks\":\"\",\"zerolinecolor\":\"white\",\"gridwidth\":2},\"zaxis\":{\"backgroundcolor\":\"#E5ECF6\",\"gridcolor\":\"white\",\"linecolor\":\"white\",\"showbackground\":true,\"ticks\":\"\",\"zerolinecolor\":\"white\",\"gridwidth\":2}},\"shapedefaults\":{\"line\":{\"color\":\"#2a3f5f\"}},\"annotationdefaults\":{\"arrowcolor\":\"#2a3f5f\",\"arrowhead\":0,\"arrowwidth\":1},\"geo\":{\"bgcolor\":\"white\",\"landcolor\":\"#E5ECF6\",\"subunitcolor\":\"white\",\"showland\":true,\"showlakes\":true,\"lakecolor\":\"white\"},\"title\":{\"x\":0.05},\"mapbox\":{\"style\":\"light\"}}}},                        {\"responsive\": true}                    ).then(function(){\n",
       "                            \n",
       "var gd = document.getElementById('9a49c650-a8fa-4c7c-b3da-f7b5a69b38b7');\n",
       "var x = new MutationObserver(function (mutations, observer) {{\n",
       "        var display = window.getComputedStyle(gd).display;\n",
       "        if (!display || display === 'none') {{\n",
       "            console.log([gd, 'removed!']);\n",
       "            Plotly.purge(gd);\n",
       "            observer.disconnect();\n",
       "        }}\n",
       "}});\n",
       "\n",
       "// Listen for the removal of the full notebook cells\n",
       "var notebookContainer = gd.closest('#notebook-container');\n",
       "if (notebookContainer) {{\n",
       "    x.observe(notebookContainer, {childList: true});\n",
       "}}\n",
       "\n",
       "// Listen for the clearing of the current output cell\n",
       "var outputEl = gd.closest('.output');\n",
       "if (outputEl) {{\n",
       "    x.observe(outputEl, {childList: true});\n",
       "}}\n",
       "\n",
       "                        })                };                });            </script>        </div>"
      ]
     },
     "metadata": {},
     "output_type": "display_data"
    }
   ],
   "source": [
    "# optimization history plot\n",
    "\n",
    "optuna.visualization.plot_optimization_history(study)"
   ]
  },
  {
   "cell_type": "code",
   "execution_count": 242,
   "metadata": {
    "colab": {
     "base_uri": "https://localhost:8080/",
     "height": 542
    },
    "executionInfo": {
     "elapsed": 31,
     "status": "ok",
     "timestamp": 1732871445938,
     "user": {
      "displayName": "Himanshu Arora",
      "userId": "03026800847751892488"
     },
     "user_tz": -330
    },
    "id": "_gQvs3z97S1G",
    "outputId": "13cd1cce-d7b2-4a5b-f446-38a8b738da35"
   },
   "outputs": [
    {
     "data": {
      "application/vnd.plotly.v1+json": {
       "config": {
        "plotlyServerURL": "https://plot.ly"
       },
       "data": [
        {
         "dimensions": [
          {
           "label": "Objective Value",
           "range": [
            3.019368726542813,
            6.387626610733152
           ],
           "values": [
            3.0822947934494014,
            4.1912840326304766,
            3.370516061782837,
            4.4866550431216154,
            4.301369810858632,
            3.155681907097205,
            4.675478647903702,
            3.251474119919988,
            3.0623889747309256,
            3.30922269821167,
            3.1736207008361816,
            3.0506485992857546,
            3.054026157026841,
            3.0824013861044848,
            3.052870988845825,
            3.0560635934291818,
            3.09285187432888,
            3.019368726542813,
            3.187835693359375,
            4.67545711454315,
            4.67548910393728,
            3.4645688417926803,
            3.662532422227425,
            3.731374421252384,
            3.659148720575634,
            3.190925704182508,
            3.644612315775363,
            4.674963961406018,
            6.387626610733152,
            3.9845739664569835
           ]
          },
          {
           "label": "model",
           "range": [
            0,
            5
           ],
           "ticktext": [
            "RF",
            "KNN",
            "XGB",
            "SVM",
            "GB",
            "LGBM"
           ],
           "tickvals": [
            0,
            1,
            2,
            3,
            4,
            5
           ],
           "values": [
            0,
            1,
            2,
            1,
            1,
            0,
            3,
            4,
            5,
            2,
            2,
            5,
            5,
            0,
            2,
            0,
            5,
            5,
            2,
            3,
            3,
            4,
            3,
            3,
            5,
            5,
            3,
            3,
            3,
            3
           ]
          }
         ],
         "labelangle": 30,
         "labelside": "bottom",
         "line": {
          "color": [
           3.0822947934494014,
           4.1912840326304766,
           3.370516061782837,
           4.4866550431216154,
           4.301369810858632,
           3.155681907097205,
           4.675478647903702,
           3.251474119919988,
           3.0623889747309256,
           3.30922269821167,
           3.1736207008361816,
           3.0506485992857546,
           3.054026157026841,
           3.0824013861044848,
           3.052870988845825,
           3.0560635934291818,
           3.09285187432888,
           3.019368726542813,
           3.187835693359375,
           4.67545711454315,
           4.67548910393728,
           3.4645688417926803,
           3.662532422227425,
           3.731374421252384,
           3.659148720575634,
           3.190925704182508,
           3.644612315775363,
           4.674963961406018,
           6.387626610733152,
           3.9845739664569835
          ],
          "colorbar": {
           "title": {
            "text": "Objective Value"
           }
          },
          "colorscale": [
           [
            0,
            "rgb(247,251,255)"
           ],
           [
            0.125,
            "rgb(222,235,247)"
           ],
           [
            0.25,
            "rgb(198,219,239)"
           ],
           [
            0.375,
            "rgb(158,202,225)"
           ],
           [
            0.5,
            "rgb(107,174,214)"
           ],
           [
            0.625,
            "rgb(66,146,198)"
           ],
           [
            0.75,
            "rgb(33,113,181)"
           ],
           [
            0.875,
            "rgb(8,81,156)"
           ],
           [
            1,
            "rgb(8,48,107)"
           ]
          ],
          "reversescale": true,
          "showscale": true
         },
         "type": "parcoords"
        }
       ],
       "layout": {
        "autosize": true,
        "template": {
         "data": {
          "bar": [
           {
            "error_x": {
             "color": "#2a3f5f"
            },
            "error_y": {
             "color": "#2a3f5f"
            },
            "marker": {
             "line": {
              "color": "#E5ECF6",
              "width": 0.5
             },
             "pattern": {
              "fillmode": "overlay",
              "size": 10,
              "solidity": 0.2
             }
            },
            "type": "bar"
           }
          ],
          "barpolar": [
           {
            "marker": {
             "line": {
              "color": "#E5ECF6",
              "width": 0.5
             },
             "pattern": {
              "fillmode": "overlay",
              "size": 10,
              "solidity": 0.2
             }
            },
            "type": "barpolar"
           }
          ],
          "carpet": [
           {
            "aaxis": {
             "endlinecolor": "#2a3f5f",
             "gridcolor": "white",
             "linecolor": "white",
             "minorgridcolor": "white",
             "startlinecolor": "#2a3f5f"
            },
            "baxis": {
             "endlinecolor": "#2a3f5f",
             "gridcolor": "white",
             "linecolor": "white",
             "minorgridcolor": "white",
             "startlinecolor": "#2a3f5f"
            },
            "type": "carpet"
           }
          ],
          "choropleth": [
           {
            "colorbar": {
             "outlinewidth": 0,
             "ticks": ""
            },
            "type": "choropleth"
           }
          ],
          "contour": [
           {
            "colorbar": {
             "outlinewidth": 0,
             "ticks": ""
            },
            "colorscale": [
             [
              0,
              "#0d0887"
             ],
             [
              0.1111111111111111,
              "#46039f"
             ],
             [
              0.2222222222222222,
              "#7201a8"
             ],
             [
              0.3333333333333333,
              "#9c179e"
             ],
             [
              0.4444444444444444,
              "#bd3786"
             ],
             [
              0.5555555555555556,
              "#d8576b"
             ],
             [
              0.6666666666666666,
              "#ed7953"
             ],
             [
              0.7777777777777778,
              "#fb9f3a"
             ],
             [
              0.8888888888888888,
              "#fdca26"
             ],
             [
              1,
              "#f0f921"
             ]
            ],
            "type": "contour"
           }
          ],
          "contourcarpet": [
           {
            "colorbar": {
             "outlinewidth": 0,
             "ticks": ""
            },
            "type": "contourcarpet"
           }
          ],
          "heatmap": [
           {
            "colorbar": {
             "outlinewidth": 0,
             "ticks": ""
            },
            "colorscale": [
             [
              0,
              "#0d0887"
             ],
             [
              0.1111111111111111,
              "#46039f"
             ],
             [
              0.2222222222222222,
              "#7201a8"
             ],
             [
              0.3333333333333333,
              "#9c179e"
             ],
             [
              0.4444444444444444,
              "#bd3786"
             ],
             [
              0.5555555555555556,
              "#d8576b"
             ],
             [
              0.6666666666666666,
              "#ed7953"
             ],
             [
              0.7777777777777778,
              "#fb9f3a"
             ],
             [
              0.8888888888888888,
              "#fdca26"
             ],
             [
              1,
              "#f0f921"
             ]
            ],
            "type": "heatmap"
           }
          ],
          "heatmapgl": [
           {
            "colorbar": {
             "outlinewidth": 0,
             "ticks": ""
            },
            "colorscale": [
             [
              0,
              "#0d0887"
             ],
             [
              0.1111111111111111,
              "#46039f"
             ],
             [
              0.2222222222222222,
              "#7201a8"
             ],
             [
              0.3333333333333333,
              "#9c179e"
             ],
             [
              0.4444444444444444,
              "#bd3786"
             ],
             [
              0.5555555555555556,
              "#d8576b"
             ],
             [
              0.6666666666666666,
              "#ed7953"
             ],
             [
              0.7777777777777778,
              "#fb9f3a"
             ],
             [
              0.8888888888888888,
              "#fdca26"
             ],
             [
              1,
              "#f0f921"
             ]
            ],
            "type": "heatmapgl"
           }
          ],
          "histogram": [
           {
            "marker": {
             "pattern": {
              "fillmode": "overlay",
              "size": 10,
              "solidity": 0.2
             }
            },
            "type": "histogram"
           }
          ],
          "histogram2d": [
           {
            "colorbar": {
             "outlinewidth": 0,
             "ticks": ""
            },
            "colorscale": [
             [
              0,
              "#0d0887"
             ],
             [
              0.1111111111111111,
              "#46039f"
             ],
             [
              0.2222222222222222,
              "#7201a8"
             ],
             [
              0.3333333333333333,
              "#9c179e"
             ],
             [
              0.4444444444444444,
              "#bd3786"
             ],
             [
              0.5555555555555556,
              "#d8576b"
             ],
             [
              0.6666666666666666,
              "#ed7953"
             ],
             [
              0.7777777777777778,
              "#fb9f3a"
             ],
             [
              0.8888888888888888,
              "#fdca26"
             ],
             [
              1,
              "#f0f921"
             ]
            ],
            "type": "histogram2d"
           }
          ],
          "histogram2dcontour": [
           {
            "colorbar": {
             "outlinewidth": 0,
             "ticks": ""
            },
            "colorscale": [
             [
              0,
              "#0d0887"
             ],
             [
              0.1111111111111111,
              "#46039f"
             ],
             [
              0.2222222222222222,
              "#7201a8"
             ],
             [
              0.3333333333333333,
              "#9c179e"
             ],
             [
              0.4444444444444444,
              "#bd3786"
             ],
             [
              0.5555555555555556,
              "#d8576b"
             ],
             [
              0.6666666666666666,
              "#ed7953"
             ],
             [
              0.7777777777777778,
              "#fb9f3a"
             ],
             [
              0.8888888888888888,
              "#fdca26"
             ],
             [
              1,
              "#f0f921"
             ]
            ],
            "type": "histogram2dcontour"
           }
          ],
          "mesh3d": [
           {
            "colorbar": {
             "outlinewidth": 0,
             "ticks": ""
            },
            "type": "mesh3d"
           }
          ],
          "parcoords": [
           {
            "line": {
             "colorbar": {
              "outlinewidth": 0,
              "ticks": ""
             }
            },
            "type": "parcoords"
           }
          ],
          "pie": [
           {
            "automargin": true,
            "type": "pie"
           }
          ],
          "scatter": [
           {
            "fillpattern": {
             "fillmode": "overlay",
             "size": 10,
             "solidity": 0.2
            },
            "type": "scatter"
           }
          ],
          "scatter3d": [
           {
            "line": {
             "colorbar": {
              "outlinewidth": 0,
              "ticks": ""
             }
            },
            "marker": {
             "colorbar": {
              "outlinewidth": 0,
              "ticks": ""
             }
            },
            "type": "scatter3d"
           }
          ],
          "scattercarpet": [
           {
            "marker": {
             "colorbar": {
              "outlinewidth": 0,
              "ticks": ""
             }
            },
            "type": "scattercarpet"
           }
          ],
          "scattergeo": [
           {
            "marker": {
             "colorbar": {
              "outlinewidth": 0,
              "ticks": ""
             }
            },
            "type": "scattergeo"
           }
          ],
          "scattergl": [
           {
            "marker": {
             "colorbar": {
              "outlinewidth": 0,
              "ticks": ""
             }
            },
            "type": "scattergl"
           }
          ],
          "scattermapbox": [
           {
            "marker": {
             "colorbar": {
              "outlinewidth": 0,
              "ticks": ""
             }
            },
            "type": "scattermapbox"
           }
          ],
          "scatterpolar": [
           {
            "marker": {
             "colorbar": {
              "outlinewidth": 0,
              "ticks": ""
             }
            },
            "type": "scatterpolar"
           }
          ],
          "scatterpolargl": [
           {
            "marker": {
             "colorbar": {
              "outlinewidth": 0,
              "ticks": ""
             }
            },
            "type": "scatterpolargl"
           }
          ],
          "scatterternary": [
           {
            "marker": {
             "colorbar": {
              "outlinewidth": 0,
              "ticks": ""
             }
            },
            "type": "scatterternary"
           }
          ],
          "surface": [
           {
            "colorbar": {
             "outlinewidth": 0,
             "ticks": ""
            },
            "colorscale": [
             [
              0,
              "#0d0887"
             ],
             [
              0.1111111111111111,
              "#46039f"
             ],
             [
              0.2222222222222222,
              "#7201a8"
             ],
             [
              0.3333333333333333,
              "#9c179e"
             ],
             [
              0.4444444444444444,
              "#bd3786"
             ],
             [
              0.5555555555555556,
              "#d8576b"
             ],
             [
              0.6666666666666666,
              "#ed7953"
             ],
             [
              0.7777777777777778,
              "#fb9f3a"
             ],
             [
              0.8888888888888888,
              "#fdca26"
             ],
             [
              1,
              "#f0f921"
             ]
            ],
            "type": "surface"
           }
          ],
          "table": [
           {
            "cells": {
             "fill": {
              "color": "#EBF0F8"
             },
             "line": {
              "color": "white"
             }
            },
            "header": {
             "fill": {
              "color": "#C8D4E3"
             },
             "line": {
              "color": "white"
             }
            },
            "type": "table"
           }
          ]
         },
         "layout": {
          "annotationdefaults": {
           "arrowcolor": "#2a3f5f",
           "arrowhead": 0,
           "arrowwidth": 1
          },
          "autotypenumbers": "strict",
          "coloraxis": {
           "colorbar": {
            "outlinewidth": 0,
            "ticks": ""
           }
          },
          "colorscale": {
           "diverging": [
            [
             0,
             "#8e0152"
            ],
            [
             0.1,
             "#c51b7d"
            ],
            [
             0.2,
             "#de77ae"
            ],
            [
             0.3,
             "#f1b6da"
            ],
            [
             0.4,
             "#fde0ef"
            ],
            [
             0.5,
             "#f7f7f7"
            ],
            [
             0.6,
             "#e6f5d0"
            ],
            [
             0.7,
             "#b8e186"
            ],
            [
             0.8,
             "#7fbc41"
            ],
            [
             0.9,
             "#4d9221"
            ],
            [
             1,
             "#276419"
            ]
           ],
           "sequential": [
            [
             0,
             "#0d0887"
            ],
            [
             0.1111111111111111,
             "#46039f"
            ],
            [
             0.2222222222222222,
             "#7201a8"
            ],
            [
             0.3333333333333333,
             "#9c179e"
            ],
            [
             0.4444444444444444,
             "#bd3786"
            ],
            [
             0.5555555555555556,
             "#d8576b"
            ],
            [
             0.6666666666666666,
             "#ed7953"
            ],
            [
             0.7777777777777778,
             "#fb9f3a"
            ],
            [
             0.8888888888888888,
             "#fdca26"
            ],
            [
             1,
             "#f0f921"
            ]
           ],
           "sequentialminus": [
            [
             0,
             "#0d0887"
            ],
            [
             0.1111111111111111,
             "#46039f"
            ],
            [
             0.2222222222222222,
             "#7201a8"
            ],
            [
             0.3333333333333333,
             "#9c179e"
            ],
            [
             0.4444444444444444,
             "#bd3786"
            ],
            [
             0.5555555555555556,
             "#d8576b"
            ],
            [
             0.6666666666666666,
             "#ed7953"
            ],
            [
             0.7777777777777778,
             "#fb9f3a"
            ],
            [
             0.8888888888888888,
             "#fdca26"
            ],
            [
             1,
             "#f0f921"
            ]
           ]
          },
          "colorway": [
           "#636efa",
           "#EF553B",
           "#00cc96",
           "#ab63fa",
           "#FFA15A",
           "#19d3f3",
           "#FF6692",
           "#B6E880",
           "#FF97FF",
           "#FECB52"
          ],
          "font": {
           "color": "#2a3f5f"
          },
          "geo": {
           "bgcolor": "white",
           "lakecolor": "white",
           "landcolor": "#E5ECF6",
           "showlakes": true,
           "showland": true,
           "subunitcolor": "white"
          },
          "hoverlabel": {
           "align": "left"
          },
          "hovermode": "closest",
          "mapbox": {
           "style": "light"
          },
          "paper_bgcolor": "white",
          "plot_bgcolor": "#E5ECF6",
          "polar": {
           "angularaxis": {
            "gridcolor": "white",
            "linecolor": "white",
            "ticks": ""
           },
           "bgcolor": "#E5ECF6",
           "radialaxis": {
            "gridcolor": "white",
            "linecolor": "white",
            "ticks": ""
           }
          },
          "scene": {
           "xaxis": {
            "backgroundcolor": "#E5ECF6",
            "gridcolor": "white",
            "gridwidth": 2,
            "linecolor": "white",
            "showbackground": true,
            "ticks": "",
            "zerolinecolor": "white"
           },
           "yaxis": {
            "backgroundcolor": "#E5ECF6",
            "gridcolor": "white",
            "gridwidth": 2,
            "linecolor": "white",
            "showbackground": true,
            "ticks": "",
            "zerolinecolor": "white"
           },
           "zaxis": {
            "backgroundcolor": "#E5ECF6",
            "gridcolor": "white",
            "gridwidth": 2,
            "linecolor": "white",
            "showbackground": true,
            "ticks": "",
            "zerolinecolor": "white"
           }
          },
          "shapedefaults": {
           "line": {
            "color": "#2a3f5f"
           }
          },
          "ternary": {
           "aaxis": {
            "gridcolor": "white",
            "linecolor": "white",
            "ticks": ""
           },
           "baxis": {
            "gridcolor": "white",
            "linecolor": "white",
            "ticks": ""
           },
           "bgcolor": "#E5ECF6",
           "caxis": {
            "gridcolor": "white",
            "linecolor": "white",
            "ticks": ""
           }
          },
          "title": {
           "x": 0.05
          },
          "xaxis": {
           "automargin": true,
           "gridcolor": "white",
           "linecolor": "white",
           "ticks": "",
           "title": {
            "standoff": 15
           },
           "zerolinecolor": "white",
           "zerolinewidth": 2
          },
          "yaxis": {
           "automargin": true,
           "gridcolor": "white",
           "linecolor": "white",
           "ticks": "",
           "title": {
            "standoff": 15
           },
           "zerolinecolor": "white",
           "zerolinewidth": 2
          }
         }
        },
        "title": {
         "text": "Parallel Coordinate Plot"
        }
       }
      },
      "image/png": "[encoded data removed]",
      "text/html": [
       "<div>                            <div id=\"240db136-5a5b-4cc8-945d-8607c89e9028\" class=\"plotly-graph-div\" style=\"height:525px; width:100%;\"></div>            <script type=\"text/javascript\">                require([\"plotly\"], function(Plotly) {                    window.PLOTLYENV=window.PLOTLYENV || {};                                    if (document.getElementById(\"240db136-5a5b-4cc8-945d-8607c89e9028\")) {                    Plotly.newPlot(                        \"240db136-5a5b-4cc8-945d-8607c89e9028\",                        [{\"dimensions\":[{\"label\":\"Objective Value\",\"range\":[3.019368726542813,6.387626610733152],\"values\":[3.0822947934494014,4.1912840326304766,3.370516061782837,4.4866550431216154,4.301369810858632,3.155681907097205,4.675478647903702,3.251474119919988,3.0623889747309256,3.30922269821167,3.1736207008361816,3.0506485992857546,3.054026157026841,3.0824013861044848,3.052870988845825,3.0560635934291818,3.09285187432888,3.019368726542813,3.187835693359375,4.67545711454315,4.67548910393728,3.4645688417926803,3.662532422227425,3.731374421252384,3.659148720575634,3.190925704182508,3.644612315775363,4.674963961406018,6.387626610733152,3.9845739664569835]},{\"label\":\"model\",\"range\":[0,5],\"ticktext\":[\"RF\",\"KNN\",\"XGB\",\"SVM\",\"GB\",\"LGBM\"],\"tickvals\":[0,1,2,3,4,5],\"values\":[0,1,2,1,1,0,3,4,5,2,2,5,5,0,2,0,5,5,2,3,3,4,3,3,5,5,3,3,3,3]}],\"labelangle\":30,\"labelside\":\"bottom\",\"line\":{\"color\":[3.0822947934494014,4.1912840326304766,3.370516061782837,4.4866550431216154,4.301369810858632,3.155681907097205,4.675478647903702,3.251474119919988,3.0623889747309256,3.30922269821167,3.1736207008361816,3.0506485992857546,3.054026157026841,3.0824013861044848,3.052870988845825,3.0560635934291818,3.09285187432888,3.019368726542813,3.187835693359375,4.67545711454315,4.67548910393728,3.4645688417926803,3.662532422227425,3.731374421252384,3.659148720575634,3.190925704182508,3.644612315775363,4.674963961406018,6.387626610733152,3.9845739664569835],\"colorbar\":{\"title\":{\"text\":\"Objective Value\"}},\"colorscale\":[[0.0,\"rgb(247,251,255)\"],[0.125,\"rgb(222,235,247)\"],[0.25,\"rgb(198,219,239)\"],[0.375,\"rgb(158,202,225)\"],[0.5,\"rgb(107,174,214)\"],[0.625,\"rgb(66,146,198)\"],[0.75,\"rgb(33,113,181)\"],[0.875,\"rgb(8,81,156)\"],[1.0,\"rgb(8,48,107)\"]],\"reversescale\":true,\"showscale\":true},\"type\":\"parcoords\"}],                        {\"title\":{\"text\":\"Parallel Coordinate Plot\"},\"template\":{\"data\":{\"histogram2dcontour\":[{\"type\":\"histogram2dcontour\",\"colorbar\":{\"outlinewidth\":0,\"ticks\":\"\"},\"colorscale\":[[0.0,\"#0d0887\"],[0.1111111111111111,\"#46039f\"],[0.2222222222222222,\"#7201a8\"],[0.3333333333333333,\"#9c179e\"],[0.4444444444444444,\"#bd3786\"],[0.5555555555555556,\"#d8576b\"],[0.6666666666666666,\"#ed7953\"],[0.7777777777777778,\"#fb9f3a\"],[0.8888888888888888,\"#fdca26\"],[1.0,\"#f0f921\"]]}],\"choropleth\":[{\"type\":\"choropleth\",\"colorbar\":{\"outlinewidth\":0,\"ticks\":\"\"}}],\"histogram2d\":[{\"type\":\"histogram2d\",\"colorbar\":{\"outlinewidth\":0,\"ticks\":\"\"},\"colorscale\":[[0.0,\"#0d0887\"],[0.1111111111111111,\"#46039f\"],[0.2222222222222222,\"#7201a8\"],[0.3333333333333333,\"#9c179e\"],[0.4444444444444444,\"#bd3786\"],[0.5555555555555556,\"#d8576b\"],[0.6666666666666666,\"#ed7953\"],[0.7777777777777778,\"#fb9f3a\"],[0.8888888888888888,\"#fdca26\"],[1.0,\"#f0f921\"]]}],\"heatmap\":[{\"type\":\"heatmap\",\"colorbar\":{\"outlinewidth\":0,\"ticks\":\"\"},\"colorscale\":[[0.0,\"#0d0887\"],[0.1111111111111111,\"#46039f\"],[0.2222222222222222,\"#7201a8\"],[0.3333333333333333,\"#9c179e\"],[0.4444444444444444,\"#bd3786\"],[0.5555555555555556,\"#d8576b\"],[0.6666666666666666,\"#ed7953\"],[0.7777777777777778,\"#fb9f3a\"],[0.8888888888888888,\"#fdca26\"],[1.0,\"#f0f921\"]]}],\"heatmapgl\":[{\"type\":\"heatmapgl\",\"colorbar\":{\"outlinewidth\":0,\"ticks\":\"\"},\"colorscale\":[[0.0,\"#0d0887\"],[0.1111111111111111,\"#46039f\"],[0.2222222222222222,\"#7201a8\"],[0.3333333333333333,\"#9c179e\"],[0.4444444444444444,\"#bd3786\"],[0.5555555555555556,\"#d8576b\"],[0.6666666666666666,\"#ed7953\"],[0.7777777777777778,\"#fb9f3a\"],[0.8888888888888888,\"#fdca26\"],[1.0,\"#f0f921\"]]}],\"contourcarpet\":[{\"type\":\"contourcarpet\",\"colorbar\":{\"outlinewidth\":0,\"ticks\":\"\"}}],\"contour\":[{\"type\":\"contour\",\"colorbar\":{\"outlinewidth\":0,\"ticks\":\"\"},\"colorscale\":[[0.0,\"#0d0887\"],[0.1111111111111111,\"#46039f\"],[0.2222222222222222,\"#7201a8\"],[0.3333333333333333,\"#9c179e\"],[0.4444444444444444,\"#bd3786\"],[0.5555555555555556,\"#d8576b\"],[0.6666666666666666,\"#ed7953\"],[0.7777777777777778,\"#fb9f3a\"],[0.8888888888888888,\"#fdca26\"],[1.0,\"#f0f921\"]]}],\"surface\":[{\"type\":\"surface\",\"colorbar\":{\"outlinewidth\":0,\"ticks\":\"\"},\"colorscale\":[[0.0,\"#0d0887\"],[0.1111111111111111,\"#46039f\"],[0.2222222222222222,\"#7201a8\"],[0.3333333333333333,\"#9c179e\"],[0.4444444444444444,\"#bd3786\"],[0.5555555555555556,\"#d8576b\"],[0.6666666666666666,\"#ed7953\"],[0.7777777777777778,\"#fb9f3a\"],[0.8888888888888888,\"#fdca26\"],[1.0,\"#f0f921\"]]}],\"mesh3d\":[{\"type\":\"mesh3d\",\"colorbar\":{\"outlinewidth\":0,\"ticks\":\"\"}}],\"scatter\":[{\"fillpattern\":{\"fillmode\":\"overlay\",\"size\":10,\"solidity\":0.2},\"type\":\"scatter\"}],\"parcoords\":[{\"type\":\"parcoords\",\"line\":{\"colorbar\":{\"outlinewidth\":0,\"ticks\":\"\"}}}],\"scatterpolargl\":[{\"type\":\"scatterpolargl\",\"marker\":{\"colorbar\":{\"outlinewidth\":0,\"ticks\":\"\"}}}],\"bar\":[{\"error_x\":{\"color\":\"#2a3f5f\"},\"error_y\":{\"color\":\"#2a3f5f\"},\"marker\":{\"line\":{\"color\":\"#E5ECF6\",\"width\":0.5},\"pattern\":{\"fillmode\":\"overlay\",\"size\":10,\"solidity\":0.2}},\"type\":\"bar\"}],\"scattergeo\":[{\"type\":\"scattergeo\",\"marker\":{\"colorbar\":{\"outlinewidth\":0,\"ticks\":\"\"}}}],\"scatterpolar\":[{\"type\":\"scatterpolar\",\"marker\":{\"colorbar\":{\"outlinewidth\":0,\"ticks\":\"\"}}}],\"histogram\":[{\"marker\":{\"pattern\":{\"fillmode\":\"overlay\",\"size\":10,\"solidity\":0.2}},\"type\":\"histogram\"}],\"scattergl\":[{\"type\":\"scattergl\",\"marker\":{\"colorbar\":{\"outlinewidth\":0,\"ticks\":\"\"}}}],\"scatter3d\":[{\"type\":\"scatter3d\",\"line\":{\"colorbar\":{\"outlinewidth\":0,\"ticks\":\"\"}},\"marker\":{\"colorbar\":{\"outlinewidth\":0,\"ticks\":\"\"}}}],\"scattermapbox\":[{\"type\":\"scattermapbox\",\"marker\":{\"colorbar\":{\"outlinewidth\":0,\"ticks\":\"\"}}}],\"scatterternary\":[{\"type\":\"scatterternary\",\"marker\":{\"colorbar\":{\"outlinewidth\":0,\"ticks\":\"\"}}}],\"scattercarpet\":[{\"type\":\"scattercarpet\",\"marker\":{\"colorbar\":{\"outlinewidth\":0,\"ticks\":\"\"}}}],\"carpet\":[{\"aaxis\":{\"endlinecolor\":\"#2a3f5f\",\"gridcolor\":\"white\",\"linecolor\":\"white\",\"minorgridcolor\":\"white\",\"startlinecolor\":\"#2a3f5f\"},\"baxis\":{\"endlinecolor\":\"#2a3f5f\",\"gridcolor\":\"white\",\"linecolor\":\"white\",\"minorgridcolor\":\"white\",\"startlinecolor\":\"#2a3f5f\"},\"type\":\"carpet\"}],\"table\":[{\"cells\":{\"fill\":{\"color\":\"#EBF0F8\"},\"line\":{\"color\":\"white\"}},\"header\":{\"fill\":{\"color\":\"#C8D4E3\"},\"line\":{\"color\":\"white\"}},\"type\":\"table\"}],\"barpolar\":[{\"marker\":{\"line\":{\"color\":\"#E5ECF6\",\"width\":0.5},\"pattern\":{\"fillmode\":\"overlay\",\"size\":10,\"solidity\":0.2}},\"type\":\"barpolar\"}],\"pie\":[{\"automargin\":true,\"type\":\"pie\"}]},\"layout\":{\"autotypenumbers\":\"strict\",\"colorway\":[\"#636efa\",\"#EF553B\",\"#00cc96\",\"#ab63fa\",\"#FFA15A\",\"#19d3f3\",\"#FF6692\",\"#B6E880\",\"#FF97FF\",\"#FECB52\"],\"font\":{\"color\":\"#2a3f5f\"},\"hovermode\":\"closest\",\"hoverlabel\":{\"align\":\"left\"},\"paper_bgcolor\":\"white\",\"plot_bgcolor\":\"#E5ECF6\",\"polar\":{\"bgcolor\":\"#E5ECF6\",\"angularaxis\":{\"gridcolor\":\"white\",\"linecolor\":\"white\",\"ticks\":\"\"},\"radialaxis\":{\"gridcolor\":\"white\",\"linecolor\":\"white\",\"ticks\":\"\"}},\"ternary\":{\"bgcolor\":\"#E5ECF6\",\"aaxis\":{\"gridcolor\":\"white\",\"linecolor\":\"white\",\"ticks\":\"\"},\"baxis\":{\"gridcolor\":\"white\",\"linecolor\":\"white\",\"ticks\":\"\"},\"caxis\":{\"gridcolor\":\"white\",\"linecolor\":\"white\",\"ticks\":\"\"}},\"coloraxis\":{\"colorbar\":{\"outlinewidth\":0,\"ticks\":\"\"}},\"colorscale\":{\"sequential\":[[0.0,\"#0d0887\"],[0.1111111111111111,\"#46039f\"],[0.2222222222222222,\"#7201a8\"],[0.3333333333333333,\"#9c179e\"],[0.4444444444444444,\"#bd3786\"],[0.5555555555555556,\"#d8576b\"],[0.6666666666666666,\"#ed7953\"],[0.7777777777777778,\"#fb9f3a\"],[0.8888888888888888,\"#fdca26\"],[1.0,\"#f0f921\"]],\"sequentialminus\":[[0.0,\"#0d0887\"],[0.1111111111111111,\"#46039f\"],[0.2222222222222222,\"#7201a8\"],[0.3333333333333333,\"#9c179e\"],[0.4444444444444444,\"#bd3786\"],[0.5555555555555556,\"#d8576b\"],[0.6666666666666666,\"#ed7953\"],[0.7777777777777778,\"#fb9f3a\"],[0.8888888888888888,\"#fdca26\"],[1.0,\"#f0f921\"]],\"diverging\":[[0,\"#8e0152\"],[0.1,\"#c51b7d\"],[0.2,\"#de77ae\"],[0.3,\"#f1b6da\"],[0.4,\"#fde0ef\"],[0.5,\"#f7f7f7\"],[0.6,\"#e6f5d0\"],[0.7,\"#b8e186\"],[0.8,\"#7fbc41\"],[0.9,\"#4d9221\"],[1,\"#276419\"]]},\"xaxis\":{\"gridcolor\":\"white\",\"linecolor\":\"white\",\"ticks\":\"\",\"title\":{\"standoff\":15},\"zerolinecolor\":\"white\",\"automargin\":true,\"zerolinewidth\":2},\"yaxis\":{\"gridcolor\":\"white\",\"linecolor\":\"white\",\"ticks\":\"\",\"title\":{\"standoff\":15},\"zerolinecolor\":\"white\",\"automargin\":true,\"zerolinewidth\":2},\"scene\":{\"xaxis\":{\"backgroundcolor\":\"#E5ECF6\",\"gridcolor\":\"white\",\"linecolor\":\"white\",\"showbackground\":true,\"ticks\":\"\",\"zerolinecolor\":\"white\",\"gridwidth\":2},\"yaxis\":{\"backgroundcolor\":\"#E5ECF6\",\"gridcolor\":\"white\",\"linecolor\":\"white\",\"showbackground\":true,\"ticks\":\"\",\"zerolinecolor\":\"white\",\"gridwidth\":2},\"zaxis\":{\"backgroundcolor\":\"#E5ECF6\",\"gridcolor\":\"white\",\"linecolor\":\"white\",\"showbackground\":true,\"ticks\":\"\",\"zerolinecolor\":\"white\",\"gridwidth\":2}},\"shapedefaults\":{\"line\":{\"color\":\"#2a3f5f\"}},\"annotationdefaults\":{\"arrowcolor\":\"#2a3f5f\",\"arrowhead\":0,\"arrowwidth\":1},\"geo\":{\"bgcolor\":\"white\",\"landcolor\":\"#E5ECF6\",\"subunitcolor\":\"white\",\"showland\":true,\"showlakes\":true,\"lakecolor\":\"white\"},\"title\":{\"x\":0.05},\"mapbox\":{\"style\":\"light\"}}}},                        {\"responsive\": true}                    ).then(function(){\n",
       "                            \n",
       "var gd = document.getElementById('240db136-5a5b-4cc8-945d-8607c89e9028');\n",
       "var x = new MutationObserver(function (mutations, observer) {{\n",
       "        var display = window.getComputedStyle(gd).display;\n",
       "        if (!display || display === 'none') {{\n",
       "            console.log([gd, 'removed!']);\n",
       "            Plotly.purge(gd);\n",
       "            observer.disconnect();\n",
       "        }}\n",
       "}});\n",
       "\n",
       "// Listen for the removal of the full notebook cells\n",
       "var notebookContainer = gd.closest('#notebook-container');\n",
       "if (notebookContainer) {{\n",
       "    x.observe(notebookContainer, {childList: true});\n",
       "}}\n",
       "\n",
       "// Listen for the clearing of the current output cell\n",
       "var outputEl = gd.closest('.output');\n",
       "if (outputEl) {{\n",
       "    x.observe(outputEl, {childList: true});\n",
       "}}\n",
       "\n",
       "                        })                };                });            </script>        </div>"
      ]
     },
     "metadata": {},
     "output_type": "display_data"
    }
   ],
   "source": [
    "# partial coord plot\n",
    "\n",
    "optuna.visualization.plot_parallel_coordinate(study,params=[\"model\"])"
   ]
  },
  {
   "cell_type": "code",
   "execution_count": null,
   "metadata": {},
   "outputs": [],
   "source": []
  },
  {
   "cell_type": "code",
   "execution_count": null,
   "metadata": {},
   "outputs": [],
   "source": []
  },
  {
   "cell_type": "code",
   "execution_count": null,
   "metadata": {},
   "outputs": [],
   "source": []
  }
 ],
 "metadata": {
  "colab": {
   "authorship_tag": "ABX9TyOIbNJrqw+ZGy7PMpvU/cs+",
   "provenance": [
    {
     "file_id": "1lUUwCHqX7pdAiro8G4PmLVfLiSjS7_m9",
     "timestamp": 1732728202720
    },
    {
     "file_id": "1tAW-Lz0km1DmXZaNnqykEtoDCIi66fX1",
     "timestamp": 1732720262120
    },
    {
     "file_id": "12bB6Q1Ea3P_HEt20n-bXudGxeViPDgqg",
     "timestamp": 1732719662189
    }
   ]
  },
  "kernelspec": {
   "display_name": "Python 3 (ipykernel)",
   "language": "python",
   "name": "python3"
  },
  "language_info": {
   "codemirror_mode": {
    "name": "ipython",
    "version": 3
   },
   "file_extension": ".py",
   "mimetype": "text/x-python",
   "name": "python",
   "nbconvert_exporter": "python",
   "pygments_lexer": "ipython3",
   "version": "3.12.4"
  }
 },
 "nbformat": 4,
 "nbformat_minor": 4
}
